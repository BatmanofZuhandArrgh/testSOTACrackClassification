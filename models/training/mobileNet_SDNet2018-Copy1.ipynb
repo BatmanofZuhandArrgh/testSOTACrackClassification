{
 "cells": [
  {
   "cell_type": "code",
   "execution_count": 1,
   "id": "0f060c03",
   "metadata": {},
   "outputs": [
    {
     "data": {
      "text/plain": [
       "<torch._C.Generator at 0x7f0ca1fb9b70>"
      ]
     },
     "execution_count": 1,
     "metadata": {},
     "output_type": "execute_result"
    }
   ],
   "source": [
    "import warnings\n",
    "warnings.filterwarnings(\"ignore\")\n",
    "\n",
    "import os\n",
    "import glob as glob\n",
    "import random\n",
    "import cv2\n",
    "import pprint\n",
    "import numpy as np\n",
    "import pandas as pd\n",
    "import matplotlib.pyplot as plt\n",
    "from sklearn.model_selection import train_test_split\n",
    "from PIL import Image\n",
    "from sklearn.metrics import confusion_matrix, classification_report, f1_score\n",
    "# from tqdm import tqdm\n",
    "from tqdm.notebook import tqdm\n",
    "\n",
    "\n",
    "import torch\n",
    "import torch.nn as nn\n",
    "import torch.optim as optim\n",
    "import torchvision.transforms.functional as F\n",
    "\n",
    "from torch.utils.data import Dataset\n",
    "from torchvision import io, datasets, models, transforms\n",
    "\n",
    "random.seed(0)\n",
    "torch.manual_seed(0)"
   ]
  },
  {
   "cell_type": "code",
   "execution_count": 2,
   "id": "774c48c3",
   "metadata": {},
   "outputs": [
    {
     "data": {
      "text/plain": [
       "'/home/anhnguyen/Documents/testSOTACrackClassification/models/training'"
      ]
     },
     "execution_count": 2,
     "metadata": {},
     "output_type": "execute_result"
    }
   ],
   "source": [
    "os.getcwd()"
   ]
  },
  {
   "cell_type": "code",
   "execution_count": 3,
   "id": "1e44bb89",
   "metadata": {},
   "outputs": [],
   "source": [
    "data_dir = '../../datasets/DATA_Maguire_20180517_ALL'\n",
    "img_list = glob.glob(f'{data_dir}/**/*.jpg', recursive=True)\n",
    "all_Y = [1 if 'U' not in x else 0 for x in img_list]\n"
   ]
  },
  {
   "cell_type": "code",
   "execution_count": 4,
   "id": "527bae10",
   "metadata": {},
   "outputs": [
    {
     "name": "stdout",
     "output_type": "stream",
     "text": [
      "[0 1] [47608  8484]\n"
     ]
    },
    {
     "data": {
      "image/png": "[encoded data removed]",
      "text/plain": [
       "<Figure size 720x360 with 1 Axes>"
      ]
     },
     "metadata": {
      "needs_background": "light"
     },
     "output_type": "display_data"
    }
   ],
   "source": [
    "label_values = all_Y\n",
    "values, counts = np.unique(label_values, return_counts = True)\n",
    "\n",
    "fig = plt.figure(figsize = (10, 5))\n",
    " \n",
    "# creating the bar plot\n",
    "plt.bar(values, counts, color ='maroon',\n",
    "        width = 0.4)\n",
    "print(values, counts)\n",
    " \n",
    "plt.xlabel(\"Ratings\")\n",
    "plt.ylabel(\"Number of pads\")\n",
    "plt.title(\"Pad ratings\")\n",
    "plt.show()\n",
    "num_classes = len(values)"
   ]
  },
  {
   "cell_type": "code",
   "execution_count": 5,
   "id": "1c78342e",
   "metadata": {},
   "outputs": [
    {
     "name": "stdout",
     "output_type": "stream",
     "text": [
      "8484 39124\n"
     ]
    }
   ],
   "source": [
    "#Sample for balance dataset:\n",
    "non_crack_img_list = [path for path, element in zip(img_list, all_Y) if element == 0]\n",
    "non_crack_to_train = random.sample(non_crack_img_list, counts[1])\n",
    "non_crack_left = [x for x in non_crack_img_list if x not in non_crack_to_train]\n",
    "print(len(non_crack_to_train), len(non_crack_left))"
   ]
  },
  {
   "cell_type": "code",
   "execution_count": 6,
   "id": "623fc35c",
   "metadata": {},
   "outputs": [
    {
     "name": "stdout",
     "output_type": "stream",
     "text": [
      "8484\n"
     ]
    }
   ],
   "source": [
    "crack_img_list = [path for path, element in zip(img_list, all_Y) if element == 1]\n",
    "print(len(crack_img_list))"
   ]
  },
  {
   "cell_type": "code",
   "execution_count": 7,
   "id": "3b39e539",
   "metadata": {},
   "outputs": [
    {
     "name": "stdout",
     "output_type": "stream",
     "text": [
      "16968\n",
      "(array([0, 1]), array([8484, 8484]))\n"
     ]
    }
   ],
   "source": [
    "X = crack_img_list+non_crack_to_train\n",
    "print(len(X))\n",
    "y = [1 for x in range(len(crack_img_list))] + [0 for x in range(len(non_crack_to_train))]\n",
    "print(np.unique(y, return_counts=True))"
   ]
  },
  {
   "cell_type": "code",
   "execution_count": 8,
   "id": "32203b0e",
   "metadata": {},
   "outputs": [
    {
     "name": "stdout",
     "output_type": "stream",
     "text": [
      "10180 3394 3394\n"
     ]
    }
   ],
   "source": [
    "X_train, X_test, y_train, y_test = \\\n",
    "    train_test_split(X, y, test_size=0.2, random_state=1, stratify = y)\n",
    "\n",
    "X_train, X_val, y_train, y_val = \\\n",
    "    train_test_split(X_train, y_train, test_size=0.25, random_state=1, stratify = y_train)\n",
    "print(len(X_train), len(X_val), len(X_test))"
   ]
  },
  {
   "cell_type": "code",
   "execution_count": 9,
   "id": "315b50a8",
   "metadata": {},
   "outputs": [],
   "source": [
    "#Adding the rest of the non-crack into y_test\n",
    "X_test.extend(non_crack_left)\n",
    "y_test.extend([0 for x in non_crack_left])"
   ]
  },
  {
   "cell_type": "code",
   "execution_count": 10,
   "id": "f4124e2a",
   "metadata": {},
   "outputs": [],
   "source": [
    "#create dataset from dataframe\n",
    "class CrackDataset(Dataset):\n",
    "    def __init__(self, X, y, transforms=None):\n",
    "        self.X = X\n",
    "        self.y = y\n",
    "        self.transforms = transforms\n",
    "\n",
    "    def __len__(self):\n",
    "        return len(self.X)\n",
    "\n",
    "    def __getitem__(self, idx):\n",
    "        label = torch.tensor(self.y[idx],dtype=torch.long)\n",
    "        \n",
    "        img_path = self.X[idx]\n",
    "        \n",
    "        img = cv2.imread(img_path)\n",
    "        img = cv2.cvtColor(img, cv2.COLOR_BGR2RGB)\n",
    "        \n",
    "        if(img.shape[:2] != (224,224)):\n",
    "            img = cv2.resize(img,(224,224))\n",
    "        \n",
    "        img = Image.fromarray(np.uint8(img)).convert('RGB')\n",
    "\n",
    "        if self.transforms is not None:\n",
    "            img = self.transforms(img)\n",
    "            \n",
    "        return img, label"
   ]
  },
  {
   "cell_type": "code",
   "execution_count": 11,
   "id": "ff3c70a1",
   "metadata": {},
   "outputs": [
    {
     "name": "stdout",
     "output_type": "stream",
     "text": [
      "cuda:0\n"
     ]
    }
   ],
   "source": [
    "from sklearn.model_selection import train_test_split  \n",
    "\n",
    "device = torch.device(\"cuda:0\" if torch.cuda.is_available() else \"cpu\")\n",
    "print(device)\n",
    "\n",
    "# normalize = transforms.Normalize(mean=[0.485, 0.456, 0.406],\n",
    "#                                  std=[0.229, 0.224, 0.225])\n",
    "\n",
    "data_transforms = {\n",
    "    'train':\n",
    "    transforms.Compose([\n",
    "#         transforms.Resize((224,224)),\n",
    "        transforms.RandomHorizontalFlip(),\n",
    "        transforms.RandomVerticalFlip(),\n",
    "        transforms.RandomAdjustSharpness(sharpness_factor=2),\n",
    "        transforms.RandomAutocontrast(),\n",
    "        transforms.ToTensor(),\n",
    "#         normalize\n",
    "    ]),\n",
    "    'validation':\n",
    "    transforms.Compose([\n",
    "#         transforms.Resize((224,224)),\n",
    "        transforms.ToTensor(),\n",
    "#         normalize\n",
    "    ]),\n",
    "}\n",
    "\n",
    "#load data from a list of paths\n",
    "image_datasets = {\n",
    "    'train': \n",
    "    CrackDataset(X_train, y_train, transforms=data_transforms['train']),\n",
    "    'validation': \n",
    "    CrackDataset(X_val, y_val, transforms=data_transforms['validation']),\n",
    "    'test': \n",
    "    CrackDataset(X_test, y_test, transforms=data_transforms['validation'])\n",
    "}\n",
    "\n",
    "batch_size = 32\n",
    "num_workers = 4\n",
    "dataloaders = {\n",
    "    'train':\n",
    "    torch.utils.data.DataLoader(image_datasets['train'],\n",
    "                                batch_size=batch_size,\n",
    "                                shuffle=True,\n",
    "                                num_workers=num_workers),\n",
    "    'validation':\n",
    "    torch.utils.data.DataLoader(image_datasets['validation'],\n",
    "                                batch_size=batch_size,\n",
    "                                shuffle=False,\n",
    "                                num_workers=num_workers),\n",
    "    'test':\n",
    "    torch.utils.data.DataLoader(image_datasets['test'],\n",
    "                                batch_size=batch_size,\n",
    "                                shuffle=False,\n",
    "                                num_workers=num_workers),\n",
    "}\n",
    "\n"
   ]
  },
  {
   "cell_type": "code",
   "execution_count": 12,
   "id": "33cce16f",
   "metadata": {},
   "outputs": [],
   "source": [
    "#Model define\n",
    "model = models.mobilenet_v2(pretrained=True, progress=False).to(device)\n"
   ]
  },
  {
   "cell_type": "code",
   "execution_count": 13,
   "id": "e10db46f",
   "metadata": {},
   "outputs": [],
   "source": [
    "# for param in model.parameters():\n",
    "#     param.requires_grad = False   \n",
    "\n",
    "num_classes = 2\n",
    "model.classifier = nn.Sequential(\n",
    "               nn.Linear(1280, 128),\n",
    "               nn.ReLU(inplace=True),\n",
    "               nn.Linear(128, num_classes)\n",
    "               ).to(device)"
   ]
  },
  {
   "cell_type": "code",
   "execution_count": 14,
   "id": "300348bb",
   "metadata": {},
   "outputs": [],
   "source": [
    "# #Naive class weights\n",
    "# from sklearn.utils import class_weight\n",
    "# class_weights_array = class_weight.compute_class_weight('balanced', classes = np.unique(np.asarray(labels)), y = np.asarray(labels))\n",
    "# class_weights = torch.from_numpy(class_weights_array)\n",
    "# class_weights = torch.tensor(class_weights, dtype = torch.float32).to(device)\n",
    "# print('class_weight_array',class_weights)"
   ]
  },
  {
   "cell_type": "code",
   "execution_count": 15,
   "id": "dc5bacea",
   "metadata": {},
   "outputs": [
    {
     "data": {
      "text/plain": [
       "'/home/anhnguyen/Documents/testSOTACrackClassification/models/training'"
      ]
     },
     "execution_count": 15,
     "metadata": {},
     "output_type": "execute_result"
    }
   ],
   "source": [
    "os.getcwd()"
   ]
  },
  {
   "cell_type": "code",
   "execution_count": 16,
   "id": "eda04758",
   "metadata": {},
   "outputs": [],
   "source": [
    "model_save_path = \"weights\"\n",
    "os.makedirs(model_save_path, exist_ok = True)"
   ]
  },
  {
   "cell_type": "code",
   "execution_count": 17,
   "id": "06b027c9",
   "metadata": {},
   "outputs": [],
   "source": [
    "criterion = nn.CrossEntropyLoss()#weight = class_weights)\n",
    "lr=0.01\n",
    "optimizer = optim.Adam(model.parameters(), lr = lr)\n",
    "f1_diff_threshold = 0.0005\n",
    "patience = 100\n",
    "num_epochs = 300\n",
    "run_name = model_save_path.split('/')[-1]\n",
    "scheduler = optim.lr_scheduler.ReduceLROnPlateau(optimizer, 'min', patience = 33, verbose = True)\n",
    "\n",
    "def train_model(model, \n",
    "                criterion, \n",
    "                optimizer, \n",
    "                num_epochs=3, \n",
    "                f1_diff_threshold = f1_diff_threshold, \n",
    "                patience = patience, \n",
    "                model_save_path = model_save_path,\n",
    "                run_name = run_name,\n",
    "               ):\n",
    "    validation_f1s = []\n",
    "    max_f1_index = 0\n",
    "    num_epochs_not_improving = 0\n",
    "    metrics = {\n",
    "        'validation_f1s': [], \n",
    "        'validation_accs': [],\n",
    "        'validation_loss': [],\n",
    "        'training_f1s': [], \n",
    "        'training_accs': [], \n",
    "        'training_loss': [],\n",
    "    }\n",
    "\n",
    "    for epoch in range(num_epochs):\n",
    "        print('Epoch {}/{}'.format(epoch+1, num_epochs))\n",
    "        print('-' * 10)\n",
    "\n",
    "        for phase in ['train', 'validation']:\n",
    "            if phase == 'train':\n",
    "                model.train()\n",
    "            else:\n",
    "                model.eval()\n",
    "\n",
    "            running_loss = 0.0\n",
    "            running_corrects = 0\n",
    "\n",
    "            pred_c = np.array([])\n",
    "            label_c = np.array([])\n",
    "\n",
    "            print(phase, ':')\n",
    "\n",
    "            for inputs, labels in tqdm(dataloaders[phase]):                \n",
    "                inputs = inputs.to(device)\n",
    "                labels = labels.to(device)\n",
    "                optimizer.zero_grad()\n",
    "\n",
    "                outputs = model(inputs)\n",
    "                loss = criterion(outputs, labels)\n",
    "#                     loss = CB_loss(labels, logits, samples_per_cls, no_of_classes,loss_type, beta, gamma)\n",
    "\n",
    "                if phase == 'train':\n",
    "                    loss.backward()\n",
    "                    optimizer.step()\n",
    "\n",
    "                _, preds = torch.max(outputs, 1)\n",
    "                running_loss += loss.item() * inputs.size(0)\n",
    "                running_corrects += torch.sum(preds == labels.data)\n",
    "\n",
    "                label_c = np.concatenate((label_c, labels.data.cpu().numpy()))\n",
    "                pred_c = np.concatenate((pred_c, preds.cpu().numpy()))\n",
    "            f1 = f1_score(y_true = label_c, y_pred = pred_c, average = 'micro')\n",
    "            epoch_loss = running_loss / len(image_datasets[phase])\n",
    "            epoch_acc = (running_corrects*1.0) / len(image_datasets[phase])\n",
    "\n",
    "\n",
    "            if phase == 'validation':\n",
    "                cf = confusion_matrix(label_c, pred_c)\n",
    "                print(cf)\n",
    "\n",
    "                validation_f1s.append(f1)\n",
    "                metrics['validation_f1s'].append(f1)\n",
    "                metrics['validation_accs'].append(float(epoch_acc))\n",
    "                metrics['validation_loss'].append(epoch_loss)\n",
    "\n",
    "                if f1 - validation_f1s[max_f1_index] > f1_diff_threshold:\n",
    "                    max_f1_index = len(validation_f1s) - 1\n",
    "                    num_epochs_not_improving = 0\n",
    "\n",
    "                    # Save model\n",
    "                    print(f\"Saving model at epoch {epoch}\")\n",
    "                    torch.save(model, f'{model_save_path}/model.pth')\n",
    "\n",
    "                elif f1 - validation_f1s[max_f1_index] <= f1_diff_threshold:\n",
    "                    num_epochs_not_improving += 1\n",
    "                    if(num_epochs_not_improving > patience):\n",
    "                        torch.save(model, f'{model_save_path}/last_model.pth')\n",
    "                        print(f'Early Stopping at epoch {epoch} ')\n",
    "                        return model\n",
    "\n",
    "            elif phase == 'train':\n",
    "                metrics['training_f1s'].append(f1)\n",
    "                metrics['training_accs'].append(float(epoch_acc))\n",
    "                metrics['training_loss'].append(epoch_loss)\n",
    "                scheduler.step(epoch_loss)\n",
    "\n",
    "            print('{} loss: {:.4f}, acc: {:.4f}, f1: {:.4f}'.format(phase,\n",
    "                                                                    epoch_loss,\n",
    "                                                                    epoch_acc, \n",
    "                                                                    f1))\n",
    "\n",
    "    torch.save(model, f'{model_save_path}/last_model.pth')\n",
    "    print(f'Ran all {num_epochs} epochs')\n",
    "    return model, metrics\n",
    "\n"
   ]
  },
  {
   "cell_type": "code",
   "execution_count": null,
   "id": "46b3c14c",
   "metadata": {
    "scrolled": true
   },
   "outputs": [
    {
     "name": "stdout",
     "output_type": "stream",
     "text": [
      "Epoch 1/300\n",
      "----------\n",
      "train :\n"
     ]
    },
    {
     "data": {
      "application/vnd.jupyter.widget-view+json": {
       "model_id": "05a5dcae1ffb43aab88b8f928eec993c",
       "version_major": 2,
       "version_minor": 0
      },
      "text/plain": [
       "  0%|          | 0/319 [00:00<?, ?it/s]"
      ]
     },
     "metadata": {},
     "output_type": "display_data"
    },
    {
     "name": "stdout",
     "output_type": "stream",
     "text": [
      "train loss: 0.7466, acc: 0.5635, f1: 0.5635\n",
      "validation :\n"
     ]
    },
    {
     "data": {
      "application/vnd.jupyter.widget-view+json": {
       "model_id": "dfa1f75f32e340e39509da9bcdf5c0bf",
       "version_major": 2,
       "version_minor": 0
      },
      "text/plain": [
       "  0%|          | 0/107 [00:00<?, ?it/s]"
      ]
     },
     "metadata": {},
     "output_type": "display_data"
    },
    {
     "name": "stdout",
     "output_type": "stream",
     "text": [
      "[[ 511 1186]\n",
      " [ 294 1403]]\n",
      "validation loss: 0.6866, acc: 0.5639, f1: 0.5639\n",
      "Epoch 2/300\n",
      "----------\n",
      "train :\n"
     ]
    },
    {
     "data": {
      "application/vnd.jupyter.widget-view+json": {
       "model_id": "dd11cc13088b4bda9c9600391f64b052",
       "version_major": 2,
       "version_minor": 0
      },
      "text/plain": [
       "  0%|          | 0/319 [00:00<?, ?it/s]"
      ]
     },
     "metadata": {},
     "output_type": "display_data"
    },
    {
     "name": "stdout",
     "output_type": "stream",
     "text": [
      "train loss: 0.6676, acc: 0.6005, f1: 0.6005\n",
      "validation :\n"
     ]
    },
    {
     "data": {
      "application/vnd.jupyter.widget-view+json": {
       "model_id": "d8e155a61bf748af91e278952696c299",
       "version_major": 2,
       "version_minor": 0
      },
      "text/plain": [
       "  0%|          | 0/107 [00:00<?, ?it/s]"
      ]
     },
     "metadata": {},
     "output_type": "display_data"
    },
    {
     "name": "stdout",
     "output_type": "stream",
     "text": [
      "[[1353  344]\n",
      " [ 948  749]]\n",
      "validation loss: 0.6645, acc: 0.6193, f1: 0.6193\n",
      "Epoch 3/300\n",
      "----------\n",
      "train :\n"
     ]
    },
    {
     "data": {
      "application/vnd.jupyter.widget-view+json": {
       "model_id": "4abf86b58b65402a8c10df1ab7873d0c",
       "version_major": 2,
       "version_minor": 0
      },
      "text/plain": [
       "  0%|          | 0/319 [00:00<?, ?it/s]"
      ]
     },
     "metadata": {},
     "output_type": "display_data"
    },
    {
     "name": "stdout",
     "output_type": "stream",
     "text": [
      "train loss: 0.6430, acc: 0.6412, f1: 0.6412\n",
      "validation :\n"
     ]
    },
    {
     "data": {
      "application/vnd.jupyter.widget-view+json": {
       "model_id": "e29e8ab4ec574c988c881fb11380766a",
       "version_major": 2,
       "version_minor": 0
      },
      "text/plain": [
       "  0%|          | 0/107 [00:00<?, ?it/s]"
      ]
     },
     "metadata": {},
     "output_type": "display_data"
    },
    {
     "name": "stdout",
     "output_type": "stream",
     "text": [
      "[[ 972  725]\n",
      " [ 425 1272]]\n",
      "validation loss: 0.6293, acc: 0.6612, f1: 0.6612\n",
      "Epoch 4/300\n",
      "----------\n",
      "train :\n"
     ]
    },
    {
     "data": {
      "application/vnd.jupyter.widget-view+json": {
       "model_id": "6df70ff310fa42eda8734f2358bb56e5",
       "version_major": 2,
       "version_minor": 0
      },
      "text/plain": [
       "  0%|          | 0/319 [00:00<?, ?it/s]"
      ]
     },
     "metadata": {},
     "output_type": "display_data"
    },
    {
     "name": "stdout",
     "output_type": "stream",
     "text": [
      "train loss: 0.6398, acc: 0.6439, f1: 0.6439\n",
      "validation :\n"
     ]
    },
    {
     "data": {
      "application/vnd.jupyter.widget-view+json": {
       "model_id": "678ae809f253417498504974dc9f32fe",
       "version_major": 2,
       "version_minor": 0
      },
      "text/plain": [
       "  0%|          | 0/107 [00:00<?, ?it/s]"
      ]
     },
     "metadata": {},
     "output_type": "display_data"
    },
    {
     "name": "stdout",
     "output_type": "stream",
     "text": [
      "[[ 906  791]\n",
      " [ 356 1341]]\n",
      "validation loss: 0.6286, acc: 0.6621, f1: 0.6621\n",
      "Epoch 5/300\n",
      "----------\n",
      "train :\n"
     ]
    },
    {
     "data": {
      "application/vnd.jupyter.widget-view+json": {
       "model_id": "02d544dec816439780db8438ad260fc7",
       "version_major": 2,
       "version_minor": 0
      },
      "text/plain": [
       "  0%|          | 0/319 [00:00<?, ?it/s]"
      ]
     },
     "metadata": {},
     "output_type": "display_data"
    },
    {
     "name": "stdout",
     "output_type": "stream",
     "text": [
      "train loss: 0.6228, acc: 0.6577, f1: 0.6577\n",
      "validation :\n"
     ]
    },
    {
     "data": {
      "application/vnd.jupyter.widget-view+json": {
       "model_id": "3bfff07f8735412f9d11ae675c983644",
       "version_major": 2,
       "version_minor": 0
      },
      "text/plain": [
       "  0%|          | 0/107 [00:00<?, ?it/s]"
      ]
     },
     "metadata": {},
     "output_type": "display_data"
    },
    {
     "name": "stdout",
     "output_type": "stream",
     "text": [
      "[[1359  338]\n",
      " [ 835  862]]\n",
      "validation loss: 0.6268, acc: 0.6544, f1: 0.6544\n",
      "Epoch 6/300\n",
      "----------\n",
      "train :\n"
     ]
    },
    {
     "data": {
      "application/vnd.jupyter.widget-view+json": {
       "model_id": "c6007efd85d54eab8571249fb7f5e1d3",
       "version_major": 2,
       "version_minor": 0
      },
      "text/plain": [
       "  0%|          | 0/319 [00:00<?, ?it/s]"
      ]
     },
     "metadata": {},
     "output_type": "display_data"
    },
    {
     "name": "stdout",
     "output_type": "stream",
     "text": [
      "train loss: 0.6147, acc: 0.6696, f1: 0.6696\n",
      "validation :\n"
     ]
    },
    {
     "data": {
      "application/vnd.jupyter.widget-view+json": {
       "model_id": "ae1aa77152064b7b95fd8ba73a59925b",
       "version_major": 2,
       "version_minor": 0
      },
      "text/plain": [
       "  0%|          | 0/107 [00:00<?, ?it/s]"
      ]
     },
     "metadata": {},
     "output_type": "display_data"
    },
    {
     "name": "stdout",
     "output_type": "stream",
     "text": [
      "[[1224  473]\n",
      " [ 575 1122]]\n",
      "validation loss: 0.5951, acc: 0.6912, f1: 0.6912\n",
      "Epoch 7/300\n",
      "----------\n",
      "train :\n"
     ]
    },
    {
     "data": {
      "application/vnd.jupyter.widget-view+json": {
       "model_id": "fd5688d7da5242988d6f8f26efeba6b8",
       "version_major": 2,
       "version_minor": 0
      },
      "text/plain": [
       "  0%|          | 0/319 [00:00<?, ?it/s]"
      ]
     },
     "metadata": {},
     "output_type": "display_data"
    },
    {
     "name": "stdout",
     "output_type": "stream",
     "text": [
      "train loss: 0.6111, acc: 0.6633, f1: 0.6633\n",
      "validation :\n"
     ]
    },
    {
     "data": {
      "application/vnd.jupyter.widget-view+json": {
       "model_id": "19733c04c87b4d60a7b59e7049f7af0f",
       "version_major": 2,
       "version_minor": 0
      },
      "text/plain": [
       "  0%|          | 0/107 [00:00<?, ?it/s]"
      ]
     },
     "metadata": {},
     "output_type": "display_data"
    },
    {
     "name": "stdout",
     "output_type": "stream",
     "text": [
      "[[ 727  970]\n",
      " [ 202 1495]]\n",
      "validation loss: 0.6161, acc: 0.6547, f1: 0.6547\n",
      "Epoch 8/300\n",
      "----------\n",
      "train :\n"
     ]
    },
    {
     "data": {
      "application/vnd.jupyter.widget-view+json": {
       "model_id": "d8749326732a4aa8a160df37d6e8af68",
       "version_major": 2,
       "version_minor": 0
      },
      "text/plain": [
       "  0%|          | 0/319 [00:00<?, ?it/s]"
      ]
     },
     "metadata": {},
     "output_type": "display_data"
    },
    {
     "name": "stdout",
     "output_type": "stream",
     "text": [
      "train loss: 0.6041, acc: 0.6781, f1: 0.6781\n",
      "validation :\n"
     ]
    },
    {
     "data": {
      "application/vnd.jupyter.widget-view+json": {
       "model_id": "6704567cb42d4f6189253156a24e48f6",
       "version_major": 2,
       "version_minor": 0
      },
      "text/plain": [
       "  0%|          | 0/107 [00:00<?, ?it/s]"
      ]
     },
     "metadata": {},
     "output_type": "display_data"
    },
    {
     "name": "stdout",
     "output_type": "stream",
     "text": [
      "[[1519  178]\n",
      " [1159  538]]\n",
      "validation loss: 0.7751, acc: 0.6061, f1: 0.6061\n",
      "Epoch 9/300\n",
      "----------\n",
      "train :\n"
     ]
    },
    {
     "data": {
      "application/vnd.jupyter.widget-view+json": {
       "model_id": "e4eb4ddd1a934e359b35e8b9f04963f0",
       "version_major": 2,
       "version_minor": 0
      },
      "text/plain": [
       "  0%|          | 0/319 [00:00<?, ?it/s]"
      ]
     },
     "metadata": {},
     "output_type": "display_data"
    },
    {
     "name": "stdout",
     "output_type": "stream",
     "text": [
      "train loss: 0.5957, acc: 0.6771, f1: 0.6771\n",
      "validation :\n"
     ]
    },
    {
     "data": {
      "application/vnd.jupyter.widget-view+json": {
       "model_id": "394e37f3376a451ca4a7cfcb71528ee8",
       "version_major": 2,
       "version_minor": 0
      },
      "text/plain": [
       "  0%|          | 0/107 [00:00<?, ?it/s]"
      ]
     },
     "metadata": {},
     "output_type": "display_data"
    },
    {
     "name": "stdout",
     "output_type": "stream",
     "text": [
      "[[ 669 1028]\n",
      " [ 294 1403]]\n",
      "validation loss: 0.6268, acc: 0.6105, f1: 0.6105\n",
      "Epoch 10/300\n",
      "----------\n",
      "train :\n"
     ]
    },
    {
     "data": {
      "application/vnd.jupyter.widget-view+json": {
       "model_id": "4eeae80f2e0c44cd9eee9b765395ae16",
       "version_major": 2,
       "version_minor": 0
      },
      "text/plain": [
       "  0%|          | 0/319 [00:00<?, ?it/s]"
      ]
     },
     "metadata": {},
     "output_type": "display_data"
    },
    {
     "name": "stdout",
     "output_type": "stream",
     "text": [
      "train loss: 0.5873, acc: 0.6866, f1: 0.6866\n",
      "validation :\n"
     ]
    },
    {
     "data": {
      "application/vnd.jupyter.widget-view+json": {
       "model_id": "40e4e82b09c94dd4a6ffe3f63d7b07ab",
       "version_major": 2,
       "version_minor": 0
      },
      "text/plain": [
       "  0%|          | 0/107 [00:00<?, ?it/s]"
      ]
     },
     "metadata": {},
     "output_type": "display_data"
    },
    {
     "name": "stdout",
     "output_type": "stream",
     "text": [
      "[[ 487 1210]\n",
      " [  80 1617]]\n",
      "validation loss: 0.6251, acc: 0.6199, f1: 0.6199\n",
      "Epoch 11/300\n",
      "----------\n",
      "train :\n"
     ]
    },
    {
     "data": {
      "application/vnd.jupyter.widget-view+json": {
       "model_id": "539a7e83b4594da2a8c945f298bacf58",
       "version_major": 2,
       "version_minor": 0
      },
      "text/plain": [
       "  0%|          | 0/319 [00:00<?, ?it/s]"
      ]
     },
     "metadata": {},
     "output_type": "display_data"
    },
    {
     "name": "stdout",
     "output_type": "stream",
     "text": [
      "train loss: 0.5750, acc: 0.6949, f1: 0.6949\n",
      "validation :\n"
     ]
    },
    {
     "data": {
      "application/vnd.jupyter.widget-view+json": {
       "model_id": "49a8149524064635b26b3682050518ec",
       "version_major": 2,
       "version_minor": 0
      },
      "text/plain": [
       "  0%|          | 0/107 [00:00<?, ?it/s]"
      ]
     },
     "metadata": {},
     "output_type": "display_data"
    },
    {
     "name": "stdout",
     "output_type": "stream",
     "text": [
      "[[1561  136]\n",
      " [ 945  752]]\n",
      "validation loss: 0.6024, acc: 0.6815, f1: 0.6815\n",
      "Epoch 12/300\n",
      "----------\n",
      "train :\n"
     ]
    },
    {
     "data": {
      "application/vnd.jupyter.widget-view+json": {
       "model_id": "dd77b6c4546942378b094977e12b6f0d",
       "version_major": 2,
       "version_minor": 0
      },
      "text/plain": [
       "  0%|          | 0/319 [00:00<?, ?it/s]"
      ]
     },
     "metadata": {},
     "output_type": "display_data"
    },
    {
     "name": "stdout",
     "output_type": "stream",
     "text": [
      "train loss: 0.6018, acc: 0.6657, f1: 0.6657\n",
      "validation :\n"
     ]
    },
    {
     "data": {
      "application/vnd.jupyter.widget-view+json": {
       "model_id": "cadb72d07a7b4824bb86392146673588",
       "version_major": 2,
       "version_minor": 0
      },
      "text/plain": [
       "  0%|          | 0/107 [00:00<?, ?it/s]"
      ]
     },
     "metadata": {},
     "output_type": "display_data"
    },
    {
     "name": "stdout",
     "output_type": "stream",
     "text": [
      "[[1526  171]\n",
      " [ 911  786]]\n",
      "validation loss: 0.5721, acc: 0.6812, f1: 0.6812\n",
      "Epoch 13/300\n",
      "----------\n",
      "train :\n"
     ]
    },
    {
     "data": {
      "application/vnd.jupyter.widget-view+json": {
       "model_id": "6ed5d69160864c00937274db05f1232d",
       "version_major": 2,
       "version_minor": 0
      },
      "text/plain": [
       "  0%|          | 0/319 [00:00<?, ?it/s]"
      ]
     },
     "metadata": {},
     "output_type": "display_data"
    },
    {
     "name": "stdout",
     "output_type": "stream",
     "text": [
      "train loss: 0.5675, acc: 0.7027, f1: 0.7027\n",
      "validation :\n"
     ]
    },
    {
     "data": {
      "application/vnd.jupyter.widget-view+json": {
       "model_id": "65b08f58ae2a46e7b84a909719f7c88b",
       "version_major": 2,
       "version_minor": 0
      },
      "text/plain": [
       "  0%|          | 0/107 [00:00<?, ?it/s]"
      ]
     },
     "metadata": {},
     "output_type": "display_data"
    },
    {
     "name": "stdout",
     "output_type": "stream",
     "text": [
      "[[1253  444]\n",
      " [ 516 1181]]\n",
      "validation loss: 0.5615, acc: 0.7171, f1: 0.7171\n",
      "Epoch 14/300\n",
      "----------\n",
      "train :\n"
     ]
    },
    {
     "data": {
      "application/vnd.jupyter.widget-view+json": {
       "model_id": "49867247ced14cd69bf7b58f41a2d24e",
       "version_major": 2,
       "version_minor": 0
      },
      "text/plain": [
       "  0%|          | 0/319 [00:00<?, ?it/s]"
      ]
     },
     "metadata": {},
     "output_type": "display_data"
    },
    {
     "name": "stdout",
     "output_type": "stream",
     "text": [
      "train loss: 0.5478, acc: 0.7161, f1: 0.7161\n",
      "validation :\n"
     ]
    },
    {
     "data": {
      "application/vnd.jupyter.widget-view+json": {
       "model_id": "18b86df86376426dbfff5f59f443bde0",
       "version_major": 2,
       "version_minor": 0
      },
      "text/plain": [
       "  0%|          | 0/107 [00:00<?, ?it/s]"
      ]
     },
     "metadata": {},
     "output_type": "display_data"
    },
    {
     "name": "stdout",
     "output_type": "stream",
     "text": [
      "[[1353  344]\n",
      " [ 557 1140]]\n",
      "validation loss: 0.5309, acc: 0.7345, f1: 0.7345\n",
      "Epoch 15/300\n",
      "----------\n",
      "train :\n"
     ]
    },
    {
     "data": {
      "application/vnd.jupyter.widget-view+json": {
       "model_id": "28bb28117bf744c4ac0cc38ed90fcc10",
       "version_major": 2,
       "version_minor": 0
      },
      "text/plain": [
       "  0%|          | 0/319 [00:00<?, ?it/s]"
      ]
     },
     "metadata": {},
     "output_type": "display_data"
    },
    {
     "name": "stdout",
     "output_type": "stream",
     "text": [
      "train loss: 0.5322, acc: 0.7309, f1: 0.7309\n",
      "validation :\n"
     ]
    },
    {
     "data": {
      "application/vnd.jupyter.widget-view+json": {
       "model_id": "48e812ee06904df5b1776f136d6f4a5c",
       "version_major": 2,
       "version_minor": 0
      },
      "text/plain": [
       "  0%|          | 0/107 [00:00<?, ?it/s]"
      ]
     },
     "metadata": {},
     "output_type": "display_data"
    },
    {
     "name": "stdout",
     "output_type": "stream",
     "text": [
      "[[1528  169]\n",
      " [ 831  866]]\n",
      "validation loss: 0.5572, acc: 0.7054, f1: 0.7054\n",
      "Epoch 16/300\n",
      "----------\n",
      "train :\n"
     ]
    },
    {
     "data": {
      "application/vnd.jupyter.widget-view+json": {
       "model_id": "132f516417314af1978ce73b54c84841",
       "version_major": 2,
       "version_minor": 0
      },
      "text/plain": [
       "  0%|          | 0/319 [00:00<?, ?it/s]"
      ]
     },
     "metadata": {},
     "output_type": "display_data"
    },
    {
     "name": "stdout",
     "output_type": "stream",
     "text": [
      "train loss: 0.5178, acc: 0.7438, f1: 0.7438\n",
      "validation :\n"
     ]
    },
    {
     "data": {
      "application/vnd.jupyter.widget-view+json": {
       "model_id": "adf626cc842942c49d0e51bfebb9bcaf",
       "version_major": 2,
       "version_minor": 0
      },
      "text/plain": [
       "  0%|          | 0/107 [00:00<?, ?it/s]"
      ]
     },
     "metadata": {},
     "output_type": "display_data"
    },
    {
     "name": "stdout",
     "output_type": "stream",
     "text": [
      "[[1588  109]\n",
      " [ 878  819]]\n",
      "validation loss: 0.6303, acc: 0.7092, f1: 0.7092\n",
      "Epoch 17/300\n",
      "----------\n",
      "train :\n"
     ]
    },
    {
     "data": {
      "application/vnd.jupyter.widget-view+json": {
       "model_id": "32c52a9026cd476795ba7a9ac24b5904",
       "version_major": 2,
       "version_minor": 0
      },
      "text/plain": [
       "  0%|          | 0/319 [00:00<?, ?it/s]"
      ]
     },
     "metadata": {},
     "output_type": "display_data"
    },
    {
     "name": "stdout",
     "output_type": "stream",
     "text": [
      "train loss: 0.5184, acc: 0.7425, f1: 0.7425\n",
      "validation :\n"
     ]
    },
    {
     "data": {
      "application/vnd.jupyter.widget-view+json": {
       "model_id": "0b092736bcca4e03ace2acbec53449ad",
       "version_major": 2,
       "version_minor": 0
      },
      "text/plain": [
       "  0%|          | 0/107 [00:00<?, ?it/s]"
      ]
     },
     "metadata": {},
     "output_type": "display_data"
    },
    {
     "name": "stdout",
     "output_type": "stream",
     "text": [
      "[[1291  406]\n",
      " [ 467 1230]]\n",
      "validation loss: 0.5191, acc: 0.7428, f1: 0.7428\n",
      "Epoch 18/300\n",
      "----------\n",
      "train :\n"
     ]
    },
    {
     "data": {
      "application/vnd.jupyter.widget-view+json": {
       "model_id": "f5cdd0bb4d294d8b849cb95a8a714c6a",
       "version_major": 2,
       "version_minor": 0
      },
      "text/plain": [
       "  0%|          | 0/319 [00:00<?, ?it/s]"
      ]
     },
     "metadata": {},
     "output_type": "display_data"
    },
    {
     "name": "stdout",
     "output_type": "stream",
     "text": [
      "train loss: 0.5070, acc: 0.7574, f1: 0.7574\n",
      "validation :\n"
     ]
    },
    {
     "data": {
      "application/vnd.jupyter.widget-view+json": {
       "model_id": "08b5ce9769144a2a995ae91cc3de9e7e",
       "version_major": 2,
       "version_minor": 0
      },
      "text/plain": [
       "  0%|          | 0/107 [00:00<?, ?it/s]"
      ]
     },
     "metadata": {},
     "output_type": "display_data"
    },
    {
     "name": "stdout",
     "output_type": "stream",
     "text": [
      "[[1542  155]\n",
      " [ 698  999]]\n",
      "validation loss: 0.5186, acc: 0.7487, f1: 0.7487\n",
      "Epoch 19/300\n",
      "----------\n",
      "train :\n"
     ]
    },
    {
     "data": {
      "application/vnd.jupyter.widget-view+json": {
       "model_id": "6620552ba7ed48bf89400b93dc08b111",
       "version_major": 2,
       "version_minor": 0
      },
      "text/plain": [
       "  0%|          | 0/319 [00:00<?, ?it/s]"
      ]
     },
     "metadata": {},
     "output_type": "display_data"
    },
    {
     "name": "stdout",
     "output_type": "stream",
     "text": [
      "train loss: 0.4917, acc: 0.7640, f1: 0.7640\n",
      "validation :\n"
     ]
    },
    {
     "data": {
      "application/vnd.jupyter.widget-view+json": {
       "model_id": "f6e2d27012104b959c05b955aacd9d5c",
       "version_major": 2,
       "version_minor": 0
      },
      "text/plain": [
       "  0%|          | 0/107 [00:00<?, ?it/s]"
      ]
     },
     "metadata": {},
     "output_type": "display_data"
    },
    {
     "name": "stdout",
     "output_type": "stream",
     "text": [
      "[[1347  350]\n",
      " [ 462 1235]]\n",
      "validation loss: 0.4985, acc: 0.7608, f1: 0.7608\n",
      "Epoch 20/300\n",
      "----------\n",
      "train :\n"
     ]
    },
    {
     "data": {
      "application/vnd.jupyter.widget-view+json": {
       "model_id": "1c66f475c48e4130995eb3ca6b6d3fa0",
       "version_major": 2,
       "version_minor": 0
      },
      "text/plain": [
       "  0%|          | 0/319 [00:00<?, ?it/s]"
      ]
     },
     "metadata": {},
     "output_type": "display_data"
    },
    {
     "name": "stdout",
     "output_type": "stream",
     "text": [
      "train loss: 0.4899, acc: 0.7649, f1: 0.7649\n",
      "validation :\n"
     ]
    },
    {
     "data": {
      "application/vnd.jupyter.widget-view+json": {
       "model_id": "3ca99316fd704e2cb8934be36c35b9f0",
       "version_major": 2,
       "version_minor": 0
      },
      "text/plain": [
       "  0%|          | 0/107 [00:00<?, ?it/s]"
      ]
     },
     "metadata": {},
     "output_type": "display_data"
    },
    {
     "name": "stdout",
     "output_type": "stream",
     "text": [
      "[[1505  192]\n",
      " [ 617 1080]]\n",
      "validation loss: 0.4898, acc: 0.7616, f1: 0.7616\n",
      "Epoch 21/300\n",
      "----------\n",
      "train :\n"
     ]
    },
    {
     "data": {
      "application/vnd.jupyter.widget-view+json": {
       "model_id": "ca9f746def8f450981073b58b83d51ab",
       "version_major": 2,
       "version_minor": 0
      },
      "text/plain": [
       "  0%|          | 0/319 [00:00<?, ?it/s]"
      ]
     },
     "metadata": {},
     "output_type": "display_data"
    },
    {
     "name": "stdout",
     "output_type": "stream",
     "text": [
      "train loss: 0.4757, acc: 0.7727, f1: 0.7727\n",
      "validation :\n"
     ]
    },
    {
     "data": {
      "application/vnd.jupyter.widget-view+json": {
       "model_id": "5e137a966a5a4786a90a3fb152778708",
       "version_major": 2,
       "version_minor": 0
      },
      "text/plain": [
       "  0%|          | 0/107 [00:00<?, ?it/s]"
      ]
     },
     "metadata": {},
     "output_type": "display_data"
    },
    {
     "name": "stdout",
     "output_type": "stream",
     "text": [
      "[[1381  316]\n",
      " [ 620 1077]]\n",
      "validation loss: 0.5667, acc: 0.7242, f1: 0.7242\n",
      "Epoch 22/300\n",
      "----------\n",
      "train :\n"
     ]
    },
    {
     "data": {
      "application/vnd.jupyter.widget-view+json": {
       "model_id": "dcbb4edd71af40a8a3468883bdaa0426",
       "version_major": 2,
       "version_minor": 0
      },
      "text/plain": [
       "  0%|          | 0/319 [00:00<?, ?it/s]"
      ]
     },
     "metadata": {},
     "output_type": "display_data"
    },
    {
     "name": "stdout",
     "output_type": "stream",
     "text": [
      "train loss: 0.5400, acc: 0.7177, f1: 0.7177\n",
      "validation :\n"
     ]
    },
    {
     "data": {
      "application/vnd.jupyter.widget-view+json": {
       "model_id": "676f8deacdd848efae3f3550d4ea35b9",
       "version_major": 2,
       "version_minor": 0
      },
      "text/plain": [
       "  0%|          | 0/107 [00:00<?, ?it/s]"
      ]
     },
     "metadata": {},
     "output_type": "display_data"
    },
    {
     "name": "stdout",
     "output_type": "stream",
     "text": [
      "[[1491  206]\n",
      " [ 687 1010]]\n",
      "validation loss: 0.5267, acc: 0.7369, f1: 0.7369\n",
      "Epoch 23/300\n",
      "----------\n",
      "train :\n"
     ]
    },
    {
     "data": {
      "application/vnd.jupyter.widget-view+json": {
       "model_id": "3ad0261b957d43afad5d499e58b6b943",
       "version_major": 2,
       "version_minor": 0
      },
      "text/plain": [
       "  0%|          | 0/319 [00:00<?, ?it/s]"
      ]
     },
     "metadata": {},
     "output_type": "display_data"
    },
    {
     "name": "stdout",
     "output_type": "stream",
     "text": [
      "train loss: 0.4957, acc: 0.7571, f1: 0.7571\n",
      "validation :\n"
     ]
    },
    {
     "data": {
      "application/vnd.jupyter.widget-view+json": {
       "model_id": "37c6e5328f90427eb1027740dd8c9b35",
       "version_major": 2,
       "version_minor": 0
      },
      "text/plain": [
       "  0%|          | 0/107 [00:00<?, ?it/s]"
      ]
     },
     "metadata": {},
     "output_type": "display_data"
    },
    {
     "name": "stdout",
     "output_type": "stream",
     "text": [
      "[[1450  247]\n",
      " [ 513 1184]]\n",
      "validation loss: 0.4721, acc: 0.7761, f1: 0.7761\n",
      "Epoch 24/300\n",
      "----------\n",
      "train :\n"
     ]
    },
    {
     "data": {
      "application/vnd.jupyter.widget-view+json": {
       "model_id": "eb6fccfcac4a4c698fd7963094b0e2a9",
       "version_major": 2,
       "version_minor": 0
      },
      "text/plain": [
       "  0%|          | 0/319 [00:00<?, ?it/s]"
      ]
     },
     "metadata": {},
     "output_type": "display_data"
    },
    {
     "name": "stdout",
     "output_type": "stream",
     "text": [
      "train loss: 0.4657, acc: 0.7789, f1: 0.7789\n",
      "validation :\n"
     ]
    },
    {
     "data": {
      "application/vnd.jupyter.widget-view+json": {
       "model_id": "cba8a7dda2a64f55b0162cf2997c1b4e",
       "version_major": 2,
       "version_minor": 0
      },
      "text/plain": [
       "  0%|          | 0/107 [00:00<?, ?it/s]"
      ]
     },
     "metadata": {},
     "output_type": "display_data"
    },
    {
     "name": "stdout",
     "output_type": "stream",
     "text": [
      "[[1493  204]\n",
      " [ 518 1179]]\n",
      "validation loss: 0.4421, acc: 0.7873, f1: 0.7873\n",
      "Epoch 25/300\n",
      "----------\n",
      "train :\n"
     ]
    },
    {
     "data": {
      "application/vnd.jupyter.widget-view+json": {
       "model_id": "7dc0fe3ed1e1457686aada29bf607538",
       "version_major": 2,
       "version_minor": 0
      },
      "text/plain": [
       "  0%|          | 0/319 [00:00<?, ?it/s]"
      ]
     },
     "metadata": {},
     "output_type": "display_data"
    },
    {
     "name": "stdout",
     "output_type": "stream",
     "text": [
      "train loss: 0.4496, acc: 0.7914, f1: 0.7914\n",
      "validation :\n"
     ]
    },
    {
     "data": {
      "application/vnd.jupyter.widget-view+json": {
       "model_id": "0d53d2166a9a4d93a35bf27f2ced56c3",
       "version_major": 2,
       "version_minor": 0
      },
      "text/plain": [
       "  0%|          | 0/107 [00:00<?, ?it/s]"
      ]
     },
     "metadata": {},
     "output_type": "display_data"
    },
    {
     "name": "stdout",
     "output_type": "stream",
     "text": [
      "[[1535  162]\n",
      " [ 573 1124]]\n",
      "validation loss: 0.4716, acc: 0.7834, f1: 0.7834\n",
      "Epoch 26/300\n",
      "----------\n",
      "train :\n"
     ]
    },
    {
     "data": {
      "application/vnd.jupyter.widget-view+json": {
       "model_id": "0573b9c705944e6ba0b8d4b914fae208",
       "version_major": 2,
       "version_minor": 0
      },
      "text/plain": [
       "  0%|          | 0/319 [00:00<?, ?it/s]"
      ]
     },
     "metadata": {},
     "output_type": "display_data"
    },
    {
     "name": "stdout",
     "output_type": "stream",
     "text": [
      "train loss: 0.4515, acc: 0.7924, f1: 0.7924\n",
      "validation :\n"
     ]
    },
    {
     "data": {
      "application/vnd.jupyter.widget-view+json": {
       "model_id": "bfd4055fcbd14cf3b5430e121d7222fb",
       "version_major": 2,
       "version_minor": 0
      },
      "text/plain": [
       "  0%|          | 0/107 [00:00<?, ?it/s]"
      ]
     },
     "metadata": {},
     "output_type": "display_data"
    },
    {
     "name": "stdout",
     "output_type": "stream",
     "text": [
      "[[1289  408]\n",
      " [ 322 1375]]\n",
      "validation loss: 0.4463, acc: 0.7849, f1: 0.7849\n",
      "Epoch 27/300\n",
      "----------\n",
      "train :\n"
     ]
    },
    {
     "data": {
      "application/vnd.jupyter.widget-view+json": {
       "model_id": "1e197cd71f2247069a1ca78dbf122a63",
       "version_major": 2,
       "version_minor": 0
      },
      "text/plain": [
       "  0%|          | 0/319 [00:00<?, ?it/s]"
      ]
     },
     "metadata": {},
     "output_type": "display_data"
    },
    {
     "name": "stdout",
     "output_type": "stream",
     "text": [
      "train loss: 0.4360, acc: 0.8013, f1: 0.8013\n",
      "validation :\n"
     ]
    },
    {
     "data": {
      "application/vnd.jupyter.widget-view+json": {
       "model_id": "52a4f74d21dc44fda63503b89cf53d47",
       "version_major": 2,
       "version_minor": 0
      },
      "text/plain": [
       "  0%|          | 0/107 [00:00<?, ?it/s]"
      ]
     },
     "metadata": {},
     "output_type": "display_data"
    },
    {
     "name": "stdout",
     "output_type": "stream",
     "text": [
      "[[1605   92]\n",
      " [ 629 1068]]\n",
      "validation loss: 0.4599, acc: 0.7876, f1: 0.7876\n",
      "Epoch 28/300\n",
      "----------\n",
      "train :\n"
     ]
    },
    {
     "data": {
      "application/vnd.jupyter.widget-view+json": {
       "model_id": "800377c05b6b4bd19ad7e61db81f0a70",
       "version_major": 2,
       "version_minor": 0
      },
      "text/plain": [
       "  0%|          | 0/319 [00:00<?, ?it/s]"
      ]
     },
     "metadata": {},
     "output_type": "display_data"
    },
    {
     "name": "stdout",
     "output_type": "stream",
     "text": [
      "train loss: 0.4363, acc: 0.7981, f1: 0.7981\n",
      "validation :\n"
     ]
    },
    {
     "data": {
      "application/vnd.jupyter.widget-view+json": {
       "model_id": "c4be7791fe95454d832d18d97f9ea619",
       "version_major": 2,
       "version_minor": 0
      },
      "text/plain": [
       "  0%|          | 0/107 [00:00<?, ?it/s]"
      ]
     },
     "metadata": {},
     "output_type": "display_data"
    },
    {
     "name": "stdout",
     "output_type": "stream",
     "text": [
      "[[1412  285]\n",
      " [ 392 1305]]\n",
      "validation loss: 0.4345, acc: 0.8005, f1: 0.8005\n",
      "Epoch 29/300\n",
      "----------\n",
      "train :\n"
     ]
    },
    {
     "data": {
      "application/vnd.jupyter.widget-view+json": {
       "model_id": "ecad8a1e9de64d27bff5f94e5c60d971",
       "version_major": 2,
       "version_minor": 0
      },
      "text/plain": [
       "  0%|          | 0/319 [00:00<?, ?it/s]"
      ]
     },
     "metadata": {},
     "output_type": "display_data"
    },
    {
     "name": "stdout",
     "output_type": "stream",
     "text": [
      "train loss: 0.4339, acc: 0.8019, f1: 0.8019\n",
      "validation :\n"
     ]
    },
    {
     "data": {
      "application/vnd.jupyter.widget-view+json": {
       "model_id": "c86394006a92487ea3234011b5b82ceb",
       "version_major": 2,
       "version_minor": 0
      },
      "text/plain": [
       "  0%|          | 0/107 [00:00<?, ?it/s]"
      ]
     },
     "metadata": {},
     "output_type": "display_data"
    },
    {
     "name": "stdout",
     "output_type": "stream",
     "text": [
      "[[1414  283]\n",
      " [ 399 1298]]\n",
      "validation loss: 0.4322, acc: 0.7991, f1: 0.7991\n",
      "Epoch 30/300\n",
      "----------\n",
      "train :\n"
     ]
    },
    {
     "data": {
      "application/vnd.jupyter.widget-view+json": {
       "model_id": "d02fec5a5d9748a7bfbd8ea9278c7499",
       "version_major": 2,
       "version_minor": 0
      },
      "text/plain": [
       "  0%|          | 0/319 [00:00<?, ?it/s]"
      ]
     },
     "metadata": {},
     "output_type": "display_data"
    },
    {
     "name": "stdout",
     "output_type": "stream",
     "text": [
      "train loss: 0.4309, acc: 0.8018, f1: 0.8018\n",
      "validation :\n"
     ]
    },
    {
     "data": {
      "application/vnd.jupyter.widget-view+json": {
       "model_id": "751fdd75ab9a421f94b607bdef531a13",
       "version_major": 2,
       "version_minor": 0
      },
      "text/plain": [
       "  0%|          | 0/107 [00:00<?, ?it/s]"
      ]
     },
     "metadata": {},
     "output_type": "display_data"
    },
    {
     "name": "stdout",
     "output_type": "stream",
     "text": [
      "[[1566  131]\n",
      " [ 543 1154]]\n",
      "validation loss: 0.4427, acc: 0.8014, f1: 0.8014\n",
      "Epoch 31/300\n",
      "----------\n",
      "train :\n"
     ]
    },
    {
     "data": {
      "application/vnd.jupyter.widget-view+json": {
       "model_id": "f134a672e0964c669f33b0261abc94ac",
       "version_major": 2,
       "version_minor": 0
      },
      "text/plain": [
       "  0%|          | 0/319 [00:00<?, ?it/s]"
      ]
     },
     "metadata": {},
     "output_type": "display_data"
    },
    {
     "name": "stdout",
     "output_type": "stream",
     "text": [
      "train loss: 0.4251, acc: 0.7995, f1: 0.7995\n",
      "validation :\n"
     ]
    },
    {
     "data": {
      "application/vnd.jupyter.widget-view+json": {
       "model_id": "86d83ad76a6d424da5bb40d754fb7813",
       "version_major": 2,
       "version_minor": 0
      },
      "text/plain": [
       "  0%|          | 0/107 [00:00<?, ?it/s]"
      ]
     },
     "metadata": {},
     "output_type": "display_data"
    },
    {
     "name": "stdout",
     "output_type": "stream",
     "text": [
      "[[1366  331]\n",
      " [ 325 1372]]\n",
      "validation loss: 0.4321, acc: 0.8067, f1: 0.8067\n",
      "Epoch 32/300\n",
      "----------\n",
      "train :\n"
     ]
    },
    {
     "data": {
      "application/vnd.jupyter.widget-view+json": {
       "model_id": "b7ef688b6b7146beb9a2d93afbc3c0da",
       "version_major": 2,
       "version_minor": 0
      },
      "text/plain": [
       "  0%|          | 0/319 [00:00<?, ?it/s]"
      ]
     },
     "metadata": {},
     "output_type": "display_data"
    },
    {
     "name": "stdout",
     "output_type": "stream",
     "text": [
      "train loss: 0.4403, acc: 0.7947, f1: 0.7947\n",
      "validation :\n"
     ]
    },
    {
     "data": {
      "application/vnd.jupyter.widget-view+json": {
       "model_id": "873fe4d13e6940bfba2af87e62ad0c1c",
       "version_major": 2,
       "version_minor": 0
      },
      "text/plain": [
       "  0%|          | 0/107 [00:00<?, ?it/s]"
      ]
     },
     "metadata": {},
     "output_type": "display_data"
    },
    {
     "name": "stdout",
     "output_type": "stream",
     "text": [
      "[[1541  156]\n",
      " [ 462 1235]]\n",
      "validation loss: 0.4156, acc: 0.8179, f1: 0.8179\n",
      "Epoch 33/300\n",
      "----------\n",
      "train :\n"
     ]
    },
    {
     "data": {
      "application/vnd.jupyter.widget-view+json": {
       "model_id": "5281b1da97ad496ea699db1b39208814",
       "version_major": 2,
       "version_minor": 0
      },
      "text/plain": [
       "  0%|          | 0/319 [00:00<?, ?it/s]"
      ]
     },
     "metadata": {},
     "output_type": "display_data"
    },
    {
     "name": "stdout",
     "output_type": "stream",
     "text": [
      "train loss: 0.4226, acc: 0.8084, f1: 0.8084\n",
      "validation :\n"
     ]
    },
    {
     "data": {
      "application/vnd.jupyter.widget-view+json": {
       "model_id": "6d6fa7a96e234518a45cc70fb41dac13",
       "version_major": 2,
       "version_minor": 0
      },
      "text/plain": [
       "  0%|          | 0/107 [00:00<?, ?it/s]"
      ]
     },
     "metadata": {},
     "output_type": "display_data"
    },
    {
     "name": "stdout",
     "output_type": "stream",
     "text": [
      "[[1476  221]\n",
      " [ 414 1283]]\n",
      "validation loss: 0.4367, acc: 0.8129, f1: 0.8129\n",
      "Epoch 34/300\n",
      "----------\n",
      "train :\n"
     ]
    },
    {
     "data": {
      "application/vnd.jupyter.widget-view+json": {
       "model_id": "20fa3ec7ee9e4d3b87eba6e1f967d954",
       "version_major": 2,
       "version_minor": 0
      },
      "text/plain": [
       "  0%|          | 0/319 [00:00<?, ?it/s]"
      ]
     },
     "metadata": {},
     "output_type": "display_data"
    },
    {
     "name": "stdout",
     "output_type": "stream",
     "text": [
      "train loss: 0.4131, acc: 0.8166, f1: 0.8166\n",
      "validation :\n"
     ]
    },
    {
     "data": {
      "application/vnd.jupyter.widget-view+json": {
       "model_id": "7358d6f80aa74ef38906011c55c7189d",
       "version_major": 2,
       "version_minor": 0
      },
      "text/plain": [
       "  0%|          | 0/107 [00:00<?, ?it/s]"
      ]
     },
     "metadata": {},
     "output_type": "display_data"
    },
    {
     "name": "stdout",
     "output_type": "stream",
     "text": [
      "[[1409  288]\n",
      " [ 323 1374]]\n",
      "validation loss: 0.4057, acc: 0.8200, f1: 0.8200\n",
      "Epoch 35/300\n",
      "----------\n",
      "train :\n"
     ]
    },
    {
     "data": {
      "application/vnd.jupyter.widget-view+json": {
       "model_id": "d26893075cea47f3b2b934dbfd6f5792",
       "version_major": 2,
       "version_minor": 0
      },
      "text/plain": [
       "  0%|          | 0/319 [00:00<?, ?it/s]"
      ]
     },
     "metadata": {},
     "output_type": "display_data"
    },
    {
     "name": "stdout",
     "output_type": "stream",
     "text": [
      "train loss: 0.4077, acc: 0.8136, f1: 0.8136\n",
      "validation :\n"
     ]
    },
    {
     "data": {
      "application/vnd.jupyter.widget-view+json": {
       "model_id": "360d670b888d475991f6a0ad3ebf2d7b",
       "version_major": 2,
       "version_minor": 0
      },
      "text/plain": [
       "  0%|          | 0/107 [00:00<?, ?it/s]"
      ]
     },
     "metadata": {},
     "output_type": "display_data"
    },
    {
     "name": "stdout",
     "output_type": "stream",
     "text": [
      "[[1509  188]\n",
      " [ 420 1277]]\n",
      "validation loss: 0.4034, acc: 0.8209, f1: 0.8209\n",
      "Epoch 36/300\n",
      "----------\n",
      "train :\n"
     ]
    },
    {
     "data": {
      "application/vnd.jupyter.widget-view+json": {
       "model_id": "fc76acda0dfe44b7b9b17eda63bed013",
       "version_major": 2,
       "version_minor": 0
      },
      "text/plain": [
       "  0%|          | 0/319 [00:00<?, ?it/s]"
      ]
     },
     "metadata": {},
     "output_type": "display_data"
    },
    {
     "name": "stdout",
     "output_type": "stream",
     "text": [
      "train loss: 0.4060, acc: 0.8176, f1: 0.8176\n",
      "validation :\n"
     ]
    },
    {
     "data": {
      "application/vnd.jupyter.widget-view+json": {
       "model_id": "63ff1d2c0733474689675d334fe57c2b",
       "version_major": 2,
       "version_minor": 0
      },
      "text/plain": [
       "  0%|          | 0/107 [00:00<?, ?it/s]"
      ]
     },
     "metadata": {},
     "output_type": "display_data"
    },
    {
     "name": "stdout",
     "output_type": "stream",
     "text": [
      "[[1618   79]\n",
      " [ 634 1063]]\n",
      "validation loss: 0.4657, acc: 0.7899, f1: 0.7899\n",
      "Epoch 37/300\n",
      "----------\n",
      "train :\n"
     ]
    },
    {
     "data": {
      "application/vnd.jupyter.widget-view+json": {
       "model_id": "cead4b96e48d405d967642b0922da6fc",
       "version_major": 2,
       "version_minor": 0
      },
      "text/plain": [
       "  0%|          | 0/319 [00:00<?, ?it/s]"
      ]
     },
     "metadata": {},
     "output_type": "display_data"
    },
    {
     "name": "stdout",
     "output_type": "stream",
     "text": [
      "train loss: 0.4090, acc: 0.8153, f1: 0.8153\n",
      "validation :\n"
     ]
    },
    {
     "data": {
      "application/vnd.jupyter.widget-view+json": {
       "model_id": "278369bd20c142dd9242075119298fbb",
       "version_major": 2,
       "version_minor": 0
      },
      "text/plain": [
       "  0%|          | 0/107 [00:00<?, ?it/s]"
      ]
     },
     "metadata": {},
     "output_type": "display_data"
    },
    {
     "name": "stdout",
     "output_type": "stream",
     "text": [
      "[[1639   58]\n",
      " [ 851  846]]\n",
      "validation loss: 0.5501, acc: 0.7322, f1: 0.7322\n",
      "Epoch 38/300\n",
      "----------\n",
      "train :\n"
     ]
    },
    {
     "data": {
      "application/vnd.jupyter.widget-view+json": {
       "model_id": "d91120ca7c68430db5e1e33619df3c0d",
       "version_major": 2,
       "version_minor": 0
      },
      "text/plain": [
       "  0%|          | 0/319 [00:00<?, ?it/s]"
      ]
     },
     "metadata": {},
     "output_type": "display_data"
    },
    {
     "name": "stdout",
     "output_type": "stream",
     "text": [
      "train loss: 0.4058, acc: 0.8197, f1: 0.8197\n",
      "validation :\n"
     ]
    },
    {
     "data": {
      "application/vnd.jupyter.widget-view+json": {
       "model_id": "197f37ce09024301b3359d01e06876e8",
       "version_major": 2,
       "version_minor": 0
      },
      "text/plain": [
       "  0%|          | 0/107 [00:00<?, ?it/s]"
      ]
     },
     "metadata": {},
     "output_type": "display_data"
    },
    {
     "name": "stdout",
     "output_type": "stream",
     "text": [
      "[[1576  121]\n",
      " [ 436 1261]]\n",
      "validation loss: 0.3951, acc: 0.8359, f1: 0.8359\n",
      "Epoch 39/300\n",
      "----------\n",
      "train :\n"
     ]
    },
    {
     "data": {
      "application/vnd.jupyter.widget-view+json": {
       "model_id": "e0d70e6358ce43269c6f92f4cab3c773",
       "version_major": 2,
       "version_minor": 0
      },
      "text/plain": [
       "  0%|          | 0/319 [00:00<?, ?it/s]"
      ]
     },
     "metadata": {},
     "output_type": "display_data"
    },
    {
     "name": "stdout",
     "output_type": "stream",
     "text": [
      "train loss: 0.3958, acc: 0.8219, f1: 0.8219\n",
      "validation :\n"
     ]
    },
    {
     "data": {
      "application/vnd.jupyter.widget-view+json": {
       "model_id": "2e7a72647124443ebeb020c41009aad5",
       "version_major": 2,
       "version_minor": 0
      },
      "text/plain": [
       "  0%|          | 0/107 [00:00<?, ?it/s]"
      ]
     },
     "metadata": {},
     "output_type": "display_data"
    },
    {
     "name": "stdout",
     "output_type": "stream",
     "text": [
      "[[1463  234]\n",
      " [ 398 1299]]\n",
      "validation loss: 0.4195, acc: 0.8138, f1: 0.8138\n",
      "Epoch 40/300\n",
      "----------\n",
      "train :\n"
     ]
    },
    {
     "data": {
      "application/vnd.jupyter.widget-view+json": {
       "model_id": "d9f15efeb32d4fd8b9ea534def409c78",
       "version_major": 2,
       "version_minor": 0
      },
      "text/plain": [
       "  0%|          | 0/319 [00:00<?, ?it/s]"
      ]
     },
     "metadata": {},
     "output_type": "display_data"
    },
    {
     "name": "stdout",
     "output_type": "stream",
     "text": [
      "train loss: 0.3933, acc: 0.8236, f1: 0.8236\n",
      "validation :\n"
     ]
    },
    {
     "data": {
      "application/vnd.jupyter.widget-view+json": {
       "model_id": "5717f4f9007c49b2b26332b7f0a240d8",
       "version_major": 2,
       "version_minor": 0
      },
      "text/plain": [
       "  0%|          | 0/107 [00:00<?, ?it/s]"
      ]
     },
     "metadata": {},
     "output_type": "display_data"
    },
    {
     "name": "stdout",
     "output_type": "stream",
     "text": [
      "[[1355  342]\n",
      " [ 301 1396]]\n",
      "validation loss: 0.4071, acc: 0.8105, f1: 0.8105\n",
      "Epoch 41/300\n",
      "----------\n",
      "train :\n"
     ]
    },
    {
     "data": {
      "application/vnd.jupyter.widget-view+json": {
       "model_id": "08c9668bb34542d589d4bcc6ccd3dc80",
       "version_major": 2,
       "version_minor": 0
      },
      "text/plain": [
       "  0%|          | 0/319 [00:00<?, ?it/s]"
      ]
     },
     "metadata": {},
     "output_type": "display_data"
    },
    {
     "name": "stdout",
     "output_type": "stream",
     "text": [
      "train loss: 0.4071, acc: 0.8158, f1: 0.8158\n",
      "validation :\n"
     ]
    },
    {
     "data": {
      "application/vnd.jupyter.widget-view+json": {
       "model_id": "6a43af62c4fd431da054c4319e82dc5b",
       "version_major": 2,
       "version_minor": 0
      },
      "text/plain": [
       "  0%|          | 0/107 [00:00<?, ?it/s]"
      ]
     },
     "metadata": {},
     "output_type": "display_data"
    },
    {
     "name": "stdout",
     "output_type": "stream",
     "text": [
      "[[1618   79]\n",
      " [ 536 1161]]\n",
      "validation loss: 0.4225, acc: 0.8188, f1: 0.8188\n",
      "Epoch 42/300\n",
      "----------\n",
      "train :\n"
     ]
    },
    {
     "data": {
      "application/vnd.jupyter.widget-view+json": {
       "model_id": "1169d76897ad4ed1b98c09e804f88c9b",
       "version_major": 2,
       "version_minor": 0
      },
      "text/plain": [
       "  0%|          | 0/319 [00:00<?, ?it/s]"
      ]
     },
     "metadata": {},
     "output_type": "display_data"
    },
    {
     "name": "stdout",
     "output_type": "stream",
     "text": [
      "train loss: 0.3923, acc: 0.8258, f1: 0.8258\n",
      "validation :\n"
     ]
    },
    {
     "data": {
      "application/vnd.jupyter.widget-view+json": {
       "model_id": "17767bcc00d247e98cdd5341cb5ebaf9",
       "version_major": 2,
       "version_minor": 0
      },
      "text/plain": [
       "  0%|          | 0/107 [00:00<?, ?it/s]"
      ]
     },
     "metadata": {},
     "output_type": "display_data"
    },
    {
     "name": "stdout",
     "output_type": "stream",
     "text": [
      "[[1495  202]\n",
      " [ 388 1309]]\n",
      "validation loss: 0.3941, acc: 0.8262, f1: 0.8262\n",
      "Epoch 43/300\n",
      "----------\n",
      "train :\n"
     ]
    },
    {
     "data": {
      "application/vnd.jupyter.widget-view+json": {
       "model_id": "d13bd1a2b32047108bb43474ab3839b5",
       "version_major": 2,
       "version_minor": 0
      },
      "text/plain": [
       "  0%|          | 0/319 [00:00<?, ?it/s]"
      ]
     },
     "metadata": {},
     "output_type": "display_data"
    },
    {
     "name": "stdout",
     "output_type": "stream",
     "text": [
      "train loss: 0.3925, acc: 0.8260, f1: 0.8260\n",
      "validation :\n"
     ]
    },
    {
     "data": {
      "application/vnd.jupyter.widget-view+json": {
       "model_id": "a9db1b977c874599b5240b7cb5203ef7",
       "version_major": 2,
       "version_minor": 0
      },
      "text/plain": [
       "  0%|          | 0/107 [00:00<?, ?it/s]"
      ]
     },
     "metadata": {},
     "output_type": "display_data"
    },
    {
     "name": "stdout",
     "output_type": "stream",
     "text": [
      "[[1505  192]\n",
      " [ 391 1306]]\n",
      "validation loss: 0.3886, acc: 0.8282, f1: 0.8282\n",
      "Epoch 44/300\n",
      "----------\n",
      "train :\n"
     ]
    },
    {
     "data": {
      "application/vnd.jupyter.widget-view+json": {
       "model_id": "12e6724bff17468d86d678b0793639d5",
       "version_major": 2,
       "version_minor": 0
      },
      "text/plain": [
       "  0%|          | 0/319 [00:00<?, ?it/s]"
      ]
     },
     "metadata": {},
     "output_type": "display_data"
    },
    {
     "name": "stdout",
     "output_type": "stream",
     "text": [
      "train loss: 0.3902, acc: 0.8251, f1: 0.8251\n",
      "validation :\n"
     ]
    },
    {
     "data": {
      "application/vnd.jupyter.widget-view+json": {
       "model_id": "33c6dbe7603a4145925d87649ae5931c",
       "version_major": 2,
       "version_minor": 0
      },
      "text/plain": [
       "  0%|          | 0/107 [00:00<?, ?it/s]"
      ]
     },
     "metadata": {},
     "output_type": "display_data"
    },
    {
     "name": "stdout",
     "output_type": "stream",
     "text": [
      "[[1399  298]\n",
      " [ 314 1383]]\n",
      "validation loss: 0.3930, acc: 0.8197, f1: 0.8197\n",
      "Epoch 45/300\n",
      "----------\n",
      "train :\n"
     ]
    },
    {
     "data": {
      "application/vnd.jupyter.widget-view+json": {
       "model_id": "ad42149ecc024b55abb307bc2bb4f762",
       "version_major": 2,
       "version_minor": 0
      },
      "text/plain": [
       "  0%|          | 0/319 [00:00<?, ?it/s]"
      ]
     },
     "metadata": {},
     "output_type": "display_data"
    },
    {
     "name": "stdout",
     "output_type": "stream",
     "text": [
      "train loss: 0.3839, acc: 0.8279, f1: 0.8279\n",
      "validation :\n"
     ]
    },
    {
     "data": {
      "application/vnd.jupyter.widget-view+json": {
       "model_id": "8519e6171d9746239604d3f4ab974fe4",
       "version_major": 2,
       "version_minor": 0
      },
      "text/plain": [
       "  0%|          | 0/107 [00:00<?, ?it/s]"
      ]
     },
     "metadata": {},
     "output_type": "display_data"
    },
    {
     "name": "stdout",
     "output_type": "stream",
     "text": [
      "[[1364  333]\n",
      " [ 288 1409]]\n",
      "validation loss: 0.4125, acc: 0.8170, f1: 0.8170\n",
      "Epoch 46/300\n",
      "----------\n",
      "train :\n"
     ]
    },
    {
     "data": {
      "application/vnd.jupyter.widget-view+json": {
       "model_id": "a40b1946c51b482695daa8815a3b31ef",
       "version_major": 2,
       "version_minor": 0
      },
      "text/plain": [
       "  0%|          | 0/319 [00:00<?, ?it/s]"
      ]
     },
     "metadata": {},
     "output_type": "display_data"
    },
    {
     "name": "stdout",
     "output_type": "stream",
     "text": [
      "train loss: 0.3801, acc: 0.8324, f1: 0.8324\n",
      "validation :\n"
     ]
    },
    {
     "data": {
      "application/vnd.jupyter.widget-view+json": {
       "model_id": "768b0144832449a4b5e395413425dfde",
       "version_major": 2,
       "version_minor": 0
      },
      "text/plain": [
       "  0%|          | 0/107 [00:00<?, ?it/s]"
      ]
     },
     "metadata": {},
     "output_type": "display_data"
    },
    {
     "name": "stdout",
     "output_type": "stream",
     "text": [
      "[[1562  135]\n",
      " [ 445 1252]]\n",
      "validation loss: 0.3942, acc: 0.8291, f1: 0.8291\n",
      "Epoch 47/300\n",
      "----------\n",
      "train :\n"
     ]
    },
    {
     "data": {
      "application/vnd.jupyter.widget-view+json": {
       "model_id": "c4c181c1dcb1471989afd5cbdee292e2",
       "version_major": 2,
       "version_minor": 0
      },
      "text/plain": [
       "  0%|          | 0/319 [00:00<?, ?it/s]"
      ]
     },
     "metadata": {},
     "output_type": "display_data"
    },
    {
     "name": "stdout",
     "output_type": "stream",
     "text": [
      "train loss: 0.3713, acc: 0.8364, f1: 0.8364\n",
      "validation :\n"
     ]
    },
    {
     "data": {
      "application/vnd.jupyter.widget-view+json": {
       "model_id": "9bee9aceaa914c8aa7fbf9d4a673bcfa",
       "version_major": 2,
       "version_minor": 0
      },
      "text/plain": [
       "  0%|          | 0/107 [00:00<?, ?it/s]"
      ]
     },
     "metadata": {},
     "output_type": "display_data"
    },
    {
     "name": "stdout",
     "output_type": "stream",
     "text": [
      "[[1536  161]\n",
      " [ 420 1277]]\n",
      "validation loss: 0.3859, acc: 0.8288, f1: 0.8288\n",
      "Epoch 48/300\n",
      "----------\n",
      "train :\n"
     ]
    },
    {
     "data": {
      "application/vnd.jupyter.widget-view+json": {
       "model_id": "9b15feca662b40e48eab024701afc493",
       "version_major": 2,
       "version_minor": 0
      },
      "text/plain": [
       "  0%|          | 0/319 [00:00<?, ?it/s]"
      ]
     },
     "metadata": {},
     "output_type": "display_data"
    },
    {
     "name": "stdout",
     "output_type": "stream",
     "text": [
      "train loss: 0.3784, acc: 0.8333, f1: 0.8333\n",
      "validation :\n"
     ]
    },
    {
     "data": {
      "application/vnd.jupyter.widget-view+json": {
       "model_id": "40475eabd6f04d2cb025fc021f583aa2",
       "version_major": 2,
       "version_minor": 0
      },
      "text/plain": [
       "  0%|          | 0/107 [00:00<?, ?it/s]"
      ]
     },
     "metadata": {},
     "output_type": "display_data"
    },
    {
     "name": "stdout",
     "output_type": "stream",
     "text": [
      "[[1580  117]\n",
      " [ 499 1198]]\n",
      "validation loss: 0.4174, acc: 0.8185, f1: 0.8185\n",
      "Epoch 49/300\n",
      "----------\n",
      "train :\n"
     ]
    },
    {
     "data": {
      "application/vnd.jupyter.widget-view+json": {
       "model_id": "2e6efe03e78c45dcb287f5783844317e",
       "version_major": 2,
       "version_minor": 0
      },
      "text/plain": [
       "  0%|          | 0/319 [00:00<?, ?it/s]"
      ]
     },
     "metadata": {},
     "output_type": "display_data"
    },
    {
     "name": "stdout",
     "output_type": "stream",
     "text": [
      "train loss: 0.3802, acc: 0.8291, f1: 0.8291\n",
      "validation :\n"
     ]
    },
    {
     "data": {
      "application/vnd.jupyter.widget-view+json": {
       "model_id": "4386cb4d22e34d4eab3ebbc3f0d6a5b4",
       "version_major": 2,
       "version_minor": 0
      },
      "text/plain": [
       "  0%|          | 0/107 [00:00<?, ?it/s]"
      ]
     },
     "metadata": {},
     "output_type": "display_data"
    },
    {
     "name": "stdout",
     "output_type": "stream",
     "text": [
      "[[1366  331]\n",
      " [ 313 1384]]\n",
      "validation loss: 0.4113, acc: 0.8103, f1: 0.8103\n",
      "Epoch 50/300\n",
      "----------\n",
      "train :\n"
     ]
    },
    {
     "data": {
      "application/vnd.jupyter.widget-view+json": {
       "model_id": "b5dd84a7d85c44ee84fece0fbb32281f",
       "version_major": 2,
       "version_minor": 0
      },
      "text/plain": [
       "  0%|          | 0/319 [00:00<?, ?it/s]"
      ]
     },
     "metadata": {},
     "output_type": "display_data"
    },
    {
     "name": "stdout",
     "output_type": "stream",
     "text": [
      "train loss: 0.3772, acc: 0.8349, f1: 0.8349\n",
      "validation :\n"
     ]
    },
    {
     "data": {
      "application/vnd.jupyter.widget-view+json": {
       "model_id": "ae09f2cdf8754093883b5d2a4bdb0faf",
       "version_major": 2,
       "version_minor": 0
      },
      "text/plain": [
       "  0%|          | 0/107 [00:00<?, ?it/s]"
      ]
     },
     "metadata": {},
     "output_type": "display_data"
    },
    {
     "name": "stdout",
     "output_type": "stream",
     "text": [
      "[[1428  269]\n",
      " [ 301 1396]]\n",
      "validation loss: 0.3848, acc: 0.8321, f1: 0.8321\n",
      "Epoch 51/300\n",
      "----------\n",
      "train :\n"
     ]
    },
    {
     "data": {
      "application/vnd.jupyter.widget-view+json": {
       "model_id": "013a70d891b44859b2ff558a2b6e1592",
       "version_major": 2,
       "version_minor": 0
      },
      "text/plain": [
       "  0%|          | 0/319 [00:00<?, ?it/s]"
      ]
     },
     "metadata": {},
     "output_type": "display_data"
    },
    {
     "name": "stdout",
     "output_type": "stream",
     "text": [
      "train loss: 0.3746, acc: 0.8354, f1: 0.8354\n",
      "validation :\n"
     ]
    },
    {
     "data": {
      "application/vnd.jupyter.widget-view+json": {
       "model_id": "ff8a871f1c1b4853b22e374e657fde63",
       "version_major": 2,
       "version_minor": 0
      },
      "text/plain": [
       "  0%|          | 0/107 [00:00<?, ?it/s]"
      ]
     },
     "metadata": {},
     "output_type": "display_data"
    },
    {
     "name": "stdout",
     "output_type": "stream",
     "text": [
      "[[1480  217]\n",
      " [ 343 1354]]\n",
      "validation loss: 0.3844, acc: 0.8350, f1: 0.8350\n",
      "Epoch 52/300\n",
      "----------\n",
      "train :\n"
     ]
    },
    {
     "data": {
      "application/vnd.jupyter.widget-view+json": {
       "model_id": "eaf1aa244d544937be63e3e99a90db5f",
       "version_major": 2,
       "version_minor": 0
      },
      "text/plain": [
       "  0%|          | 0/319 [00:00<?, ?it/s]"
      ]
     },
     "metadata": {},
     "output_type": "display_data"
    },
    {
     "name": "stdout",
     "output_type": "stream",
     "text": [
      "train loss: 0.3868, acc: 0.8247, f1: 0.8247\n",
      "validation :\n"
     ]
    },
    {
     "data": {
      "application/vnd.jupyter.widget-view+json": {
       "model_id": "07727bf3cd7e452ca2f3b6a40de877e5",
       "version_major": 2,
       "version_minor": 0
      },
      "text/plain": [
       "  0%|          | 0/107 [00:00<?, ?it/s]"
      ]
     },
     "metadata": {},
     "output_type": "display_data"
    },
    {
     "name": "stdout",
     "output_type": "stream",
     "text": [
      "[[1465  232]\n",
      " [ 369 1328]]\n",
      "validation loss: 0.4043, acc: 0.8229, f1: 0.8229\n",
      "Epoch 53/300\n",
      "----------\n",
      "train :\n"
     ]
    },
    {
     "data": {
      "application/vnd.jupyter.widget-view+json": {
       "model_id": "2c8288b1ecf3439c984bdd1400c769ca",
       "version_major": 2,
       "version_minor": 0
      },
      "text/plain": [
       "  0%|          | 0/319 [00:00<?, ?it/s]"
      ]
     },
     "metadata": {},
     "output_type": "display_data"
    },
    {
     "name": "stdout",
     "output_type": "stream",
     "text": [
      "train loss: 0.3717, acc: 0.8392, f1: 0.8392\n",
      "validation :\n"
     ]
    },
    {
     "data": {
      "application/vnd.jupyter.widget-view+json": {
       "model_id": "da702be59e2c40c59009665f4cc0e35a",
       "version_major": 2,
       "version_minor": 0
      },
      "text/plain": [
       "  0%|          | 0/107 [00:00<?, ?it/s]"
      ]
     },
     "metadata": {},
     "output_type": "display_data"
    },
    {
     "name": "stdout",
     "output_type": "stream",
     "text": [
      "[[1421  276]\n",
      " [ 284 1413]]\n",
      "validation loss: 0.3843, acc: 0.8350, f1: 0.8350\n",
      "Epoch 54/300\n",
      "----------\n",
      "train :\n"
     ]
    },
    {
     "data": {
      "application/vnd.jupyter.widget-view+json": {
       "model_id": "a174593fe2a34b869b03b25535b13d93",
       "version_major": 2,
       "version_minor": 0
      },
      "text/plain": [
       "  0%|          | 0/319 [00:00<?, ?it/s]"
      ]
     },
     "metadata": {},
     "output_type": "display_data"
    },
    {
     "name": "stdout",
     "output_type": "stream",
     "text": [
      "train loss: 0.3661, acc: 0.8371, f1: 0.8371\n",
      "validation :\n"
     ]
    },
    {
     "data": {
      "application/vnd.jupyter.widget-view+json": {
       "model_id": "94b7174932104679b95c82bce99d85c3",
       "version_major": 2,
       "version_minor": 0
      },
      "text/plain": [
       "  0%|          | 0/107 [00:00<?, ?it/s]"
      ]
     },
     "metadata": {},
     "output_type": "display_data"
    },
    {
     "name": "stdout",
     "output_type": "stream",
     "text": [
      "[[1450  247]\n",
      " [ 311 1386]]\n",
      "validation loss: 0.3743, acc: 0.8356, f1: 0.8356\n",
      "Epoch 55/300\n",
      "----------\n",
      "train :\n"
     ]
    },
    {
     "data": {
      "application/vnd.jupyter.widget-view+json": {
       "model_id": "dbd3acb0a71a438c8ca0be68afe031f7",
       "version_major": 2,
       "version_minor": 0
      },
      "text/plain": [
       "  0%|          | 0/319 [00:00<?, ?it/s]"
      ]
     },
     "metadata": {},
     "output_type": "display_data"
    },
    {
     "name": "stdout",
     "output_type": "stream",
     "text": [
      "train loss: 0.3618, acc: 0.8402, f1: 0.8402\n",
      "validation :\n"
     ]
    },
    {
     "data": {
      "application/vnd.jupyter.widget-view+json": {
       "model_id": "efb59d686c7d4af094fb46437752f130",
       "version_major": 2,
       "version_minor": 0
      },
      "text/plain": [
       "  0%|          | 0/107 [00:00<?, ?it/s]"
      ]
     },
     "metadata": {},
     "output_type": "display_data"
    },
    {
     "name": "stdout",
     "output_type": "stream",
     "text": [
      "[[1414  283]\n",
      " [ 269 1428]]\n",
      "validation loss: 0.3811, acc: 0.8374, f1: 0.8374\n",
      "Epoch 56/300\n",
      "----------\n",
      "train :\n"
     ]
    },
    {
     "data": {
      "application/vnd.jupyter.widget-view+json": {
       "model_id": "fe3e0431e1a7452385c06f8c44b6e160",
       "version_major": 2,
       "version_minor": 0
      },
      "text/plain": [
       "  0%|          | 0/319 [00:00<?, ?it/s]"
      ]
     },
     "metadata": {},
     "output_type": "display_data"
    },
    {
     "name": "stdout",
     "output_type": "stream",
     "text": [
      "train loss: 0.3665, acc: 0.8398, f1: 0.8398\n",
      "validation :\n"
     ]
    },
    {
     "data": {
      "application/vnd.jupyter.widget-view+json": {
       "model_id": "384521ad5b6d460fbc2f1edaa479f7ed",
       "version_major": 2,
       "version_minor": 0
      },
      "text/plain": [
       "  0%|          | 0/107 [00:00<?, ?it/s]"
      ]
     },
     "metadata": {},
     "output_type": "display_data"
    },
    {
     "name": "stdout",
     "output_type": "stream",
     "text": [
      "[[1430  267]\n",
      " [ 297 1400]]\n",
      "validation loss: 0.3825, acc: 0.8338, f1: 0.8338\n",
      "Epoch 57/300\n",
      "----------\n",
      "train :\n"
     ]
    },
    {
     "data": {
      "application/vnd.jupyter.widget-view+json": {
       "model_id": "3ddcc9596e694f20b5cf5d8fd8d94c2f",
       "version_major": 2,
       "version_minor": 0
      },
      "text/plain": [
       "  0%|          | 0/319 [00:00<?, ?it/s]"
      ]
     },
     "metadata": {},
     "output_type": "display_data"
    },
    {
     "name": "stdout",
     "output_type": "stream",
     "text": [
      "train loss: 0.3681, acc: 0.8396, f1: 0.8396\n",
      "validation :\n"
     ]
    },
    {
     "data": {
      "application/vnd.jupyter.widget-view+json": {
       "model_id": "70b469c8915d480a9da130d5f71c3300",
       "version_major": 2,
       "version_minor": 0
      },
      "text/plain": [
       "  0%|          | 0/107 [00:00<?, ?it/s]"
      ]
     },
     "metadata": {},
     "output_type": "display_data"
    },
    {
     "name": "stdout",
     "output_type": "stream",
     "text": [
      "[[1525  172]\n",
      " [ 376 1321]]\n",
      "validation loss: 0.3846, acc: 0.8385, f1: 0.8385\n",
      "Epoch 58/300\n",
      "----------\n",
      "train :\n"
     ]
    },
    {
     "data": {
      "application/vnd.jupyter.widget-view+json": {
       "model_id": "a0ca797f0ed347ca9524ea0f671493c3",
       "version_major": 2,
       "version_minor": 0
      },
      "text/plain": [
       "  0%|          | 0/319 [00:00<?, ?it/s]"
      ]
     },
     "metadata": {},
     "output_type": "display_data"
    },
    {
     "name": "stdout",
     "output_type": "stream",
     "text": [
      "train loss: 0.3615, acc: 0.8415, f1: 0.8415\n",
      "validation :\n"
     ]
    },
    {
     "data": {
      "application/vnd.jupyter.widget-view+json": {
       "model_id": "5f5822c51741405a82701bf00363508b",
       "version_major": 2,
       "version_minor": 0
      },
      "text/plain": [
       "  0%|          | 0/107 [00:00<?, ?it/s]"
      ]
     },
     "metadata": {},
     "output_type": "display_data"
    },
    {
     "name": "stdout",
     "output_type": "stream",
     "text": [
      "[[1570  127]\n",
      " [ 470 1227]]\n",
      "validation loss: 0.3953, acc: 0.8241, f1: 0.8241\n",
      "Epoch 59/300\n",
      "----------\n",
      "train :\n"
     ]
    },
    {
     "data": {
      "application/vnd.jupyter.widget-view+json": {
       "model_id": "5b18db55c9ca4ec1aa0ca03ad1cf9064",
       "version_major": 2,
       "version_minor": 0
      },
      "text/plain": [
       "  0%|          | 0/319 [00:00<?, ?it/s]"
      ]
     },
     "metadata": {},
     "output_type": "display_data"
    },
    {
     "name": "stdout",
     "output_type": "stream",
     "text": [
      "train loss: 0.3570, acc: 0.8440, f1: 0.8440\n",
      "validation :\n"
     ]
    },
    {
     "data": {
      "application/vnd.jupyter.widget-view+json": {
       "model_id": "77f12efe5f0549abb53fb7c2b144d8c6",
       "version_major": 2,
       "version_minor": 0
      },
      "text/plain": [
       "  0%|          | 0/107 [00:00<?, ?it/s]"
      ]
     },
     "metadata": {},
     "output_type": "display_data"
    },
    {
     "name": "stdout",
     "output_type": "stream",
     "text": [
      "[[1559  138]\n",
      " [ 382 1315]]\n",
      "validation loss: 0.3600, acc: 0.8468, f1: 0.8468\n",
      "Epoch 60/300\n",
      "----------\n",
      "train :\n"
     ]
    },
    {
     "data": {
      "application/vnd.jupyter.widget-view+json": {
       "model_id": "fcc794f4c8704c3a9d37afae5d379998",
       "version_major": 2,
       "version_minor": 0
      },
      "text/plain": [
       "  0%|          | 0/319 [00:00<?, ?it/s]"
      ]
     },
     "metadata": {},
     "output_type": "display_data"
    },
    {
     "name": "stdout",
     "output_type": "stream",
     "text": [
      "train loss: 0.3647, acc: 0.8403, f1: 0.8403\n",
      "validation :\n"
     ]
    },
    {
     "data": {
      "application/vnd.jupyter.widget-view+json": {
       "model_id": "8015821385134ef19414b8e899c1c58d",
       "version_major": 2,
       "version_minor": 0
      },
      "text/plain": [
       "  0%|          | 0/107 [00:00<?, ?it/s]"
      ]
     },
     "metadata": {},
     "output_type": "display_data"
    },
    {
     "name": "stdout",
     "output_type": "stream",
     "text": [
      "[[1602   95]\n",
      " [ 474 1223]]\n",
      "validation loss: 0.3703, acc: 0.8324, f1: 0.8324\n",
      "Epoch 61/300\n",
      "----------\n",
      "train :\n"
     ]
    },
    {
     "data": {
      "application/vnd.jupyter.widget-view+json": {
       "model_id": "7f6eb7738c9646fd92a48f091090c76a",
       "version_major": 2,
       "version_minor": 0
      },
      "text/plain": [
       "  0%|          | 0/319 [00:00<?, ?it/s]"
      ]
     },
     "metadata": {},
     "output_type": "display_data"
    },
    {
     "name": "stdout",
     "output_type": "stream",
     "text": [
      "train loss: 0.3611, acc: 0.8371, f1: 0.8371\n",
      "validation :\n"
     ]
    },
    {
     "data": {
      "application/vnd.jupyter.widget-view+json": {
       "model_id": "dfde27b42cb64d1f86f12f846648f18c",
       "version_major": 2,
       "version_minor": 0
      },
      "text/plain": [
       "  0%|          | 0/107 [00:00<?, ?it/s]"
      ]
     },
     "metadata": {},
     "output_type": "display_data"
    },
    {
     "name": "stdout",
     "output_type": "stream",
     "text": [
      "[[1563  134]\n",
      " [ 445 1252]]\n",
      "validation loss: 0.3837, acc: 0.8294, f1: 0.8294\n",
      "Epoch 62/300\n",
      "----------\n",
      "train :\n"
     ]
    },
    {
     "data": {
      "application/vnd.jupyter.widget-view+json": {
       "model_id": "078aeed727d64dcfb39ddf8d1ee3b61b",
       "version_major": 2,
       "version_minor": 0
      },
      "text/plain": [
       "  0%|          | 0/319 [00:00<?, ?it/s]"
      ]
     },
     "metadata": {},
     "output_type": "display_data"
    },
    {
     "name": "stdout",
     "output_type": "stream",
     "text": [
      "train loss: 0.3639, acc: 0.8438, f1: 0.8438\n",
      "validation :\n"
     ]
    },
    {
     "data": {
      "application/vnd.jupyter.widget-view+json": {
       "model_id": "16db6253326545fd89afb826ab114923",
       "version_major": 2,
       "version_minor": 0
      },
      "text/plain": [
       "  0%|          | 0/107 [00:00<?, ?it/s]"
      ]
     },
     "metadata": {},
     "output_type": "display_data"
    },
    {
     "name": "stdout",
     "output_type": "stream",
     "text": [
      "[[1605   92]\n",
      " [ 485 1212]]\n",
      "validation loss: 0.3910, acc: 0.8300, f1: 0.8300\n",
      "Epoch 63/300\n",
      "----------\n",
      "train :\n"
     ]
    },
    {
     "data": {
      "application/vnd.jupyter.widget-view+json": {
       "model_id": "0b125804737447d6b36e81c21e7b46d2",
       "version_major": 2,
       "version_minor": 0
      },
      "text/plain": [
       "  0%|          | 0/319 [00:00<?, ?it/s]"
      ]
     },
     "metadata": {},
     "output_type": "display_data"
    },
    {
     "name": "stdout",
     "output_type": "stream",
     "text": [
      "train loss: 0.3715, acc: 0.8355, f1: 0.8355\n",
      "validation :\n"
     ]
    },
    {
     "data": {
      "application/vnd.jupyter.widget-view+json": {
       "model_id": "9170e75c96ff449e9d6bb2bf7477dbc3",
       "version_major": 2,
       "version_minor": 0
      },
      "text/plain": [
       "  0%|          | 0/107 [00:00<?, ?it/s]"
      ]
     },
     "metadata": {},
     "output_type": "display_data"
    },
    {
     "name": "stdout",
     "output_type": "stream",
     "text": [
      "[[1582  115]\n",
      " [ 458 1239]]\n",
      "validation loss: 0.3803, acc: 0.8312, f1: 0.8312\n",
      "Epoch 64/300\n",
      "----------\n",
      "train :\n"
     ]
    },
    {
     "data": {
      "application/vnd.jupyter.widget-view+json": {
       "model_id": "90b189a6bc90408380e17689e0b8d668",
       "version_major": 2,
       "version_minor": 0
      },
      "text/plain": [
       "  0%|          | 0/319 [00:00<?, ?it/s]"
      ]
     },
     "metadata": {},
     "output_type": "display_data"
    },
    {
     "name": "stdout",
     "output_type": "stream",
     "text": [
      "train loss: 0.3469, acc: 0.8449, f1: 0.8449\n",
      "validation :\n"
     ]
    },
    {
     "data": {
      "application/vnd.jupyter.widget-view+json": {
       "model_id": "4fa0b03e11374a91818f2dcbbfd46afd",
       "version_major": 2,
       "version_minor": 0
      },
      "text/plain": [
       "  0%|          | 0/107 [00:00<?, ?it/s]"
      ]
     },
     "metadata": {},
     "output_type": "display_data"
    },
    {
     "name": "stdout",
     "output_type": "stream",
     "text": [
      "[[1606   91]\n",
      " [ 496 1201]]\n",
      "validation loss: 0.3976, acc: 0.8270, f1: 0.8270\n",
      "Epoch 65/300\n",
      "----------\n",
      "train :\n"
     ]
    },
    {
     "data": {
      "application/vnd.jupyter.widget-view+json": {
       "model_id": "ec84b987e2994331a826b1d6362edfba",
       "version_major": 2,
       "version_minor": 0
      },
      "text/plain": [
       "  0%|          | 0/319 [00:00<?, ?it/s]"
      ]
     },
     "metadata": {},
     "output_type": "display_data"
    },
    {
     "name": "stdout",
     "output_type": "stream",
     "text": [
      "train loss: 0.3496, acc: 0.8507, f1: 0.8507\n",
      "validation :\n"
     ]
    },
    {
     "data": {
      "application/vnd.jupyter.widget-view+json": {
       "model_id": "0c3dcf17b6ae4ae8ad805fd1f2b19054",
       "version_major": 2,
       "version_minor": 0
      },
      "text/plain": [
       "  0%|          | 0/107 [00:00<?, ?it/s]"
      ]
     },
     "metadata": {},
     "output_type": "display_data"
    },
    {
     "name": "stdout",
     "output_type": "stream",
     "text": [
      "[[1568  129]\n",
      " [ 533 1164]]\n",
      "validation loss: 0.4320, acc: 0.8049, f1: 0.8049\n",
      "Epoch 66/300\n",
      "----------\n",
      "train :\n"
     ]
    },
    {
     "data": {
      "application/vnd.jupyter.widget-view+json": {
       "model_id": "3be6499322544c7cb22cb4ea801590e1",
       "version_major": 2,
       "version_minor": 0
      },
      "text/plain": [
       "  0%|          | 0/319 [00:00<?, ?it/s]"
      ]
     },
     "metadata": {},
     "output_type": "display_data"
    },
    {
     "name": "stdout",
     "output_type": "stream",
     "text": [
      "train loss: 0.3774, acc: 0.8271, f1: 0.8271\n",
      "validation :\n"
     ]
    },
    {
     "data": {
      "application/vnd.jupyter.widget-view+json": {
       "model_id": "2a1330aedfb94975aa4d9046c6b89126",
       "version_major": 2,
       "version_minor": 0
      },
      "text/plain": [
       "  0%|          | 0/107 [00:00<?, ?it/s]"
      ]
     },
     "metadata": {},
     "output_type": "display_data"
    },
    {
     "name": "stdout",
     "output_type": "stream",
     "text": [
      "[[1526  171]\n",
      " [ 385 1312]]\n",
      "validation loss: 0.3839, acc: 0.8362, f1: 0.8362\n",
      "Epoch 67/300\n",
      "----------\n",
      "train :\n"
     ]
    },
    {
     "data": {
      "application/vnd.jupyter.widget-view+json": {
       "model_id": "d6e8d95d6b234ba2a252baba9ff701cd",
       "version_major": 2,
       "version_minor": 0
      },
      "text/plain": [
       "  0%|          | 0/319 [00:00<?, ?it/s]"
      ]
     },
     "metadata": {},
     "output_type": "display_data"
    },
    {
     "name": "stdout",
     "output_type": "stream",
     "text": [
      "train loss: 0.3627, acc: 0.8383, f1: 0.8383\n",
      "validation :\n"
     ]
    },
    {
     "data": {
      "application/vnd.jupyter.widget-view+json": {
       "model_id": "2aade1ceeefe4e47bf404ccbc3e96350",
       "version_major": 2,
       "version_minor": 0
      },
      "text/plain": [
       "  0%|          | 0/107 [00:00<?, ?it/s]"
      ]
     },
     "metadata": {},
     "output_type": "display_data"
    },
    {
     "name": "stdout",
     "output_type": "stream",
     "text": [
      "[[1613   84]\n",
      " [ 537 1160]]\n",
      "validation loss: 0.4187, acc: 0.8170, f1: 0.8170\n",
      "Epoch 68/300\n",
      "----------\n",
      "train :\n"
     ]
    },
    {
     "data": {
      "application/vnd.jupyter.widget-view+json": {
       "model_id": "74264d3a35be4836a8c4145a6ff8d92c",
       "version_major": 2,
       "version_minor": 0
      },
      "text/plain": [
       "  0%|          | 0/319 [00:00<?, ?it/s]"
      ]
     },
     "metadata": {},
     "output_type": "display_data"
    },
    {
     "name": "stdout",
     "output_type": "stream",
     "text": [
      "train loss: 0.3569, acc: 0.8449, f1: 0.8449\n",
      "validation :\n"
     ]
    },
    {
     "data": {
      "application/vnd.jupyter.widget-view+json": {
       "model_id": "c237b3a65ab049d9b75f96e70d439213",
       "version_major": 2,
       "version_minor": 0
      },
      "text/plain": [
       "  0%|          | 0/107 [00:00<?, ?it/s]"
      ]
     },
     "metadata": {},
     "output_type": "display_data"
    },
    {
     "name": "stdout",
     "output_type": "stream",
     "text": [
      "[[1565  132]\n",
      " [ 408 1289]]\n",
      "validation loss: 0.3660, acc: 0.8409, f1: 0.8409\n",
      "Epoch 69/300\n",
      "----------\n",
      "train :\n"
     ]
    },
    {
     "data": {
      "application/vnd.jupyter.widget-view+json": {
       "model_id": "0a7bce4a69e645eb822b90f14ab215aa",
       "version_major": 2,
       "version_minor": 0
      },
      "text/plain": [
       "  0%|          | 0/319 [00:00<?, ?it/s]"
      ]
     },
     "metadata": {},
     "output_type": "display_data"
    },
    {
     "name": "stdout",
     "output_type": "stream",
     "text": [
      "train loss: 0.3444, acc: 0.8515, f1: 0.8515\n",
      "validation :\n"
     ]
    },
    {
     "data": {
      "application/vnd.jupyter.widget-view+json": {
       "model_id": "73a26e77eb254c77921d19552fdf36ff",
       "version_major": 2,
       "version_minor": 0
      },
      "text/plain": [
       "  0%|          | 0/107 [00:00<?, ?it/s]"
      ]
     },
     "metadata": {},
     "output_type": "display_data"
    },
    {
     "name": "stdout",
     "output_type": "stream",
     "text": [
      "[[1582  115]\n",
      " [ 436 1261]]\n",
      "validation loss: 0.3811, acc: 0.8377, f1: 0.8377\n",
      "Epoch 70/300\n",
      "----------\n",
      "train :\n"
     ]
    },
    {
     "data": {
      "application/vnd.jupyter.widget-view+json": {
       "model_id": "950b4c4394344d56a2b9827a8584762d",
       "version_major": 2,
       "version_minor": 0
      },
      "text/plain": [
       "  0%|          | 0/319 [00:00<?, ?it/s]"
      ]
     },
     "metadata": {},
     "output_type": "display_data"
    },
    {
     "name": "stdout",
     "output_type": "stream",
     "text": [
      "train loss: 0.3448, acc: 0.8550, f1: 0.8550\n",
      "validation :\n"
     ]
    },
    {
     "data": {
      "application/vnd.jupyter.widget-view+json": {
       "model_id": "2ec6fbb640494520b410701e8f14b254",
       "version_major": 2,
       "version_minor": 0
      },
      "text/plain": [
       "  0%|          | 0/107 [00:00<?, ?it/s]"
      ]
     },
     "metadata": {},
     "output_type": "display_data"
    },
    {
     "name": "stdout",
     "output_type": "stream",
     "text": [
      "[[1626   71]\n",
      " [ 497 1200]]\n",
      "validation loss: 0.3905, acc: 0.8326, f1: 0.8326\n",
      "Epoch 71/300\n",
      "----------\n",
      "train :\n"
     ]
    },
    {
     "data": {
      "application/vnd.jupyter.widget-view+json": {
       "model_id": "3b0f4a6c9305441ebf96b107cd2c7c4c",
       "version_major": 2,
       "version_minor": 0
      },
      "text/plain": [
       "  0%|          | 0/319 [00:00<?, ?it/s]"
      ]
     },
     "metadata": {},
     "output_type": "display_data"
    },
    {
     "name": "stdout",
     "output_type": "stream",
     "text": [
      "train loss: 0.3476, acc: 0.8517, f1: 0.8517\n",
      "validation :\n"
     ]
    },
    {
     "data": {
      "application/vnd.jupyter.widget-view+json": {
       "model_id": "0a69f77ab8a14c9c84c9436e467721d3",
       "version_major": 2,
       "version_minor": 0
      },
      "text/plain": [
       "  0%|          | 0/107 [00:00<?, ?it/s]"
      ]
     },
     "metadata": {},
     "output_type": "display_data"
    },
    {
     "name": "stdout",
     "output_type": "stream",
     "text": [
      "[[1565  132]\n",
      " [ 423 1274]]\n",
      "validation loss: 0.3831, acc: 0.8365, f1: 0.8365\n",
      "Epoch 72/300\n",
      "----------\n",
      "train :\n"
     ]
    },
    {
     "data": {
      "application/vnd.jupyter.widget-view+json": {
       "model_id": "f4021b85ea614fd4bba8eb198bea67a2",
       "version_major": 2,
       "version_minor": 0
      },
      "text/plain": [
       "  0%|          | 0/319 [00:00<?, ?it/s]"
      ]
     },
     "metadata": {},
     "output_type": "display_data"
    },
    {
     "name": "stdout",
     "output_type": "stream",
     "text": [
      "train loss: 0.3431, acc: 0.8510, f1: 0.8510\n",
      "validation :\n"
     ]
    },
    {
     "data": {
      "application/vnd.jupyter.widget-view+json": {
       "model_id": "fba37ae7a74a42c1ae54a53c1ab3f817",
       "version_major": 2,
       "version_minor": 0
      },
      "text/plain": [
       "  0%|          | 0/107 [00:00<?, ?it/s]"
      ]
     },
     "metadata": {},
     "output_type": "display_data"
    },
    {
     "name": "stdout",
     "output_type": "stream",
     "text": [
      "[[1483  214]\n",
      " [ 341 1356]]\n",
      "validation loss: 0.3673, acc: 0.8365, f1: 0.8365\n",
      "Epoch 73/300\n",
      "----------\n",
      "train :\n"
     ]
    },
    {
     "data": {
      "application/vnd.jupyter.widget-view+json": {
       "model_id": "087542fd4961466b82d116102b5d1fc4",
       "version_major": 2,
       "version_minor": 0
      },
      "text/plain": [
       "  0%|          | 0/319 [00:00<?, ?it/s]"
      ]
     },
     "metadata": {},
     "output_type": "display_data"
    },
    {
     "name": "stdout",
     "output_type": "stream",
     "text": [
      "train loss: 0.3482, acc: 0.8496, f1: 0.8496\n",
      "validation :\n"
     ]
    },
    {
     "data": {
      "application/vnd.jupyter.widget-view+json": {
       "model_id": "f878ca125df545cf85ad213b65b8030e",
       "version_major": 2,
       "version_minor": 0
      },
      "text/plain": [
       "  0%|          | 0/107 [00:00<?, ?it/s]"
      ]
     },
     "metadata": {},
     "output_type": "display_data"
    },
    {
     "name": "stdout",
     "output_type": "stream",
     "text": [
      "[[1618   79]\n",
      " [ 542 1155]]\n",
      "validation loss: 0.4080, acc: 0.8170, f1: 0.8170\n",
      "Epoch 74/300\n",
      "----------\n",
      "train :\n"
     ]
    },
    {
     "data": {
      "application/vnd.jupyter.widget-view+json": {
       "model_id": "4006cf70b92748f1834e1de18aad658d",
       "version_major": 2,
       "version_minor": 0
      },
      "text/plain": [
       "  0%|          | 0/319 [00:00<?, ?it/s]"
      ]
     },
     "metadata": {},
     "output_type": "display_data"
    },
    {
     "name": "stdout",
     "output_type": "stream",
     "text": [
      "train loss: 0.3482, acc: 0.8476, f1: 0.8476\n",
      "validation :\n"
     ]
    },
    {
     "data": {
      "application/vnd.jupyter.widget-view+json": {
       "model_id": "8b344dd7221e477db438b540d424b81e",
       "version_major": 2,
       "version_minor": 0
      },
      "text/plain": [
       "  0%|          | 0/107 [00:00<?, ?it/s]"
      ]
     },
     "metadata": {},
     "output_type": "display_data"
    },
    {
     "name": "stdout",
     "output_type": "stream",
     "text": [
      "[[1502  195]\n",
      " [ 340 1357]]\n",
      "validation loss: 0.3613, acc: 0.8424, f1: 0.8424\n",
      "Epoch 75/300\n",
      "----------\n",
      "train :\n"
     ]
    },
    {
     "data": {
      "application/vnd.jupyter.widget-view+json": {
       "model_id": "328d5a366ee046bdb273d166bd00b7ac",
       "version_major": 2,
       "version_minor": 0
      },
      "text/plain": [
       "  0%|          | 0/319 [00:00<?, ?it/s]"
      ]
     },
     "metadata": {},
     "output_type": "display_data"
    },
    {
     "name": "stdout",
     "output_type": "stream",
     "text": [
      "train loss: 0.3402, acc: 0.8521, f1: 0.8521\n",
      "validation :\n"
     ]
    },
    {
     "data": {
      "application/vnd.jupyter.widget-view+json": {
       "model_id": "6b1cb4ede549415ea9ca0677b9b7984f",
       "version_major": 2,
       "version_minor": 0
      },
      "text/plain": [
       "  0%|          | 0/107 [00:00<?, ?it/s]"
      ]
     },
     "metadata": {},
     "output_type": "display_data"
    },
    {
     "name": "stdout",
     "output_type": "stream",
     "text": [
      "[[1451  246]\n",
      " [ 277 1420]]\n",
      "validation loss: 0.3621, acc: 0.8459, f1: 0.8459\n",
      "Epoch 76/300\n",
      "----------\n",
      "train :\n"
     ]
    },
    {
     "data": {
      "application/vnd.jupyter.widget-view+json": {
       "model_id": "93db18bc131343eabe3323ab5405582c",
       "version_major": 2,
       "version_minor": 0
      },
      "text/plain": [
       "  0%|          | 0/319 [00:00<?, ?it/s]"
      ]
     },
     "metadata": {},
     "output_type": "display_data"
    },
    {
     "name": "stdout",
     "output_type": "stream",
     "text": [
      "train loss: 0.3366, acc: 0.8549, f1: 0.8549\n",
      "validation :\n"
     ]
    },
    {
     "data": {
      "application/vnd.jupyter.widget-view+json": {
       "model_id": "6d2ab97487064731beb2b58bb8d19776",
       "version_major": 2,
       "version_minor": 0
      },
      "text/plain": [
       "  0%|          | 0/107 [00:00<?, ?it/s]"
      ]
     },
     "metadata": {},
     "output_type": "display_data"
    },
    {
     "name": "stdout",
     "output_type": "stream",
     "text": [
      "[[1607   90]\n",
      " [ 468 1229]]\n",
      "validation loss: 0.3890, acc: 0.8356, f1: 0.8356\n",
      "Epoch 77/300\n",
      "----------\n",
      "train :\n"
     ]
    },
    {
     "data": {
      "application/vnd.jupyter.widget-view+json": {
       "model_id": "d0bd34085c38481296ec9a4637a5e4cf",
       "version_major": 2,
       "version_minor": 0
      },
      "text/plain": [
       "  0%|          | 0/319 [00:00<?, ?it/s]"
      ]
     },
     "metadata": {},
     "output_type": "display_data"
    },
    {
     "name": "stdout",
     "output_type": "stream",
     "text": [
      "train loss: 0.3369, acc: 0.8551, f1: 0.8551\n",
      "validation :\n"
     ]
    },
    {
     "data": {
      "application/vnd.jupyter.widget-view+json": {
       "model_id": "7b18ea668c8c4dc2a057c8f7784fa775",
       "version_major": 2,
       "version_minor": 0
      },
      "text/plain": [
       "  0%|          | 0/107 [00:00<?, ?it/s]"
      ]
     },
     "metadata": {},
     "output_type": "display_data"
    },
    {
     "name": "stdout",
     "output_type": "stream",
     "text": [
      "[[1442  255]\n",
      " [ 276 1421]]\n",
      "validation loss: 0.3529, acc: 0.8435, f1: 0.8435\n",
      "Epoch 78/300\n",
      "----------\n",
      "train :\n"
     ]
    },
    {
     "data": {
      "application/vnd.jupyter.widget-view+json": {
       "model_id": "d404158e050649e5a20c14f0b950ea33",
       "version_major": 2,
       "version_minor": 0
      },
      "text/plain": [
       "  0%|          | 0/319 [00:00<?, ?it/s]"
      ]
     },
     "metadata": {},
     "output_type": "display_data"
    },
    {
     "name": "stdout",
     "output_type": "stream",
     "text": [
      "train loss: 0.3328, acc: 0.8543, f1: 0.8543\n",
      "validation :\n"
     ]
    },
    {
     "data": {
      "application/vnd.jupyter.widget-view+json": {
       "model_id": "4cf52ac853c948d3ac5d134f8145fe44",
       "version_major": 2,
       "version_minor": 0
      },
      "text/plain": [
       "  0%|          | 0/107 [00:00<?, ?it/s]"
      ]
     },
     "metadata": {},
     "output_type": "display_data"
    },
    {
     "name": "stdout",
     "output_type": "stream",
     "text": [
      "[[1483  214]\n",
      " [ 319 1378]]\n",
      "validation loss: 0.3586, acc: 0.8430, f1: 0.8430\n",
      "Epoch 79/300\n",
      "----------\n",
      "train :\n"
     ]
    },
    {
     "data": {
      "application/vnd.jupyter.widget-view+json": {
       "model_id": "0bae500132aa43d5958239521050b86e",
       "version_major": 2,
       "version_minor": 0
      },
      "text/plain": [
       "  0%|          | 0/319 [00:00<?, ?it/s]"
      ]
     },
     "metadata": {},
     "output_type": "display_data"
    },
    {
     "name": "stdout",
     "output_type": "stream",
     "text": [
      "train loss: 0.3386, acc: 0.8519, f1: 0.8519\n",
      "validation :\n"
     ]
    },
    {
     "data": {
      "application/vnd.jupyter.widget-view+json": {
       "model_id": "e9a70bfa8c084e9ab9dc7637bf326343",
       "version_major": 2,
       "version_minor": 0
      },
      "text/plain": [
       "  0%|          | 0/107 [00:00<?, ?it/s]"
      ]
     },
     "metadata": {},
     "output_type": "display_data"
    },
    {
     "name": "stdout",
     "output_type": "stream",
     "text": [
      "[[1585  112]\n",
      " [ 414 1283]]\n",
      "validation loss: 0.3652, acc: 0.8450, f1: 0.8450\n",
      "Epoch 80/300\n",
      "----------\n",
      "train :\n"
     ]
    },
    {
     "data": {
      "application/vnd.jupyter.widget-view+json": {
       "model_id": "59d4bf80fd2447aa8b73a6dff228b4ad",
       "version_major": 2,
       "version_minor": 0
      },
      "text/plain": [
       "  0%|          | 0/319 [00:00<?, ?it/s]"
      ]
     },
     "metadata": {},
     "output_type": "display_data"
    },
    {
     "name": "stdout",
     "output_type": "stream",
     "text": [
      "train loss: 0.3394, acc: 0.8545, f1: 0.8545\n",
      "validation :\n"
     ]
    },
    {
     "data": {
      "application/vnd.jupyter.widget-view+json": {
       "model_id": "9743cd4d151f4976b6fc71d0f4c66655",
       "version_major": 2,
       "version_minor": 0
      },
      "text/plain": [
       "  0%|          | 0/107 [00:00<?, ?it/s]"
      ]
     },
     "metadata": {},
     "output_type": "display_data"
    },
    {
     "name": "stdout",
     "output_type": "stream",
     "text": [
      "[[1455  242]\n",
      " [ 281 1416]]\n",
      "validation loss: 0.3524, acc: 0.8459, f1: 0.8459\n",
      "Epoch 81/300\n",
      "----------\n",
      "train :\n"
     ]
    },
    {
     "data": {
      "application/vnd.jupyter.widget-view+json": {
       "model_id": "ec65fa507e8344f680fbde81069baa6d",
       "version_major": 2,
       "version_minor": 0
      },
      "text/plain": [
       "  0%|          | 0/319 [00:00<?, ?it/s]"
      ]
     },
     "metadata": {},
     "output_type": "display_data"
    },
    {
     "name": "stdout",
     "output_type": "stream",
     "text": [
      "train loss: 0.3413, acc: 0.8523, f1: 0.8523\n",
      "validation :\n"
     ]
    },
    {
     "data": {
      "application/vnd.jupyter.widget-view+json": {
       "model_id": "2feb7ae6c833451fa64ca217fd815414",
       "version_major": 2,
       "version_minor": 0
      },
      "text/plain": [
       "  0%|          | 0/107 [00:00<?, ?it/s]"
      ]
     },
     "metadata": {},
     "output_type": "display_data"
    },
    {
     "name": "stdout",
     "output_type": "stream",
     "text": [
      "[[1536  161]\n",
      " [ 363 1334]]\n",
      "validation loss: 0.3600, acc: 0.8456, f1: 0.8456\n",
      "Epoch 82/300\n",
      "----------\n",
      "train :\n"
     ]
    },
    {
     "data": {
      "application/vnd.jupyter.widget-view+json": {
       "model_id": "a8f7de16066a414a880671f00b71d464",
       "version_major": 2,
       "version_minor": 0
      },
      "text/plain": [
       "  0%|          | 0/319 [00:00<?, ?it/s]"
      ]
     },
     "metadata": {},
     "output_type": "display_data"
    },
    {
     "name": "stdout",
     "output_type": "stream",
     "text": [
      "train loss: 0.3382, acc: 0.8493, f1: 0.8493\n",
      "validation :\n"
     ]
    },
    {
     "data": {
      "application/vnd.jupyter.widget-view+json": {
       "model_id": "732efd77aa51408b9960c5f53a5e7338",
       "version_major": 2,
       "version_minor": 0
      },
      "text/plain": [
       "  0%|          | 0/107 [00:00<?, ?it/s]"
      ]
     },
     "metadata": {},
     "output_type": "display_data"
    },
    {
     "name": "stdout",
     "output_type": "stream",
     "text": [
      "[[1448  249]\n",
      " [ 301 1396]]\n",
      "validation loss: 0.3661, acc: 0.8379, f1: 0.8379\n",
      "Epoch 83/300\n",
      "----------\n",
      "train :\n"
     ]
    },
    {
     "data": {
      "application/vnd.jupyter.widget-view+json": {
       "model_id": "1c48e5e63d5146b8a006fffad0d1b9e2",
       "version_major": 2,
       "version_minor": 0
      },
      "text/plain": [
       "  0%|          | 0/319 [00:00<?, ?it/s]"
      ]
     },
     "metadata": {},
     "output_type": "display_data"
    },
    {
     "name": "stdout",
     "output_type": "stream",
     "text": [
      "train loss: 0.3361, acc: 0.8526, f1: 0.8526\n",
      "validation :\n"
     ]
    },
    {
     "data": {
      "application/vnd.jupyter.widget-view+json": {
       "model_id": "fe690ee870164b168a68b38b6730a249",
       "version_major": 2,
       "version_minor": 0
      },
      "text/plain": [
       "  0%|          | 0/107 [00:00<?, ?it/s]"
      ]
     },
     "metadata": {},
     "output_type": "display_data"
    },
    {
     "name": "stdout",
     "output_type": "stream",
     "text": [
      "[[1487  210]\n",
      " [ 315 1382]]\n",
      "validation loss: 0.3615, acc: 0.8453, f1: 0.8453\n",
      "Epoch 84/300\n",
      "----------\n",
      "train :\n"
     ]
    },
    {
     "data": {
      "application/vnd.jupyter.widget-view+json": {
       "model_id": "4882a9009e6a4926bc9f610ddce65391",
       "version_major": 2,
       "version_minor": 0
      },
      "text/plain": [
       "  0%|          | 0/319 [00:00<?, ?it/s]"
      ]
     },
     "metadata": {},
     "output_type": "display_data"
    },
    {
     "name": "stdout",
     "output_type": "stream",
     "text": [
      "train loss: 0.3368, acc: 0.8542, f1: 0.8542\n",
      "validation :\n"
     ]
    },
    {
     "data": {
      "application/vnd.jupyter.widget-view+json": {
       "model_id": "e601781c81314c0b9b4256808af455c2",
       "version_major": 2,
       "version_minor": 0
      },
      "text/plain": [
       "  0%|          | 0/107 [00:00<?, ?it/s]"
      ]
     },
     "metadata": {},
     "output_type": "display_data"
    },
    {
     "name": "stdout",
     "output_type": "stream",
     "text": [
      "[[1520  177]\n",
      " [ 355 1342]]\n",
      "validation loss: 0.3712, acc: 0.8433, f1: 0.8433\n",
      "Epoch 85/300\n",
      "----------\n",
      "train :\n"
     ]
    },
    {
     "data": {
      "application/vnd.jupyter.widget-view+json": {
       "model_id": "ee911f25dfc3452b9072d933ef1e7789",
       "version_major": 2,
       "version_minor": 0
      },
      "text/plain": [
       "  0%|          | 0/319 [00:00<?, ?it/s]"
      ]
     },
     "metadata": {},
     "output_type": "display_data"
    },
    {
     "name": "stdout",
     "output_type": "stream",
     "text": [
      "train loss: 0.3300, acc: 0.8577, f1: 0.8577\n",
      "validation :\n"
     ]
    },
    {
     "data": {
      "application/vnd.jupyter.widget-view+json": {
       "model_id": "7e5f587f8f8f43eb80434663f7113e63",
       "version_major": 2,
       "version_minor": 0
      },
      "text/plain": [
       "  0%|          | 0/107 [00:00<?, ?it/s]"
      ]
     },
     "metadata": {},
     "output_type": "display_data"
    },
    {
     "name": "stdout",
     "output_type": "stream",
     "text": [
      "[[1506  191]\n",
      " [ 329 1368]]\n",
      "validation loss: 0.3534, acc: 0.8468, f1: 0.8468\n",
      "Epoch 86/300\n",
      "----------\n",
      "train :\n"
     ]
    },
    {
     "data": {
      "application/vnd.jupyter.widget-view+json": {
       "model_id": "90ff0f4305c84a9ea26fd150215a770a",
       "version_major": 2,
       "version_minor": 0
      },
      "text/plain": [
       "  0%|          | 0/319 [00:00<?, ?it/s]"
      ]
     },
     "metadata": {},
     "output_type": "display_data"
    },
    {
     "name": "stdout",
     "output_type": "stream",
     "text": [
      "train loss: 0.3318, acc: 0.8569, f1: 0.8569\n",
      "validation :\n"
     ]
    },
    {
     "data": {
      "application/vnd.jupyter.widget-view+json": {
       "model_id": "06d2ab422fb6408c8f8d5ac5267d3774",
       "version_major": 2,
       "version_minor": 0
      },
      "text/plain": [
       "  0%|          | 0/107 [00:00<?, ?it/s]"
      ]
     },
     "metadata": {},
     "output_type": "display_data"
    },
    {
     "name": "stdout",
     "output_type": "stream",
     "text": [
      "[[1465  232]\n",
      " [ 318 1379]]\n",
      "validation loss: 0.3741, acc: 0.8379, f1: 0.8379\n",
      "Epoch 87/300\n",
      "----------\n",
      "train :\n"
     ]
    },
    {
     "data": {
      "application/vnd.jupyter.widget-view+json": {
       "model_id": "92c73fcec9784c2987d2537ef7984baa",
       "version_major": 2,
       "version_minor": 0
      },
      "text/plain": [
       "  0%|          | 0/319 [00:00<?, ?it/s]"
      ]
     },
     "metadata": {},
     "output_type": "display_data"
    },
    {
     "name": "stdout",
     "output_type": "stream",
     "text": [
      "train loss: 0.3357, acc: 0.8547, f1: 0.8547\n",
      "validation :\n"
     ]
    },
    {
     "data": {
      "application/vnd.jupyter.widget-view+json": {
       "model_id": "7ca705fb9da04f599ee2998f3f4aad2f",
       "version_major": 2,
       "version_minor": 0
      },
      "text/plain": [
       "  0%|          | 0/107 [00:00<?, ?it/s]"
      ]
     },
     "metadata": {},
     "output_type": "display_data"
    },
    {
     "name": "stdout",
     "output_type": "stream",
     "text": [
      "[[1378  319]\n",
      " [ 256 1441]]\n",
      "validation loss: 0.3853, acc: 0.8306, f1: 0.8306\n",
      "Epoch 88/300\n",
      "----------\n",
      "train :\n"
     ]
    },
    {
     "data": {
      "application/vnd.jupyter.widget-view+json": {
       "model_id": "d9c49d0f8d444006bd6efbd3a43417e8",
       "version_major": 2,
       "version_minor": 0
      },
      "text/plain": [
       "  0%|          | 0/319 [00:00<?, ?it/s]"
      ]
     },
     "metadata": {},
     "output_type": "display_data"
    },
    {
     "name": "stdout",
     "output_type": "stream",
     "text": [
      "train loss: 0.3267, acc: 0.8580, f1: 0.8580\n",
      "validation :\n"
     ]
    },
    {
     "data": {
      "application/vnd.jupyter.widget-view+json": {
       "model_id": "44c7bd13cf7e41eabc4acf7d293f6eb2",
       "version_major": 2,
       "version_minor": 0
      },
      "text/plain": [
       "  0%|          | 0/107 [00:00<?, ?it/s]"
      ]
     },
     "metadata": {},
     "output_type": "display_data"
    },
    {
     "name": "stdout",
     "output_type": "stream",
     "text": [
      "[[1544  153]\n",
      " [ 411 1286]]\n",
      "validation loss: 0.3747, acc: 0.8338, f1: 0.8338\n",
      "Epoch 89/300\n",
      "----------\n",
      "train :\n"
     ]
    },
    {
     "data": {
      "application/vnd.jupyter.widget-view+json": {
       "model_id": "dd4e6bd8c89345d6969fc95bcbfd74b8",
       "version_major": 2,
       "version_minor": 0
      },
      "text/plain": [
       "  0%|          | 0/319 [00:00<?, ?it/s]"
      ]
     },
     "metadata": {},
     "output_type": "display_data"
    },
    {
     "name": "stdout",
     "output_type": "stream",
     "text": [
      "train loss: 0.3317, acc: 0.8541, f1: 0.8541\n",
      "validation :\n"
     ]
    },
    {
     "data": {
      "application/vnd.jupyter.widget-view+json": {
       "model_id": "f12dc6d33884445c85750ed98d56654f",
       "version_major": 2,
       "version_minor": 0
      },
      "text/plain": [
       "  0%|          | 0/107 [00:00<?, ?it/s]"
      ]
     },
     "metadata": {},
     "output_type": "display_data"
    },
    {
     "name": "stdout",
     "output_type": "stream",
     "text": [
      "[[1556  141]\n",
      " [ 384 1313]]\n",
      "validation loss: 0.3635, acc: 0.8453, f1: 0.8453\n",
      "Epoch 90/300\n",
      "----------\n",
      "train :\n"
     ]
    },
    {
     "data": {
      "application/vnd.jupyter.widget-view+json": {
       "model_id": "8af429cd28a1478fb745aeb65f52c71c",
       "version_major": 2,
       "version_minor": 0
      },
      "text/plain": [
       "  0%|          | 0/319 [00:00<?, ?it/s]"
      ]
     },
     "metadata": {},
     "output_type": "display_data"
    },
    {
     "name": "stdout",
     "output_type": "stream",
     "text": [
      "train loss: 0.3299, acc: 0.8585, f1: 0.8585\n",
      "validation :\n"
     ]
    },
    {
     "data": {
      "application/vnd.jupyter.widget-view+json": {
       "model_id": "09496836ec1e47c3b35927d069108129",
       "version_major": 2,
       "version_minor": 0
      },
      "text/plain": [
       "  0%|          | 0/107 [00:00<?, ?it/s]"
      ]
     },
     "metadata": {},
     "output_type": "display_data"
    },
    {
     "name": "stdout",
     "output_type": "stream",
     "text": [
      "[[1602   95]\n",
      " [ 476 1221]]\n",
      "validation loss: 0.3817, acc: 0.8318, f1: 0.8318\n",
      "Epoch 91/300\n",
      "----------\n",
      "train :\n"
     ]
    },
    {
     "data": {
      "application/vnd.jupyter.widget-view+json": {
       "model_id": "b92be16bc1e941b88676314e834e07c1",
       "version_major": 2,
       "version_minor": 0
      },
      "text/plain": [
       "  0%|          | 0/319 [00:00<?, ?it/s]"
      ]
     },
     "metadata": {},
     "output_type": "display_data"
    },
    {
     "name": "stdout",
     "output_type": "stream",
     "text": [
      "train loss: 0.3349, acc: 0.8564, f1: 0.8564\n",
      "validation :\n"
     ]
    },
    {
     "data": {
      "application/vnd.jupyter.widget-view+json": {
       "model_id": "80dfedb3598f406e98960921f7de9709",
       "version_major": 2,
       "version_minor": 0
      },
      "text/plain": [
       "  0%|          | 0/107 [00:00<?, ?it/s]"
      ]
     },
     "metadata": {},
     "output_type": "display_data"
    },
    {
     "name": "stdout",
     "output_type": "stream",
     "text": [
      "[[1539  158]\n",
      " [ 338 1359]]\n",
      "validation loss: 0.3540, acc: 0.8539, f1: 0.8539\n",
      "Epoch 92/300\n",
      "----------\n",
      "train :\n"
     ]
    },
    {
     "data": {
      "application/vnd.jupyter.widget-view+json": {
       "model_id": "3928836c05074d05a703b7fa617f3d09",
       "version_major": 2,
       "version_minor": 0
      },
      "text/plain": [
       "  0%|          | 0/319 [00:00<?, ?it/s]"
      ]
     },
     "metadata": {},
     "output_type": "display_data"
    },
    {
     "name": "stdout",
     "output_type": "stream",
     "text": [
      "train loss: 0.3311, acc: 0.8578, f1: 0.8578\n",
      "validation :\n"
     ]
    },
    {
     "data": {
      "application/vnd.jupyter.widget-view+json": {
       "model_id": "f188f3cdcf2e424fb3020484f4cf3f25",
       "version_major": 2,
       "version_minor": 0
      },
      "text/plain": [
       "  0%|          | 0/107 [00:00<?, ?it/s]"
      ]
     },
     "metadata": {},
     "output_type": "display_data"
    },
    {
     "name": "stdout",
     "output_type": "stream",
     "text": [
      "[[1527  170]\n",
      " [ 368 1329]]\n",
      "validation loss: 0.3726, acc: 0.8415, f1: 0.8415\n",
      "Epoch 93/300\n",
      "----------\n",
      "train :\n"
     ]
    },
    {
     "data": {
      "application/vnd.jupyter.widget-view+json": {
       "model_id": "ca7f5307c5dd42a28f998799d3c611b3",
       "version_major": 2,
       "version_minor": 0
      },
      "text/plain": [
       "  0%|          | 0/319 [00:00<?, ?it/s]"
      ]
     },
     "metadata": {},
     "output_type": "display_data"
    },
    {
     "name": "stdout",
     "output_type": "stream",
     "text": [
      "train loss: 0.3262, acc: 0.8620, f1: 0.8620\n",
      "validation :\n"
     ]
    },
    {
     "data": {
      "application/vnd.jupyter.widget-view+json": {
       "model_id": "ad45e666bc9841879948f7be8313057a",
       "version_major": 2,
       "version_minor": 0
      },
      "text/plain": [
       "  0%|          | 0/107 [00:00<?, ?it/s]"
      ]
     },
     "metadata": {},
     "output_type": "display_data"
    },
    {
     "name": "stdout",
     "output_type": "stream",
     "text": [
      "[[1577  120]\n",
      " [ 481 1216]]\n",
      "validation loss: 0.3949, acc: 0.8229, f1: 0.8229\n",
      "Epoch 94/300\n",
      "----------\n",
      "train :\n"
     ]
    },
    {
     "data": {
      "application/vnd.jupyter.widget-view+json": {
       "model_id": "4a2aaece69e142e384eaff48f418bc0b",
       "version_major": 2,
       "version_minor": 0
      },
      "text/plain": [
       "  0%|          | 0/319 [00:00<?, ?it/s]"
      ]
     },
     "metadata": {},
     "output_type": "display_data"
    },
    {
     "name": "stdout",
     "output_type": "stream",
     "text": [
      "train loss: 0.3180, acc: 0.8657, f1: 0.8657\n",
      "validation :\n"
     ]
    },
    {
     "data": {
      "application/vnd.jupyter.widget-view+json": {
       "model_id": "c1c14be0e39c41e3b05cb1d540f37d0c",
       "version_major": 2,
       "version_minor": 0
      },
      "text/plain": [
       "  0%|          | 0/107 [00:00<?, ?it/s]"
      ]
     },
     "metadata": {},
     "output_type": "display_data"
    },
    {
     "name": "stdout",
     "output_type": "stream",
     "text": [
      "[[1489  208]\n",
      " [ 331 1366]]\n",
      "validation loss: 0.3825, acc: 0.8412, f1: 0.8412\n",
      "Epoch 95/300\n",
      "----------\n",
      "train :\n"
     ]
    },
    {
     "data": {
      "application/vnd.jupyter.widget-view+json": {
       "model_id": "0f5fff7c96734a6ebe6d875daf6bea89",
       "version_major": 2,
       "version_minor": 0
      },
      "text/plain": [
       "  0%|          | 0/319 [00:00<?, ?it/s]"
      ]
     },
     "metadata": {},
     "output_type": "display_data"
    },
    {
     "name": "stdout",
     "output_type": "stream",
     "text": [
      "train loss: 0.3223, acc: 0.8604, f1: 0.8604\n",
      "validation :\n"
     ]
    },
    {
     "data": {
      "application/vnd.jupyter.widget-view+json": {
       "model_id": "b9ec00337eaf4ac1aa4a796f06db0ef4",
       "version_major": 2,
       "version_minor": 0
      },
      "text/plain": [
       "  0%|          | 0/107 [00:00<?, ?it/s]"
      ]
     },
     "metadata": {},
     "output_type": "display_data"
    },
    {
     "name": "stdout",
     "output_type": "stream",
     "text": [
      "[[1571  126]\n",
      " [ 405 1292]]\n",
      "validation loss: 0.3582, acc: 0.8435, f1: 0.8435\n",
      "Epoch 96/300\n",
      "----------\n",
      "train :\n"
     ]
    },
    {
     "data": {
      "application/vnd.jupyter.widget-view+json": {
       "model_id": "2eab17d088894ac686a86406790f0708",
       "version_major": 2,
       "version_minor": 0
      },
      "text/plain": [
       "  0%|          | 0/319 [00:00<?, ?it/s]"
      ]
     },
     "metadata": {},
     "output_type": "display_data"
    },
    {
     "name": "stdout",
     "output_type": "stream",
     "text": [
      "train loss: 0.3236, acc: 0.8608, f1: 0.8608\n",
      "validation :\n"
     ]
    },
    {
     "data": {
      "application/vnd.jupyter.widget-view+json": {
       "model_id": "8e55dae263434ac2adb5976207d7f212",
       "version_major": 2,
       "version_minor": 0
      },
      "text/plain": [
       "  0%|          | 0/107 [00:00<?, ?it/s]"
      ]
     },
     "metadata": {},
     "output_type": "display_data"
    },
    {
     "name": "stdout",
     "output_type": "stream",
     "text": [
      "[[1567  130]\n",
      " [ 385 1312]]\n",
      "validation loss: 0.3546, acc: 0.8483, f1: 0.8483\n",
      "Epoch 97/300\n",
      "----------\n",
      "train :\n"
     ]
    },
    {
     "data": {
      "application/vnd.jupyter.widget-view+json": {
       "model_id": "afaf5f3be92540dca88e169ac238f302",
       "version_major": 2,
       "version_minor": 0
      },
      "text/plain": [
       "  0%|          | 0/319 [00:00<?, ?it/s]"
      ]
     },
     "metadata": {},
     "output_type": "display_data"
    },
    {
     "name": "stdout",
     "output_type": "stream",
     "text": [
      "train loss: 0.3222, acc: 0.8633, f1: 0.8633\n",
      "validation :\n"
     ]
    },
    {
     "data": {
      "application/vnd.jupyter.widget-view+json": {
       "model_id": "59538c8ab80c4e1f85bd787b86c07305",
       "version_major": 2,
       "version_minor": 0
      },
      "text/plain": [
       "  0%|          | 0/107 [00:00<?, ?it/s]"
      ]
     },
     "metadata": {},
     "output_type": "display_data"
    },
    {
     "name": "stdout",
     "output_type": "stream",
     "text": [
      "[[1368  329]\n",
      " [ 215 1482]]\n",
      "validation loss: 0.3742, acc: 0.8397, f1: 0.8397\n",
      "Epoch 98/300\n",
      "----------\n",
      "train :\n"
     ]
    },
    {
     "data": {
      "application/vnd.jupyter.widget-view+json": {
       "model_id": "9c85cd932c88455e876cd679e4bc0fb3",
       "version_major": 2,
       "version_minor": 0
      },
      "text/plain": [
       "  0%|          | 0/319 [00:00<?, ?it/s]"
      ]
     },
     "metadata": {},
     "output_type": "display_data"
    },
    {
     "name": "stdout",
     "output_type": "stream",
     "text": [
      "train loss: 0.3219, acc: 0.8636, f1: 0.8636\n",
      "validation :\n"
     ]
    },
    {
     "data": {
      "application/vnd.jupyter.widget-view+json": {
       "model_id": "56123e6315ff4b419251ce86a2aedcf4",
       "version_major": 2,
       "version_minor": 0
      },
      "text/plain": [
       "  0%|          | 0/107 [00:00<?, ?it/s]"
      ]
     },
     "metadata": {},
     "output_type": "display_data"
    },
    {
     "name": "stdout",
     "output_type": "stream",
     "text": [
      "[[1403  294]\n",
      " [ 262 1435]]\n",
      "validation loss: 0.3648, acc: 0.8362, f1: 0.8362\n",
      "Epoch 99/300\n",
      "----------\n",
      "train :\n"
     ]
    },
    {
     "data": {
      "application/vnd.jupyter.widget-view+json": {
       "model_id": "3ded7ce43c374c4baeb30dc6089791d6",
       "version_major": 2,
       "version_minor": 0
      },
      "text/plain": [
       "  0%|          | 0/319 [00:00<?, ?it/s]"
      ]
     },
     "metadata": {},
     "output_type": "display_data"
    },
    {
     "name": "stdout",
     "output_type": "stream",
     "text": [
      "train loss: 0.3386, acc: 0.8523, f1: 0.8523\n",
      "validation :\n"
     ]
    },
    {
     "data": {
      "application/vnd.jupyter.widget-view+json": {
       "model_id": "cfc89af9c64e46788264da2060c72c59",
       "version_major": 2,
       "version_minor": 0
      },
      "text/plain": [
       "  0%|          | 0/107 [00:00<?, ?it/s]"
      ]
     },
     "metadata": {},
     "output_type": "display_data"
    },
    {
     "name": "stdout",
     "output_type": "stream",
     "text": [
      "[[1541  156]\n",
      " [ 404 1293]]\n",
      "validation loss: 0.3720, acc: 0.8350, f1: 0.8350\n",
      "Epoch 100/300\n",
      "----------\n",
      "train :\n"
     ]
    },
    {
     "data": {
      "application/vnd.jupyter.widget-view+json": {
       "model_id": "7f3bc4b6ff994d1280f08260edf84ef3",
       "version_major": 2,
       "version_minor": 0
      },
      "text/plain": [
       "  0%|          | 0/319 [00:00<?, ?it/s]"
      ]
     },
     "metadata": {},
     "output_type": "display_data"
    },
    {
     "name": "stdout",
     "output_type": "stream",
     "text": [
      "train loss: 0.3232, acc: 0.8583, f1: 0.8583\n",
      "validation :\n"
     ]
    },
    {
     "data": {
      "application/vnd.jupyter.widget-view+json": {
       "model_id": "aecfdd7956814700a34244c5f268bf5b",
       "version_major": 2,
       "version_minor": 0
      },
      "text/plain": [
       "  0%|          | 0/107 [00:00<?, ?it/s]"
      ]
     },
     "metadata": {},
     "output_type": "display_data"
    },
    {
     "name": "stdout",
     "output_type": "stream",
     "text": [
      "[[1469  228]\n",
      " [ 316 1381]]\n",
      "validation loss: 0.3652, acc: 0.8397, f1: 0.8397\n",
      "Epoch 101/300\n",
      "----------\n",
      "train :\n"
     ]
    },
    {
     "data": {
      "application/vnd.jupyter.widget-view+json": {
       "model_id": "3c03d2f629d048e898cce894ee735c65",
       "version_major": 2,
       "version_minor": 0
      },
      "text/plain": [
       "  0%|          | 0/319 [00:00<?, ?it/s]"
      ]
     },
     "metadata": {},
     "output_type": "display_data"
    },
    {
     "name": "stdout",
     "output_type": "stream",
     "text": [
      "train loss: 0.3190, acc: 0.8633, f1: 0.8633\n",
      "validation :\n"
     ]
    },
    {
     "data": {
      "application/vnd.jupyter.widget-view+json": {
       "model_id": "c1bf5466781842eb8ffdac623d0091f1",
       "version_major": 2,
       "version_minor": 0
      },
      "text/plain": [
       "  0%|          | 0/107 [00:00<?, ?it/s]"
      ]
     },
     "metadata": {},
     "output_type": "display_data"
    },
    {
     "name": "stdout",
     "output_type": "stream",
     "text": [
      "[[1602   95]\n",
      " [ 440 1257]]\n",
      "validation loss: 0.3667, acc: 0.8424, f1: 0.8424\n",
      "Epoch 102/300\n",
      "----------\n",
      "train :\n"
     ]
    },
    {
     "data": {
      "application/vnd.jupyter.widget-view+json": {
       "model_id": "fdfee9000fd14f7682c629cc883b58bd",
       "version_major": 2,
       "version_minor": 0
      },
      "text/plain": [
       "  0%|          | 0/319 [00:00<?, ?it/s]"
      ]
     },
     "metadata": {},
     "output_type": "display_data"
    },
    {
     "name": "stdout",
     "output_type": "stream",
     "text": [
      "train loss: 0.3151, acc: 0.8646, f1: 0.8646\n",
      "validation :\n"
     ]
    },
    {
     "data": {
      "application/vnd.jupyter.widget-view+json": {
       "model_id": "7d6ce62eb3a447a3a307a837979c59df",
       "version_major": 2,
       "version_minor": 0
      },
      "text/plain": [
       "  0%|          | 0/107 [00:00<?, ?it/s]"
      ]
     },
     "metadata": {},
     "output_type": "display_data"
    },
    {
     "name": "stdout",
     "output_type": "stream",
     "text": [
      "[[1507  190]\n",
      " [ 309 1388]]\n",
      "validation loss: 0.3455, acc: 0.8530, f1: 0.8530\n",
      "Epoch 103/300\n",
      "----------\n",
      "train :\n"
     ]
    },
    {
     "data": {
      "application/vnd.jupyter.widget-view+json": {
       "model_id": "736e6ebcafb748419aabbf0f784fd5e9",
       "version_major": 2,
       "version_minor": 0
      },
      "text/plain": [
       "  0%|          | 0/319 [00:00<?, ?it/s]"
      ]
     },
     "metadata": {},
     "output_type": "display_data"
    },
    {
     "name": "stdout",
     "output_type": "stream",
     "text": [
      "train loss: 0.3210, acc: 0.8625, f1: 0.8625\n",
      "validation :\n"
     ]
    },
    {
     "data": {
      "application/vnd.jupyter.widget-view+json": {
       "model_id": "fdaf543ae2f44f7e90a47b2a1af95054",
       "version_major": 2,
       "version_minor": 0
      },
      "text/plain": [
       "  0%|          | 0/107 [00:00<?, ?it/s]"
      ]
     },
     "metadata": {},
     "output_type": "display_data"
    },
    {
     "name": "stdout",
     "output_type": "stream",
     "text": [
      "[[1410  287]\n",
      " [ 245 1452]]\n",
      "validation loss: 0.3585, acc: 0.8433, f1: 0.8433\n",
      "Epoch 104/300\n",
      "----------\n",
      "train :\n"
     ]
    },
    {
     "data": {
      "application/vnd.jupyter.widget-view+json": {
       "model_id": "cdaedd4f2e154acf8f14d8bc3bc695a3",
       "version_major": 2,
       "version_minor": 0
      },
      "text/plain": [
       "  0%|          | 0/319 [00:00<?, ?it/s]"
      ]
     },
     "metadata": {},
     "output_type": "display_data"
    },
    {
     "name": "stdout",
     "output_type": "stream",
     "text": [
      "train loss: 0.3130, acc: 0.8662, f1: 0.8662\n",
      "validation :\n"
     ]
    },
    {
     "data": {
      "application/vnd.jupyter.widget-view+json": {
       "model_id": "d73285ce45394930a1888f66412ee31a",
       "version_major": 2,
       "version_minor": 0
      },
      "text/plain": [
       "  0%|          | 0/107 [00:00<?, ?it/s]"
      ]
     },
     "metadata": {},
     "output_type": "display_data"
    },
    {
     "name": "stdout",
     "output_type": "stream",
     "text": [
      "[[1452  245]\n",
      " [ 282 1415]]\n",
      "validation loss: 0.3604, acc: 0.8447, f1: 0.8447\n",
      "Epoch 105/300\n",
      "----------\n",
      "train :\n"
     ]
    },
    {
     "data": {
      "application/vnd.jupyter.widget-view+json": {
       "model_id": "e1c40c4211cf43369bff7c01a058c4f6",
       "version_major": 2,
       "version_minor": 0
      },
      "text/plain": [
       "  0%|          | 0/319 [00:00<?, ?it/s]"
      ]
     },
     "metadata": {},
     "output_type": "display_data"
    },
    {
     "name": "stdout",
     "output_type": "stream",
     "text": [
      "train loss: 0.3150, acc: 0.8624, f1: 0.8624\n",
      "validation :\n"
     ]
    },
    {
     "data": {
      "application/vnd.jupyter.widget-view+json": {
       "model_id": "3fba284ac0c94acdb02ca2957bd558d4",
       "version_major": 2,
       "version_minor": 0
      },
      "text/plain": [
       "  0%|          | 0/107 [00:00<?, ?it/s]"
      ]
     },
     "metadata": {},
     "output_type": "display_data"
    },
    {
     "name": "stdout",
     "output_type": "stream",
     "text": [
      "[[1562  135]\n",
      " [ 376 1321]]\n",
      "validation loss: 0.3493, acc: 0.8494, f1: 0.8494\n",
      "Epoch 106/300\n",
      "----------\n",
      "train :\n"
     ]
    },
    {
     "data": {
      "application/vnd.jupyter.widget-view+json": {
       "model_id": "2f5c1e55edfe4d948d004d58163c557c",
       "version_major": 2,
       "version_minor": 0
      },
      "text/plain": [
       "  0%|          | 0/319 [00:00<?, ?it/s]"
      ]
     },
     "metadata": {},
     "output_type": "display_data"
    },
    {
     "name": "stdout",
     "output_type": "stream",
     "text": [
      "train loss: 0.3175, acc: 0.8638, f1: 0.8638\n",
      "validation :\n"
     ]
    },
    {
     "data": {
      "application/vnd.jupyter.widget-view+json": {
       "model_id": "db3e2ebe03bd4f92a63ab580f915d8fb",
       "version_major": 2,
       "version_minor": 0
      },
      "text/plain": [
       "  0%|          | 0/107 [00:00<?, ?it/s]"
      ]
     },
     "metadata": {},
     "output_type": "display_data"
    },
    {
     "name": "stdout",
     "output_type": "stream",
     "text": [
      "[[1482  215]\n",
      " [ 284 1413]]\n",
      "validation loss: 0.3434, acc: 0.8530, f1: 0.8530\n",
      "Epoch 107/300\n",
      "----------\n",
      "train :\n"
     ]
    },
    {
     "data": {
      "application/vnd.jupyter.widget-view+json": {
       "model_id": "5aa0ace831bc4fbdad2fc023b1b445c6",
       "version_major": 2,
       "version_minor": 0
      },
      "text/plain": [
       "  0%|          | 0/319 [00:00<?, ?it/s]"
      ]
     },
     "metadata": {},
     "output_type": "display_data"
    },
    {
     "name": "stdout",
     "output_type": "stream",
     "text": [
      "train loss: 0.3113, acc: 0.8684, f1: 0.8684\n",
      "validation :\n"
     ]
    },
    {
     "data": {
      "application/vnd.jupyter.widget-view+json": {
       "model_id": "9edf5039eb954a228d2eb358737af8d7",
       "version_major": 2,
       "version_minor": 0
      },
      "text/plain": [
       "  0%|          | 0/107 [00:00<?, ?it/s]"
      ]
     },
     "metadata": {},
     "output_type": "display_data"
    },
    {
     "name": "stdout",
     "output_type": "stream",
     "text": [
      "[[1471  226]\n",
      " [ 314 1383]]\n",
      "validation loss: 0.3628, acc: 0.8409, f1: 0.8409\n",
      "Epoch 108/300\n",
      "----------\n",
      "train :\n"
     ]
    },
    {
     "data": {
      "application/vnd.jupyter.widget-view+json": {
       "model_id": "78a5a38f9840471381ce978ee53c6b16",
       "version_major": 2,
       "version_minor": 0
      },
      "text/plain": [
       "  0%|          | 0/319 [00:00<?, ?it/s]"
      ]
     },
     "metadata": {},
     "output_type": "display_data"
    },
    {
     "name": "stdout",
     "output_type": "stream",
     "text": [
      "train loss: 0.3201, acc: 0.8617, f1: 0.8617\n",
      "validation :\n"
     ]
    },
    {
     "data": {
      "application/vnd.jupyter.widget-view+json": {
       "model_id": "1c1f64d4cb4d4f18b8379e4a6fba16ae",
       "version_major": 2,
       "version_minor": 0
      },
      "text/plain": [
       "  0%|          | 0/107 [00:00<?, ?it/s]"
      ]
     },
     "metadata": {},
     "output_type": "display_data"
    },
    {
     "name": "stdout",
     "output_type": "stream",
     "text": [
      "[[1392  305]\n",
      " [ 257 1440]]\n",
      "validation loss: 0.3833, acc: 0.8344, f1: 0.8344\n",
      "Epoch 109/300\n",
      "----------\n",
      "train :\n"
     ]
    },
    {
     "data": {
      "application/vnd.jupyter.widget-view+json": {
       "model_id": "887ed085440d4a95a38d3b2793165cfe",
       "version_major": 2,
       "version_minor": 0
      },
      "text/plain": [
       "  0%|          | 0/319 [00:00<?, ?it/s]"
      ]
     },
     "metadata": {},
     "output_type": "display_data"
    },
    {
     "name": "stdout",
     "output_type": "stream",
     "text": [
      "train loss: 0.3189, acc: 0.8612, f1: 0.8612\n",
      "validation :\n"
     ]
    },
    {
     "data": {
      "application/vnd.jupyter.widget-view+json": {
       "model_id": "4b484c657281472688f5baff6a7d8a82",
       "version_major": 2,
       "version_minor": 0
      },
      "text/plain": [
       "  0%|          | 0/107 [00:00<?, ?it/s]"
      ]
     },
     "metadata": {},
     "output_type": "display_data"
    },
    {
     "name": "stdout",
     "output_type": "stream",
     "text": [
      "[[1564  133]\n",
      " [ 401 1296]]\n",
      "validation loss: 0.3601, acc: 0.8427, f1: 0.8427\n",
      "Epoch 110/300\n",
      "----------\n",
      "train :\n"
     ]
    },
    {
     "data": {
      "application/vnd.jupyter.widget-view+json": {
       "model_id": "81779bb1c95e4526999e88483ae7ae86",
       "version_major": 2,
       "version_minor": 0
      },
      "text/plain": [
       "  0%|          | 0/319 [00:00<?, ?it/s]"
      ]
     },
     "metadata": {},
     "output_type": "display_data"
    },
    {
     "name": "stdout",
     "output_type": "stream",
     "text": [
      "train loss: 0.3155, acc: 0.8627, f1: 0.8627\n",
      "validation :\n"
     ]
    },
    {
     "data": {
      "application/vnd.jupyter.widget-view+json": {
       "model_id": "db9b61410d004ffb88d6daf382416cb9",
       "version_major": 2,
       "version_minor": 0
      },
      "text/plain": [
       "  0%|          | 0/107 [00:00<?, ?it/s]"
      ]
     },
     "metadata": {},
     "output_type": "display_data"
    },
    {
     "name": "stdout",
     "output_type": "stream",
     "text": [
      "[[1544  153]\n",
      " [ 338 1359]]\n",
      "validation loss: 0.3470, acc: 0.8553, f1: 0.8553\n",
      "Epoch 111/300\n",
      "----------\n",
      "train :\n"
     ]
    },
    {
     "data": {
      "application/vnd.jupyter.widget-view+json": {
       "model_id": "ed957e7deab5462bac3a58e6dafa7020",
       "version_major": 2,
       "version_minor": 0
      },
      "text/plain": [
       "  0%|          | 0/319 [00:00<?, ?it/s]"
      ]
     },
     "metadata": {},
     "output_type": "display_data"
    },
    {
     "name": "stdout",
     "output_type": "stream",
     "text": [
      "train loss: 0.3072, acc: 0.8719, f1: 0.8719\n",
      "validation :\n"
     ]
    },
    {
     "data": {
      "application/vnd.jupyter.widget-view+json": {
       "model_id": "ff66d6a43a7544168958f504d5bfd0f0",
       "version_major": 2,
       "version_minor": 0
      },
      "text/plain": [
       "  0%|          | 0/107 [00:00<?, ?it/s]"
      ]
     },
     "metadata": {},
     "output_type": "display_data"
    },
    {
     "name": "stdout",
     "output_type": "stream",
     "text": [
      "[[1525  172]\n",
      " [ 332 1365]]\n",
      "validation loss: 0.3473, acc: 0.8515, f1: 0.8515\n",
      "Epoch 112/300\n",
      "----------\n",
      "train :\n"
     ]
    },
    {
     "data": {
      "application/vnd.jupyter.widget-view+json": {
       "model_id": "bb712b34c54946d282352823e59cdce8",
       "version_major": 2,
       "version_minor": 0
      },
      "text/plain": [
       "  0%|          | 0/319 [00:00<?, ?it/s]"
      ]
     },
     "metadata": {},
     "output_type": "display_data"
    },
    {
     "name": "stdout",
     "output_type": "stream",
     "text": [
      "train loss: 0.3164, acc: 0.8651, f1: 0.8651\n",
      "validation :\n"
     ]
    },
    {
     "data": {
      "application/vnd.jupyter.widget-view+json": {
       "model_id": "08e0db5dbdc64ab39913ae71a6563ce5",
       "version_major": 2,
       "version_minor": 0
      },
      "text/plain": [
       "  0%|          | 0/107 [00:00<?, ?it/s]"
      ]
     },
     "metadata": {},
     "output_type": "display_data"
    },
    {
     "name": "stdout",
     "output_type": "stream",
     "text": [
      "[[1545  152]\n",
      " [ 360 1337]]\n",
      "validation loss: 0.3555, acc: 0.8491, f1: 0.8491\n",
      "Epoch 113/300\n",
      "----------\n",
      "train :\n"
     ]
    },
    {
     "data": {
      "application/vnd.jupyter.widget-view+json": {
       "model_id": "18b8103c6a4c4ce38353d9ff1e922ff8",
       "version_major": 2,
       "version_minor": 0
      },
      "text/plain": [
       "  0%|          | 0/319 [00:00<?, ?it/s]"
      ]
     },
     "metadata": {},
     "output_type": "display_data"
    },
    {
     "name": "stdout",
     "output_type": "stream",
     "text": [
      "train loss: 0.3087, acc: 0.8697, f1: 0.8697\n",
      "validation :\n"
     ]
    },
    {
     "data": {
      "application/vnd.jupyter.widget-view+json": {
       "model_id": "34c1b338662a4f18ae73bc33308c3877",
       "version_major": 2,
       "version_minor": 0
      },
      "text/plain": [
       "  0%|          | 0/107 [00:00<?, ?it/s]"
      ]
     },
     "metadata": {},
     "output_type": "display_data"
    },
    {
     "name": "stdout",
     "output_type": "stream",
     "text": [
      "[[1551  146]\n",
      " [ 409 1288]]\n",
      "validation loss: 0.3662, acc: 0.8365, f1: 0.8365\n",
      "Epoch 114/300\n",
      "----------\n",
      "train :\n"
     ]
    },
    {
     "data": {
      "application/vnd.jupyter.widget-view+json": {
       "model_id": "89998a4c2f5f41b280af2362769d6fc5",
       "version_major": 2,
       "version_minor": 0
      },
      "text/plain": [
       "  0%|          | 0/319 [00:00<?, ?it/s]"
      ]
     },
     "metadata": {},
     "output_type": "display_data"
    },
    {
     "name": "stdout",
     "output_type": "stream",
     "text": [
      "train loss: 0.3060, acc: 0.8683, f1: 0.8683\n",
      "validation :\n"
     ]
    },
    {
     "data": {
      "application/vnd.jupyter.widget-view+json": {
       "model_id": "ed24236d0fb849fda5d2fd0e00006ec9",
       "version_major": 2,
       "version_minor": 0
      },
      "text/plain": [
       "  0%|          | 0/107 [00:00<?, ?it/s]"
      ]
     },
     "metadata": {},
     "output_type": "display_data"
    },
    {
     "name": "stdout",
     "output_type": "stream",
     "text": [
      "[[1480  217]\n",
      " [ 300 1397]]\n",
      "validation loss: 0.3516, acc: 0.8477, f1: 0.8477\n",
      "Epoch 115/300\n",
      "----------\n",
      "train :\n"
     ]
    },
    {
     "data": {
      "application/vnd.jupyter.widget-view+json": {
       "model_id": "e1478091bd2549eebe1aec5a47459276",
       "version_major": 2,
       "version_minor": 0
      },
      "text/plain": [
       "  0%|          | 0/319 [00:00<?, ?it/s]"
      ]
     },
     "metadata": {},
     "output_type": "display_data"
    },
    {
     "name": "stdout",
     "output_type": "stream",
     "text": [
      "train loss: 0.3054, acc: 0.8691, f1: 0.8691\n",
      "validation :\n"
     ]
    },
    {
     "data": {
      "application/vnd.jupyter.widget-view+json": {
       "model_id": "5b8d6d3b896f416ea105aedfde7bebc6",
       "version_major": 2,
       "version_minor": 0
      },
      "text/plain": [
       "  0%|          | 0/107 [00:00<?, ?it/s]"
      ]
     },
     "metadata": {},
     "output_type": "display_data"
    },
    {
     "name": "stdout",
     "output_type": "stream",
     "text": [
      "[[1450  247]\n",
      " [ 264 1433]]\n",
      "validation loss: 0.3663, acc: 0.8494, f1: 0.8494\n",
      "Epoch 116/300\n",
      "----------\n",
      "train :\n"
     ]
    },
    {
     "data": {
      "application/vnd.jupyter.widget-view+json": {
       "model_id": "809fef46fc044e1ebc997ebb62626088",
       "version_major": 2,
       "version_minor": 0
      },
      "text/plain": [
       "  0%|          | 0/319 [00:00<?, ?it/s]"
      ]
     },
     "metadata": {},
     "output_type": "display_data"
    },
    {
     "name": "stdout",
     "output_type": "stream",
     "text": [
      "train loss: 0.3139, acc: 0.8670, f1: 0.8670\n",
      "validation :\n"
     ]
    },
    {
     "data": {
      "application/vnd.jupyter.widget-view+json": {
       "model_id": "f4bcce41f559457bbda1e7d7c548b6d7",
       "version_major": 2,
       "version_minor": 0
      },
      "text/plain": [
       "  0%|          | 0/107 [00:00<?, ?it/s]"
      ]
     },
     "metadata": {},
     "output_type": "display_data"
    },
    {
     "name": "stdout",
     "output_type": "stream",
     "text": [
      "[[1505  192]\n",
      " [ 345 1352]]\n",
      "validation loss: 0.3664, acc: 0.8418, f1: 0.8418\n",
      "Epoch 117/300\n",
      "----------\n",
      "train :\n"
     ]
    },
    {
     "data": {
      "application/vnd.jupyter.widget-view+json": {
       "model_id": "a228a915545c4f74bc46b47062f54d41",
       "version_major": 2,
       "version_minor": 0
      },
      "text/plain": [
       "  0%|          | 0/319 [00:00<?, ?it/s]"
      ]
     },
     "metadata": {},
     "output_type": "display_data"
    },
    {
     "name": "stdout",
     "output_type": "stream",
     "text": [
      "train loss: 0.3092, acc: 0.8673, f1: 0.8673\n",
      "validation :\n"
     ]
    },
    {
     "data": {
      "application/vnd.jupyter.widget-view+json": {
       "model_id": "61d6201fd82343988b58db8fda2183b6",
       "version_major": 2,
       "version_minor": 0
      },
      "text/plain": [
       "  0%|          | 0/107 [00:00<?, ?it/s]"
      ]
     },
     "metadata": {},
     "output_type": "display_data"
    },
    {
     "name": "stdout",
     "output_type": "stream",
     "text": [
      "[[1561  136]\n",
      " [ 407 1290]]\n",
      "validation loss: 0.3775, acc: 0.8400, f1: 0.8400\n",
      "Epoch 118/300\n",
      "----------\n",
      "train :\n"
     ]
    },
    {
     "data": {
      "application/vnd.jupyter.widget-view+json": {
       "model_id": "ddd6d838188241918c5374254a5ed721",
       "version_major": 2,
       "version_minor": 0
      },
      "text/plain": [
       "  0%|          | 0/319 [00:00<?, ?it/s]"
      ]
     },
     "metadata": {},
     "output_type": "display_data"
    },
    {
     "name": "stdout",
     "output_type": "stream",
     "text": [
      "train loss: 0.3058, acc: 0.8741, f1: 0.8741\n",
      "validation :\n"
     ]
    },
    {
     "data": {
      "application/vnd.jupyter.widget-view+json": {
       "model_id": "f3c123904e524f5c8159a1901e282650",
       "version_major": 2,
       "version_minor": 0
      },
      "text/plain": [
       "  0%|          | 0/107 [00:00<?, ?it/s]"
      ]
     },
     "metadata": {},
     "output_type": "display_data"
    },
    {
     "name": "stdout",
     "output_type": "stream",
     "text": [
      "[[1534  163]\n",
      " [ 373 1324]]\n",
      "validation loss: 0.3629, acc: 0.8421, f1: 0.8421\n",
      "Epoch 119/300\n",
      "----------\n",
      "train :\n"
     ]
    },
    {
     "data": {
      "application/vnd.jupyter.widget-view+json": {
       "model_id": "9a298e1ac3f24bab83c67bbfd9f59bc4",
       "version_major": 2,
       "version_minor": 0
      },
      "text/plain": [
       "  0%|          | 0/319 [00:00<?, ?it/s]"
      ]
     },
     "metadata": {},
     "output_type": "display_data"
    },
    {
     "name": "stdout",
     "output_type": "stream",
     "text": [
      "train loss: 0.3111, acc: 0.8673, f1: 0.8673\n",
      "validation :\n"
     ]
    },
    {
     "data": {
      "application/vnd.jupyter.widget-view+json": {
       "model_id": "716d0aa3547745d1892e6119eea06783",
       "version_major": 2,
       "version_minor": 0
      },
      "text/plain": [
       "  0%|          | 0/107 [00:00<?, ?it/s]"
      ]
     },
     "metadata": {},
     "output_type": "display_data"
    },
    {
     "name": "stdout",
     "output_type": "stream",
     "text": [
      "[[1589  108]\n",
      " [ 480 1217]]\n",
      "validation loss: 0.4144, acc: 0.8268, f1: 0.8268\n",
      "Epoch 120/300\n",
      "----------\n",
      "train :\n"
     ]
    },
    {
     "data": {
      "application/vnd.jupyter.widget-view+json": {
       "model_id": "bf8c19a6573c498cbf3580cd272cd5b5",
       "version_major": 2,
       "version_minor": 0
      },
      "text/plain": [
       "  0%|          | 0/319 [00:00<?, ?it/s]"
      ]
     },
     "metadata": {},
     "output_type": "display_data"
    },
    {
     "name": "stdout",
     "output_type": "stream",
     "text": [
      "train loss: 0.3060, acc: 0.8689, f1: 0.8689\n",
      "validation :\n"
     ]
    },
    {
     "data": {
      "application/vnd.jupyter.widget-view+json": {
       "model_id": "c17cbb4410864a5a94211bdb5a3e64a8",
       "version_major": 2,
       "version_minor": 0
      },
      "text/plain": [
       "  0%|          | 0/107 [00:00<?, ?it/s]"
      ]
     },
     "metadata": {},
     "output_type": "display_data"
    },
    {
     "name": "stdout",
     "output_type": "stream",
     "text": [
      "[[1582  115]\n",
      " [ 407 1290]]\n",
      "validation loss: 0.3660, acc: 0.8462, f1: 0.8462\n",
      "Epoch 121/300\n",
      "----------\n",
      "train :\n"
     ]
    },
    {
     "data": {
      "application/vnd.jupyter.widget-view+json": {
       "model_id": "d0e6b1dc6c4a4396b816714a9e6c2e18",
       "version_major": 2,
       "version_minor": 0
      },
      "text/plain": [
       "  0%|          | 0/319 [00:00<?, ?it/s]"
      ]
     },
     "metadata": {},
     "output_type": "display_data"
    },
    {
     "name": "stdout",
     "output_type": "stream",
     "text": [
      "train loss: 0.3105, acc: 0.8675, f1: 0.8675\n",
      "validation :\n"
     ]
    },
    {
     "data": {
      "application/vnd.jupyter.widget-view+json": {
       "model_id": "8a1ed5aa79fd42a995a2a00a1a0be023",
       "version_major": 2,
       "version_minor": 0
      },
      "text/plain": [
       "  0%|          | 0/107 [00:00<?, ?it/s]"
      ]
     },
     "metadata": {},
     "output_type": "display_data"
    },
    {
     "name": "stdout",
     "output_type": "stream",
     "text": [
      "[[1576  121]\n",
      " [ 420 1277]]\n",
      "validation loss: 0.3695, acc: 0.8406, f1: 0.8406\n",
      "Epoch 122/300\n",
      "----------\n",
      "train :\n"
     ]
    },
    {
     "data": {
      "application/vnd.jupyter.widget-view+json": {
       "model_id": "afe424fa94954abcaf990d3e0fba0e78",
       "version_major": 2,
       "version_minor": 0
      },
      "text/plain": [
       "  0%|          | 0/319 [00:00<?, ?it/s]"
      ]
     },
     "metadata": {},
     "output_type": "display_data"
    },
    {
     "name": "stdout",
     "output_type": "stream",
     "text": [
      "train loss: 0.3127, acc: 0.8650, f1: 0.8650\n",
      "validation :\n"
     ]
    },
    {
     "data": {
      "application/vnd.jupyter.widget-view+json": {
       "model_id": "678a6bdd45984033bfa1cfee4261b8fc",
       "version_major": 2,
       "version_minor": 0
      },
      "text/plain": [
       "  0%|          | 0/107 [00:00<?, ?it/s]"
      ]
     },
     "metadata": {},
     "output_type": "display_data"
    },
    {
     "name": "stdout",
     "output_type": "stream",
     "text": [
      "[[1565  132]\n",
      " [ 393 1304]]\n",
      "validation loss: 0.3872, acc: 0.8453, f1: 0.8453\n",
      "Epoch 123/300\n",
      "----------\n",
      "train :\n"
     ]
    },
    {
     "data": {
      "application/vnd.jupyter.widget-view+json": {
       "model_id": "40ec067ac76e4a0882bc627eb9dacd2d",
       "version_major": 2,
       "version_minor": 0
      },
      "text/plain": [
       "  0%|          | 0/319 [00:00<?, ?it/s]"
      ]
     },
     "metadata": {},
     "output_type": "display_data"
    },
    {
     "name": "stdout",
     "output_type": "stream",
     "text": [
      "train loss: 0.3142, acc: 0.8641, f1: 0.8641\n",
      "validation :\n"
     ]
    },
    {
     "data": {
      "application/vnd.jupyter.widget-view+json": {
       "model_id": "d65ff8e9719a4fd582e705fde8f139cb",
       "version_major": 2,
       "version_minor": 0
      },
      "text/plain": [
       "  0%|          | 0/107 [00:00<?, ?it/s]"
      ]
     },
     "metadata": {},
     "output_type": "display_data"
    },
    {
     "name": "stdout",
     "output_type": "stream",
     "text": [
      "[[1502  195]\n",
      " [ 308 1389]]\n",
      "validation loss: 0.3460, acc: 0.8518, f1: 0.8518\n",
      "Epoch 124/300\n",
      "----------\n",
      "train :\n"
     ]
    },
    {
     "data": {
      "application/vnd.jupyter.widget-view+json": {
       "model_id": "c26cbfbd1ed74399bdf45a0f32f495bc",
       "version_major": 2,
       "version_minor": 0
      },
      "text/plain": [
       "  0%|          | 0/319 [00:00<?, ?it/s]"
      ]
     },
     "metadata": {},
     "output_type": "display_data"
    },
    {
     "name": "stdout",
     "output_type": "stream",
     "text": [
      "train loss: 0.3101, acc: 0.8684, f1: 0.8684\n",
      "validation :\n"
     ]
    },
    {
     "data": {
      "application/vnd.jupyter.widget-view+json": {
       "model_id": "4bd32d57f5524f4db1859c5eb5cf82fb",
       "version_major": 2,
       "version_minor": 0
      },
      "text/plain": [
       "  0%|          | 0/107 [00:00<?, ?it/s]"
      ]
     },
     "metadata": {},
     "output_type": "display_data"
    },
    {
     "name": "stdout",
     "output_type": "stream",
     "text": [
      "[[1550  147]\n",
      " [ 374 1323]]\n",
      "validation loss: 0.3562, acc: 0.8465, f1: 0.8465\n",
      "Epoch 125/300\n",
      "----------\n",
      "train :\n"
     ]
    },
    {
     "data": {
      "application/vnd.jupyter.widget-view+json": {
       "model_id": "5a8f0e4deab24c8897bbb893e3b2b491",
       "version_major": 2,
       "version_minor": 0
      },
      "text/plain": [
       "  0%|          | 0/319 [00:00<?, ?it/s]"
      ]
     },
     "metadata": {},
     "output_type": "display_data"
    },
    {
     "name": "stdout",
     "output_type": "stream",
     "text": [
      "train loss: 0.3015, acc: 0.8694, f1: 0.8694\n",
      "validation :\n"
     ]
    },
    {
     "data": {
      "application/vnd.jupyter.widget-view+json": {
       "model_id": "6a1455b9f9c34fd9a592807a6126be89",
       "version_major": 2,
       "version_minor": 0
      },
      "text/plain": [
       "  0%|          | 0/107 [00:00<?, ?it/s]"
      ]
     },
     "metadata": {},
     "output_type": "display_data"
    },
    {
     "name": "stdout",
     "output_type": "stream",
     "text": [
      "[[1514  183]\n",
      " [ 355 1342]]\n",
      "validation loss: 0.3551, acc: 0.8415, f1: 0.8415\n",
      "Epoch 126/300\n",
      "----------\n",
      "train :\n"
     ]
    },
    {
     "data": {
      "application/vnd.jupyter.widget-view+json": {
       "model_id": "bf52153e9d36462bbdcb1eed1d544403",
       "version_major": 2,
       "version_minor": 0
      },
      "text/plain": [
       "  0%|          | 0/319 [00:00<?, ?it/s]"
      ]
     },
     "metadata": {},
     "output_type": "display_data"
    },
    {
     "name": "stdout",
     "output_type": "stream",
     "text": [
      "train loss: 0.3080, acc: 0.8669, f1: 0.8669\n",
      "validation :\n"
     ]
    },
    {
     "data": {
      "application/vnd.jupyter.widget-view+json": {
       "model_id": "db54de23904c4be49e3f7a934e97fbaf",
       "version_major": 2,
       "version_minor": 0
      },
      "text/plain": [
       "  0%|          | 0/107 [00:00<?, ?it/s]"
      ]
     },
     "metadata": {},
     "output_type": "display_data"
    },
    {
     "name": "stdout",
     "output_type": "stream",
     "text": [
      "[[1585  112]\n",
      " [ 471 1226]]\n",
      "validation loss: 0.3835, acc: 0.8282, f1: 0.8282\n",
      "Epoch 127/300\n",
      "----------\n",
      "train :\n"
     ]
    },
    {
     "data": {
      "application/vnd.jupyter.widget-view+json": {
       "model_id": "57550ad3d456453d8839e77febf77fd7",
       "version_major": 2,
       "version_minor": 0
      },
      "text/plain": [
       "  0%|          | 0/319 [00:00<?, ?it/s]"
      ]
     },
     "metadata": {},
     "output_type": "display_data"
    },
    {
     "name": "stdout",
     "output_type": "stream",
     "text": [
      "train loss: 0.3081, acc: 0.8699, f1: 0.8699\n",
      "validation :\n"
     ]
    },
    {
     "data": {
      "application/vnd.jupyter.widget-view+json": {
       "model_id": "1a4910df2bd042c0b2bec271262b7cdd",
       "version_major": 2,
       "version_minor": 0
      },
      "text/plain": [
       "  0%|          | 0/107 [00:00<?, ?it/s]"
      ]
     },
     "metadata": {},
     "output_type": "display_data"
    },
    {
     "name": "stdout",
     "output_type": "stream",
     "text": [
      "[[1601   96]\n",
      " [ 469 1228]]\n",
      "validation loss: 0.3916, acc: 0.8335, f1: 0.8335\n",
      "Epoch 128/300\n",
      "----------\n",
      "train :\n"
     ]
    },
    {
     "data": {
      "application/vnd.jupyter.widget-view+json": {
       "model_id": "ebca3e9dbf1d40bd88cedcb144ed8cee",
       "version_major": 2,
       "version_minor": 0
      },
      "text/plain": [
       "  0%|          | 0/319 [00:00<?, ?it/s]"
      ]
     },
     "metadata": {},
     "output_type": "display_data"
    },
    {
     "name": "stdout",
     "output_type": "stream",
     "text": [
      "train loss: 0.3066, acc: 0.8689, f1: 0.8689\n",
      "validation :\n"
     ]
    },
    {
     "data": {
      "application/vnd.jupyter.widget-view+json": {
       "model_id": "2945056cafc24a758149bdc0746abb48",
       "version_major": 2,
       "version_minor": 0
      },
      "text/plain": [
       "  0%|          | 0/107 [00:00<?, ?it/s]"
      ]
     },
     "metadata": {},
     "output_type": "display_data"
    },
    {
     "name": "stdout",
     "output_type": "stream",
     "text": [
      "[[1531  166]\n",
      " [ 325 1372]]\n",
      "validation loss: 0.3394, acc: 0.8553, f1: 0.8553\n",
      "Epoch 129/300\n",
      "----------\n",
      "train :\n"
     ]
    },
    {
     "data": {
      "application/vnd.jupyter.widget-view+json": {
       "model_id": "ed6f47f8f01845eaacbb2a3eea8e6925",
       "version_major": 2,
       "version_minor": 0
      },
      "text/plain": [
       "  0%|          | 0/319 [00:00<?, ?it/s]"
      ]
     },
     "metadata": {},
     "output_type": "display_data"
    },
    {
     "name": "stdout",
     "output_type": "stream",
     "text": [
      "train loss: 0.3010, acc: 0.8719, f1: 0.8719\n",
      "validation :\n"
     ]
    },
    {
     "data": {
      "application/vnd.jupyter.widget-view+json": {
       "model_id": "89cf31e1b0dc43bcb42ae5527e2a758d",
       "version_major": 2,
       "version_minor": 0
      },
      "text/plain": [
       "  0%|          | 0/107 [00:00<?, ?it/s]"
      ]
     },
     "metadata": {},
     "output_type": "display_data"
    },
    {
     "name": "stdout",
     "output_type": "stream",
     "text": [
      "[[1556  141]\n",
      " [ 356 1341]]\n",
      "validation loss: 0.3494, acc: 0.8536, f1: 0.8536\n",
      "Epoch 130/300\n",
      "----------\n",
      "train :\n"
     ]
    },
    {
     "data": {
      "application/vnd.jupyter.widget-view+json": {
       "model_id": "2117a38e32504daa99ccc9bbfdd5bd16",
       "version_major": 2,
       "version_minor": 0
      },
      "text/plain": [
       "  0%|          | 0/319 [00:00<?, ?it/s]"
      ]
     },
     "metadata": {},
     "output_type": "display_data"
    },
    {
     "name": "stdout",
     "output_type": "stream",
     "text": [
      "train loss: 0.3022, acc: 0.8733, f1: 0.8733\n",
      "validation :\n"
     ]
    },
    {
     "data": {
      "application/vnd.jupyter.widget-view+json": {
       "model_id": "46f7a9e3640446bf9f61d1ab55cf5fac",
       "version_major": 2,
       "version_minor": 0
      },
      "text/plain": [
       "  0%|          | 0/107 [00:00<?, ?it/s]"
      ]
     },
     "metadata": {},
     "output_type": "display_data"
    },
    {
     "name": "stdout",
     "output_type": "stream",
     "text": [
      "[[1552  145]\n",
      " [ 352 1345]]\n",
      "validation loss: 0.3477, acc: 0.8536, f1: 0.8536\n",
      "Epoch 131/300\n",
      "----------\n",
      "train :\n"
     ]
    },
    {
     "data": {
      "application/vnd.jupyter.widget-view+json": {
       "model_id": "b67b302b54af4083bcee6855e02ef6ab",
       "version_major": 2,
       "version_minor": 0
      },
      "text/plain": [
       "  0%|          | 0/319 [00:00<?, ?it/s]"
      ]
     },
     "metadata": {},
     "output_type": "display_data"
    },
    {
     "name": "stdout",
     "output_type": "stream",
     "text": [
      "train loss: 0.3018, acc: 0.8698, f1: 0.8698\n",
      "validation :\n"
     ]
    },
    {
     "data": {
      "application/vnd.jupyter.widget-view+json": {
       "model_id": "b334de821e504840a361403e9c3ffc36",
       "version_major": 2,
       "version_minor": 0
      },
      "text/plain": [
       "  0%|          | 0/107 [00:00<?, ?it/s]"
      ]
     },
     "metadata": {},
     "output_type": "display_data"
    },
    {
     "name": "stdout",
     "output_type": "stream",
     "text": [
      "[[1517  180]\n",
      " [ 356 1341]]\n",
      "validation loss: 0.3580, acc: 0.8421, f1: 0.8421\n",
      "Epoch 132/300\n",
      "----------\n",
      "train :\n"
     ]
    },
    {
     "data": {
      "application/vnd.jupyter.widget-view+json": {
       "model_id": "f4e082a91ae74ce19cbcaf0b1e3b1db4",
       "version_major": 2,
       "version_minor": 0
      },
      "text/plain": [
       "  0%|          | 0/319 [00:00<?, ?it/s]"
      ]
     },
     "metadata": {},
     "output_type": "display_data"
    },
    {
     "name": "stdout",
     "output_type": "stream",
     "text": [
      "train loss: 0.2986, acc: 0.8741, f1: 0.8741\n",
      "validation :\n"
     ]
    },
    {
     "data": {
      "application/vnd.jupyter.widget-view+json": {
       "model_id": "b3fb9e1893a94bc0b7ea548b24999e43",
       "version_major": 2,
       "version_minor": 0
      },
      "text/plain": [
       "  0%|          | 0/107 [00:00<?, ?it/s]"
      ]
     },
     "metadata": {},
     "output_type": "display_data"
    },
    {
     "name": "stdout",
     "output_type": "stream",
     "text": [
      "[[1585  112]\n",
      " [ 437 1260]]\n",
      "validation loss: 0.3593, acc: 0.8382, f1: 0.8382\n",
      "Epoch 133/300\n",
      "----------\n",
      "train :\n"
     ]
    },
    {
     "data": {
      "application/vnd.jupyter.widget-view+json": {
       "model_id": "f9c2641fc80c4c80a63758c710d75ef4",
       "version_major": 2,
       "version_minor": 0
      },
      "text/plain": [
       "  0%|          | 0/319 [00:00<?, ?it/s]"
      ]
     },
     "metadata": {},
     "output_type": "display_data"
    },
    {
     "name": "stdout",
     "output_type": "stream",
     "text": [
      "train loss: 0.3025, acc: 0.8694, f1: 0.8694\n",
      "validation :\n"
     ]
    },
    {
     "data": {
      "application/vnd.jupyter.widget-view+json": {
       "model_id": "c0ca40f6e36941ee9ee832c82d197cc4",
       "version_major": 2,
       "version_minor": 0
      },
      "text/plain": [
       "  0%|          | 0/107 [00:00<?, ?it/s]"
      ]
     },
     "metadata": {},
     "output_type": "display_data"
    },
    {
     "name": "stdout",
     "output_type": "stream",
     "text": [
      "[[1503  194]\n",
      " [ 341 1356]]\n",
      "validation loss: 0.3737, acc: 0.8424, f1: 0.8424\n",
      "Epoch 134/300\n",
      "----------\n",
      "train :\n"
     ]
    },
    {
     "data": {
      "application/vnd.jupyter.widget-view+json": {
       "model_id": "8dd555e9837541ac96965d07947bb4bf",
       "version_major": 2,
       "version_minor": 0
      },
      "text/plain": [
       "  0%|          | 0/319 [00:00<?, ?it/s]"
      ]
     },
     "metadata": {},
     "output_type": "display_data"
    },
    {
     "name": "stdout",
     "output_type": "stream",
     "text": [
      "train loss: 0.2960, acc: 0.8759, f1: 0.8759\n",
      "validation :\n"
     ]
    },
    {
     "data": {
      "application/vnd.jupyter.widget-view+json": {
       "model_id": "7893c686dfb74e4482425a1b18c6bb56",
       "version_major": 2,
       "version_minor": 0
      },
      "text/plain": [
       "  0%|          | 0/107 [00:00<?, ?it/s]"
      ]
     },
     "metadata": {},
     "output_type": "display_data"
    },
    {
     "name": "stdout",
     "output_type": "stream",
     "text": [
      "[[1472  225]\n",
      " [ 262 1435]]\n",
      "validation loss: 0.3359, acc: 0.8565, f1: 0.8565\n",
      "Epoch 135/300\n",
      "----------\n",
      "train :\n"
     ]
    },
    {
     "data": {
      "application/vnd.jupyter.widget-view+json": {
       "model_id": "1f4ff993cafb4cd9b85839b2451970d8",
       "version_major": 2,
       "version_minor": 0
      },
      "text/plain": [
       "  0%|          | 0/319 [00:00<?, ?it/s]"
      ]
     },
     "metadata": {},
     "output_type": "display_data"
    },
    {
     "name": "stdout",
     "output_type": "stream",
     "text": [
      "train loss: 0.3038, acc: 0.8688, f1: 0.8688\n",
      "validation :\n"
     ]
    },
    {
     "data": {
      "application/vnd.jupyter.widget-view+json": {
       "model_id": "14441b846409442e871a4d99cb328219",
       "version_major": 2,
       "version_minor": 0
      },
      "text/plain": [
       "  0%|          | 0/107 [00:00<?, ?it/s]"
      ]
     },
     "metadata": {},
     "output_type": "display_data"
    },
    {
     "name": "stdout",
     "output_type": "stream",
     "text": [
      "[[1603   94]\n",
      " [ 448 1249]]\n",
      "validation loss: 0.3702, acc: 0.8403, f1: 0.8403\n",
      "Epoch 136/300\n",
      "----------\n",
      "train :\n"
     ]
    },
    {
     "data": {
      "application/vnd.jupyter.widget-view+json": {
       "model_id": "5592b9d44bbc4d98b2821311325b8fd3",
       "version_major": 2,
       "version_minor": 0
      },
      "text/plain": [
       "  0%|          | 0/319 [00:00<?, ?it/s]"
      ]
     },
     "metadata": {},
     "output_type": "display_data"
    },
    {
     "name": "stdout",
     "output_type": "stream",
     "text": [
      "train loss: 0.2991, acc: 0.8746, f1: 0.8746\n",
      "validation :\n"
     ]
    },
    {
     "data": {
      "application/vnd.jupyter.widget-view+json": {
       "model_id": "e739f7b4181d43d49faab3c7b2f1fca0",
       "version_major": 2,
       "version_minor": 0
      },
      "text/plain": [
       "  0%|          | 0/107 [00:00<?, ?it/s]"
      ]
     },
     "metadata": {},
     "output_type": "display_data"
    },
    {
     "name": "stdout",
     "output_type": "stream",
     "text": [
      "[[1470  227]\n",
      " [ 274 1423]]\n",
      "validation loss: 0.3554, acc: 0.8524, f1: 0.8524\n",
      "Epoch 137/300\n",
      "----------\n",
      "train :\n"
     ]
    },
    {
     "data": {
      "application/vnd.jupyter.widget-view+json": {
       "model_id": "036ae3845a0346dbbc3c19f1319ecec0",
       "version_major": 2,
       "version_minor": 0
      },
      "text/plain": [
       "  0%|          | 0/319 [00:00<?, ?it/s]"
      ]
     },
     "metadata": {},
     "output_type": "display_data"
    },
    {
     "name": "stdout",
     "output_type": "stream",
     "text": [
      "train loss: 0.2939, acc: 0.8756, f1: 0.8756\n",
      "validation :\n"
     ]
    },
    {
     "data": {
      "application/vnd.jupyter.widget-view+json": {
       "model_id": "14fcd01fa2e14f0b95fdcd88f012bd9f",
       "version_major": 2,
       "version_minor": 0
      },
      "text/plain": [
       "  0%|          | 0/107 [00:00<?, ?it/s]"
      ]
     },
     "metadata": {},
     "output_type": "display_data"
    },
    {
     "name": "stdout",
     "output_type": "stream",
     "text": [
      "[[1624   73]\n",
      " [ 484 1213]]\n",
      "validation loss: 0.3835, acc: 0.8359, f1: 0.8359\n",
      "Epoch 138/300\n",
      "----------\n",
      "train :\n"
     ]
    },
    {
     "data": {
      "application/vnd.jupyter.widget-view+json": {
       "model_id": "6fa1d14082ff4636bfbdd355d79c979d",
       "version_major": 2,
       "version_minor": 0
      },
      "text/plain": [
       "  0%|          | 0/319 [00:00<?, ?it/s]"
      ]
     },
     "metadata": {},
     "output_type": "display_data"
    },
    {
     "name": "stdout",
     "output_type": "stream",
     "text": [
      "train loss: 0.3103, acc: 0.8673, f1: 0.8673\n",
      "validation :\n"
     ]
    },
    {
     "data": {
      "application/vnd.jupyter.widget-view+json": {
       "model_id": "09272bcb77e749c1a1b2a125db595339",
       "version_major": 2,
       "version_minor": 0
      },
      "text/plain": [
       "  0%|          | 0/107 [00:00<?, ?it/s]"
      ]
     },
     "metadata": {},
     "output_type": "display_data"
    },
    {
     "name": "stdout",
     "output_type": "stream",
     "text": [
      "[[1561  136]\n",
      " [ 381 1316]]\n",
      "validation loss: 0.3668, acc: 0.8477, f1: 0.8477\n",
      "Epoch 139/300\n",
      "----------\n",
      "train :\n"
     ]
    },
    {
     "data": {
      "application/vnd.jupyter.widget-view+json": {
       "model_id": "365c96c007af4304923728d13b5bc264",
       "version_major": 2,
       "version_minor": 0
      },
      "text/plain": [
       "  0%|          | 0/319 [00:00<?, ?it/s]"
      ]
     },
     "metadata": {},
     "output_type": "display_data"
    },
    {
     "name": "stdout",
     "output_type": "stream",
     "text": [
      "train loss: 0.2957, acc: 0.8745, f1: 0.8745\n",
      "validation :\n"
     ]
    },
    {
     "data": {
      "application/vnd.jupyter.widget-view+json": {
       "model_id": "4c1c22fffb7749299115980745ff18bf",
       "version_major": 2,
       "version_minor": 0
      },
      "text/plain": [
       "  0%|          | 0/107 [00:00<?, ?it/s]"
      ]
     },
     "metadata": {},
     "output_type": "display_data"
    },
    {
     "name": "stdout",
     "output_type": "stream",
     "text": [
      "[[1533  164]\n",
      " [ 376 1321]]\n",
      "validation loss: 0.3700, acc: 0.8409, f1: 0.8409\n",
      "Epoch 140/300\n",
      "----------\n",
      "train :\n"
     ]
    },
    {
     "data": {
      "application/vnd.jupyter.widget-view+json": {
       "model_id": "dccdc04ba4bf48ba98d817766e9ee963",
       "version_major": 2,
       "version_minor": 0
      },
      "text/plain": [
       "  0%|          | 0/319 [00:00<?, ?it/s]"
      ]
     },
     "metadata": {},
     "output_type": "display_data"
    },
    {
     "name": "stdout",
     "output_type": "stream",
     "text": [
      "train loss: 0.3053, acc: 0.8684, f1: 0.8684\n",
      "validation :\n"
     ]
    },
    {
     "data": {
      "application/vnd.jupyter.widget-view+json": {
       "model_id": "3402c7039240459eb84f14d48ce0300a",
       "version_major": 2,
       "version_minor": 0
      },
      "text/plain": [
       "  0%|          | 0/107 [00:00<?, ?it/s]"
      ]
     },
     "metadata": {},
     "output_type": "display_data"
    },
    {
     "name": "stdout",
     "output_type": "stream",
     "text": [
      "[[1552  145]\n",
      " [ 400 1297]]\n",
      "validation loss: 0.3655, acc: 0.8394, f1: 0.8394\n",
      "Epoch 141/300\n",
      "----------\n",
      "train :\n"
     ]
    },
    {
     "data": {
      "application/vnd.jupyter.widget-view+json": {
       "model_id": "b20a29a148f7496dbda67fd88a18a32f",
       "version_major": 2,
       "version_minor": 0
      },
      "text/plain": [
       "  0%|          | 0/319 [00:00<?, ?it/s]"
      ]
     },
     "metadata": {},
     "output_type": "display_data"
    },
    {
     "name": "stdout",
     "output_type": "stream",
     "text": [
      "train loss: 0.2969, acc: 0.8746, f1: 0.8746\n",
      "validation :\n"
     ]
    },
    {
     "data": {
      "application/vnd.jupyter.widget-view+json": {
       "model_id": "634a97e173554af180440be779bf66b6",
       "version_major": 2,
       "version_minor": 0
      },
      "text/plain": [
       "  0%|          | 0/107 [00:00<?, ?it/s]"
      ]
     },
     "metadata": {},
     "output_type": "display_data"
    },
    {
     "name": "stdout",
     "output_type": "stream",
     "text": [
      "[[1516  181]\n",
      " [ 326 1371]]\n",
      "validation loss: 0.3492, acc: 0.8506, f1: 0.8506\n",
      "Epoch 142/300\n",
      "----------\n",
      "train :\n"
     ]
    },
    {
     "data": {
      "application/vnd.jupyter.widget-view+json": {
       "model_id": "8b5f4130f1b04cebbd601422bcc55787",
       "version_major": 2,
       "version_minor": 0
      },
      "text/plain": [
       "  0%|          | 0/319 [00:00<?, ?it/s]"
      ]
     },
     "metadata": {},
     "output_type": "display_data"
    },
    {
     "name": "stdout",
     "output_type": "stream",
     "text": [
      "train loss: 0.2991, acc: 0.8706, f1: 0.8706\n",
      "validation :\n"
     ]
    },
    {
     "data": {
      "application/vnd.jupyter.widget-view+json": {
       "model_id": "e1ad3dae68054e5ab0ca1b0f0a45ba04",
       "version_major": 2,
       "version_minor": 0
      },
      "text/plain": [
       "  0%|          | 0/107 [00:00<?, ?it/s]"
      ]
     },
     "metadata": {},
     "output_type": "display_data"
    },
    {
     "name": "stdout",
     "output_type": "stream",
     "text": [
      "[[1463  234]\n",
      " [ 288 1409]]\n",
      "validation loss: 0.3400, acc: 0.8462, f1: 0.8462\n",
      "Epoch 143/300\n",
      "----------\n",
      "train :\n"
     ]
    },
    {
     "data": {
      "application/vnd.jupyter.widget-view+json": {
       "model_id": "a0ab1e6cf3cc41d59c51c39934626bf4",
       "version_major": 2,
       "version_minor": 0
      },
      "text/plain": [
       "  0%|          | 0/319 [00:00<?, ?it/s]"
      ]
     },
     "metadata": {},
     "output_type": "display_data"
    },
    {
     "name": "stdout",
     "output_type": "stream",
     "text": [
      "train loss: 0.3050, acc: 0.8688, f1: 0.8688\n",
      "validation :\n"
     ]
    },
    {
     "data": {
      "application/vnd.jupyter.widget-view+json": {
       "model_id": "8540570420eb4326acab800c5d41d4dc",
       "version_major": 2,
       "version_minor": 0
      },
      "text/plain": [
       "  0%|          | 0/107 [00:00<?, ?it/s]"
      ]
     },
     "metadata": {},
     "output_type": "display_data"
    },
    {
     "name": "stdout",
     "output_type": "stream",
     "text": [
      "[[1552  145]\n",
      " [ 386 1311]]\n",
      "validation loss: 0.3525, acc: 0.8435, f1: 0.8435\n",
      "Epoch 144/300\n",
      "----------\n",
      "train :\n"
     ]
    },
    {
     "data": {
      "application/vnd.jupyter.widget-view+json": {
       "model_id": "66c10473ddf34502b0db99bbfe3f351a",
       "version_major": 2,
       "version_minor": 0
      },
      "text/plain": [
       "  0%|          | 0/319 [00:00<?, ?it/s]"
      ]
     },
     "metadata": {},
     "output_type": "display_data"
    },
    {
     "name": "stdout",
     "output_type": "stream",
     "text": [
      "train loss: 0.3021, acc: 0.8740, f1: 0.8740\n",
      "validation :\n"
     ]
    },
    {
     "data": {
      "application/vnd.jupyter.widget-view+json": {
       "model_id": "cda06e9d93194aff974fcf8b0f61bc40",
       "version_major": 2,
       "version_minor": 0
      },
      "text/plain": [
       "  0%|          | 0/107 [00:00<?, ?it/s]"
      ]
     },
     "metadata": {},
     "output_type": "display_data"
    },
    {
     "name": "stdout",
     "output_type": "stream",
     "text": [
      "[[1461  236]\n",
      " [ 270 1427]]\n",
      "validation loss: 0.3439, acc: 0.8509, f1: 0.8509\n",
      "Epoch 145/300\n",
      "----------\n",
      "train :\n"
     ]
    },
    {
     "data": {
      "application/vnd.jupyter.widget-view+json": {
       "model_id": "a4290e96e372439faf78d007d3da8a07",
       "version_major": 2,
       "version_minor": 0
      },
      "text/plain": [
       "  0%|          | 0/319 [00:00<?, ?it/s]"
      ]
     },
     "metadata": {},
     "output_type": "display_data"
    },
    {
     "name": "stdout",
     "output_type": "stream",
     "text": [
      "train loss: 0.2899, acc: 0.8769, f1: 0.8769\n",
      "validation :\n"
     ]
    },
    {
     "data": {
      "application/vnd.jupyter.widget-view+json": {
       "model_id": "eaf6d732d8e741099f3e90caa3ea7fdc",
       "version_major": 2,
       "version_minor": 0
      },
      "text/plain": [
       "  0%|          | 0/107 [00:00<?, ?it/s]"
      ]
     },
     "metadata": {},
     "output_type": "display_data"
    },
    {
     "name": "stdout",
     "output_type": "stream",
     "text": [
      "[[1479  218]\n",
      " [ 289 1408]]\n",
      "validation loss: 0.3497, acc: 0.8506, f1: 0.8506\n",
      "Epoch 146/300\n",
      "----------\n",
      "train :\n"
     ]
    },
    {
     "data": {
      "application/vnd.jupyter.widget-view+json": {
       "model_id": "808fccae920f4423acbe705a7c2a0f83",
       "version_major": 2,
       "version_minor": 0
      },
      "text/plain": [
       "  0%|          | 0/319 [00:00<?, ?it/s]"
      ]
     },
     "metadata": {},
     "output_type": "display_data"
    },
    {
     "name": "stdout",
     "output_type": "stream",
     "text": [
      "train loss: 0.2937, acc: 0.8759, f1: 0.8759\n",
      "validation :\n"
     ]
    },
    {
     "data": {
      "application/vnd.jupyter.widget-view+json": {
       "model_id": "7886d95b726440738f39f228de45fd7e",
       "version_major": 2,
       "version_minor": 0
      },
      "text/plain": [
       "  0%|          | 0/107 [00:00<?, ?it/s]"
      ]
     },
     "metadata": {},
     "output_type": "display_data"
    },
    {
     "name": "stdout",
     "output_type": "stream",
     "text": [
      "[[1512  185]\n",
      " [ 342 1355]]\n",
      "validation loss: 0.3621, acc: 0.8447, f1: 0.8447\n",
      "Epoch 147/300\n",
      "----------\n",
      "train :\n"
     ]
    },
    {
     "data": {
      "application/vnd.jupyter.widget-view+json": {
       "model_id": "5ee1187af550438fbc1a11bc8e9b2883",
       "version_major": 2,
       "version_minor": 0
      },
      "text/plain": [
       "  0%|          | 0/319 [00:00<?, ?it/s]"
      ]
     },
     "metadata": {},
     "output_type": "display_data"
    },
    {
     "name": "stdout",
     "output_type": "stream",
     "text": [
      "train loss: 0.3035, acc: 0.8712, f1: 0.8712\n",
      "validation :\n"
     ]
    },
    {
     "data": {
      "application/vnd.jupyter.widget-view+json": {
       "model_id": "9148e8b062524e76af20df686536e1f7",
       "version_major": 2,
       "version_minor": 0
      },
      "text/plain": [
       "  0%|          | 0/107 [00:00<?, ?it/s]"
      ]
     },
     "metadata": {},
     "output_type": "display_data"
    },
    {
     "name": "stdout",
     "output_type": "stream",
     "text": [
      "[[1467  230]\n",
      " [ 265 1432]]\n",
      "validation loss: 0.3527, acc: 0.8542, f1: 0.8542\n",
      "Epoch 148/300\n",
      "----------\n",
      "train :\n"
     ]
    },
    {
     "data": {
      "application/vnd.jupyter.widget-view+json": {
       "model_id": "9fca1a2e48c741c08d41e0ce950ecefb",
       "version_major": 2,
       "version_minor": 0
      },
      "text/plain": [
       "  0%|          | 0/319 [00:00<?, ?it/s]"
      ]
     },
     "metadata": {},
     "output_type": "display_data"
    },
    {
     "name": "stdout",
     "output_type": "stream",
     "text": [
      "train loss: 0.2926, acc: 0.8754, f1: 0.8754\n",
      "validation :\n"
     ]
    },
    {
     "data": {
      "application/vnd.jupyter.widget-view+json": {
       "model_id": "3a03a63679ae4109a8372d9b3bbc5a67",
       "version_major": 2,
       "version_minor": 0
      },
      "text/plain": [
       "  0%|          | 0/107 [00:00<?, ?it/s]"
      ]
     },
     "metadata": {},
     "output_type": "display_data"
    },
    {
     "name": "stdout",
     "output_type": "stream",
     "text": [
      "[[1627   70]\n",
      " [ 533 1164]]\n",
      "validation loss: 0.4177, acc: 0.8223, f1: 0.8223\n",
      "Epoch 149/300\n",
      "----------\n",
      "train :\n"
     ]
    },
    {
     "data": {
      "application/vnd.jupyter.widget-view+json": {
       "model_id": "9d21a25e409b45cfb09641e72b11a1ee",
       "version_major": 2,
       "version_minor": 0
      },
      "text/plain": [
       "  0%|          | 0/319 [00:00<?, ?it/s]"
      ]
     },
     "metadata": {},
     "output_type": "display_data"
    },
    {
     "name": "stdout",
     "output_type": "stream",
     "text": [
      "train loss: 0.2947, acc: 0.8768, f1: 0.8768\n",
      "validation :\n"
     ]
    },
    {
     "data": {
      "application/vnd.jupyter.widget-view+json": {
       "model_id": "2ff9e31306c64c5e9ecde55e2a437843",
       "version_major": 2,
       "version_minor": 0
      },
      "text/plain": [
       "  0%|          | 0/107 [00:00<?, ?it/s]"
      ]
     },
     "metadata": {},
     "output_type": "display_data"
    },
    {
     "name": "stdout",
     "output_type": "stream",
     "text": [
      "[[1516  181]\n",
      " [ 337 1360]]\n",
      "validation loss: 0.3654, acc: 0.8474, f1: 0.8474\n",
      "Epoch 150/300\n",
      "----------\n",
      "train :\n"
     ]
    },
    {
     "data": {
      "application/vnd.jupyter.widget-view+json": {
       "model_id": "7f6a58b9d54e4affaf1d6e5a3f0e8cfb",
       "version_major": 2,
       "version_minor": 0
      },
      "text/plain": [
       "  0%|          | 0/319 [00:00<?, ?it/s]"
      ]
     },
     "metadata": {},
     "output_type": "display_data"
    },
    {
     "name": "stdout",
     "output_type": "stream",
     "text": [
      "train loss: 0.2879, acc: 0.8773, f1: 0.8773\n",
      "validation :\n"
     ]
    },
    {
     "data": {
      "application/vnd.jupyter.widget-view+json": {
       "model_id": "4983136657de447fb8d245a42bbe99a1",
       "version_major": 2,
       "version_minor": 0
      },
      "text/plain": [
       "  0%|          | 0/107 [00:00<?, ?it/s]"
      ]
     },
     "metadata": {},
     "output_type": "display_data"
    },
    {
     "name": "stdout",
     "output_type": "stream",
     "text": [
      "[[1549  148]\n",
      " [ 383 1314]]\n",
      "validation loss: 0.3552, acc: 0.8435, f1: 0.8435\n",
      "Epoch 151/300\n",
      "----------\n",
      "train :\n"
     ]
    },
    {
     "data": {
      "application/vnd.jupyter.widget-view+json": {
       "model_id": "4be161a5b4dc4042a733ba9e4b9b6e87",
       "version_major": 2,
       "version_minor": 0
      },
      "text/plain": [
       "  0%|          | 0/319 [00:00<?, ?it/s]"
      ]
     },
     "metadata": {},
     "output_type": "display_data"
    },
    {
     "name": "stdout",
     "output_type": "stream",
     "text": [
      "train loss: 0.2834, acc: 0.8828, f1: 0.8828\n",
      "validation :\n"
     ]
    },
    {
     "data": {
      "application/vnd.jupyter.widget-view+json": {
       "model_id": "a35d1bda36914561a8058df91e455d8b",
       "version_major": 2,
       "version_minor": 0
      },
      "text/plain": [
       "  0%|          | 0/107 [00:00<?, ?it/s]"
      ]
     },
     "metadata": {},
     "output_type": "display_data"
    },
    {
     "name": "stdout",
     "output_type": "stream",
     "text": [
      "[[1471  226]\n",
      " [ 272 1425]]\n",
      "validation loss: 0.3566, acc: 0.8533, f1: 0.8533\n",
      "Epoch 152/300\n",
      "----------\n",
      "train :\n"
     ]
    },
    {
     "data": {
      "application/vnd.jupyter.widget-view+json": {
       "model_id": "fad5565c935341a2ba0ff75609a94e37",
       "version_major": 2,
       "version_minor": 0
      },
      "text/plain": [
       "  0%|          | 0/319 [00:00<?, ?it/s]"
      ]
     },
     "metadata": {},
     "output_type": "display_data"
    },
    {
     "name": "stdout",
     "output_type": "stream",
     "text": [
      "train loss: 0.2946, acc: 0.8738, f1: 0.8738\n",
      "validation :\n"
     ]
    },
    {
     "data": {
      "application/vnd.jupyter.widget-view+json": {
       "model_id": "ef15bf2e70c849aeb2a80bff1e9dd8f4",
       "version_major": 2,
       "version_minor": 0
      },
      "text/plain": [
       "  0%|          | 0/107 [00:00<?, ?it/s]"
      ]
     },
     "metadata": {},
     "output_type": "display_data"
    },
    {
     "name": "stdout",
     "output_type": "stream",
     "text": [
      "[[1523  174]\n",
      " [ 338 1359]]\n",
      "validation loss: 0.3591, acc: 0.8491, f1: 0.8491\n",
      "Epoch 153/300\n",
      "----------\n",
      "train :\n"
     ]
    },
    {
     "data": {
      "application/vnd.jupyter.widget-view+json": {
       "model_id": "8f55221d07234038a3155abab0e49e88",
       "version_major": 2,
       "version_minor": 0
      },
      "text/plain": [
       "  0%|          | 0/319 [00:00<?, ?it/s]"
      ]
     },
     "metadata": {},
     "output_type": "display_data"
    },
    {
     "name": "stdout",
     "output_type": "stream",
     "text": [
      "train loss: 0.2946, acc: 0.8747, f1: 0.8747\n",
      "validation :\n"
     ]
    },
    {
     "data": {
      "application/vnd.jupyter.widget-view+json": {
       "model_id": "6d2fd9cc81bb4fbf8c47cd2545175a9a",
       "version_major": 2,
       "version_minor": 0
      },
      "text/plain": [
       "  0%|          | 0/107 [00:00<?, ?it/s]"
      ]
     },
     "metadata": {},
     "output_type": "display_data"
    },
    {
     "name": "stdout",
     "output_type": "stream",
     "text": [
      "[[1466  231]\n",
      " [ 304 1393]]\n",
      "validation loss: 0.3588, acc: 0.8424, f1: 0.8424\n",
      "Epoch 154/300\n",
      "----------\n",
      "train :\n"
     ]
    },
    {
     "data": {
      "application/vnd.jupyter.widget-view+json": {
       "model_id": "45b40158593d4a459efd5cd227d01d8a",
       "version_major": 2,
       "version_minor": 0
      },
      "text/plain": [
       "  0%|          | 0/319 [00:00<?, ?it/s]"
      ]
     },
     "metadata": {},
     "output_type": "display_data"
    },
    {
     "name": "stdout",
     "output_type": "stream",
     "text": [
      "train loss: 0.2948, acc: 0.8743, f1: 0.8743\n",
      "validation :\n"
     ]
    },
    {
     "data": {
      "application/vnd.jupyter.widget-view+json": {
       "model_id": "07cd9d93f8954f06966b7b72374b95c9",
       "version_major": 2,
       "version_minor": 0
      },
      "text/plain": [
       "  0%|          | 0/107 [00:00<?, ?it/s]"
      ]
     },
     "metadata": {},
     "output_type": "display_data"
    },
    {
     "name": "stdout",
     "output_type": "stream",
     "text": [
      "[[1440  257]\n",
      " [ 266 1431]]\n",
      "validation loss: 0.3570, acc: 0.8459, f1: 0.8459\n",
      "Epoch 155/300\n",
      "----------\n",
      "train :\n"
     ]
    },
    {
     "data": {
      "application/vnd.jupyter.widget-view+json": {
       "model_id": "d8d4c125b1034939af6920447e59624b",
       "version_major": 2,
       "version_minor": 0
      },
      "text/plain": [
       "  0%|          | 0/319 [00:00<?, ?it/s]"
      ]
     },
     "metadata": {},
     "output_type": "display_data"
    },
    {
     "name": "stdout",
     "output_type": "stream",
     "text": [
      "train loss: 0.2986, acc: 0.8755, f1: 0.8755\n",
      "validation :\n"
     ]
    },
    {
     "data": {
      "application/vnd.jupyter.widget-view+json": {
       "model_id": "6c6438fb4a0e4fc9a0f731244c9135ea",
       "version_major": 2,
       "version_minor": 0
      },
      "text/plain": [
       "  0%|          | 0/107 [00:00<?, ?it/s]"
      ]
     },
     "metadata": {},
     "output_type": "display_data"
    },
    {
     "name": "stdout",
     "output_type": "stream",
     "text": [
      "[[1537  160]\n",
      " [ 353 1344]]\n",
      "validation loss: 0.3585, acc: 0.8489, f1: 0.8489\n",
      "Epoch 156/300\n",
      "----------\n",
      "train :\n"
     ]
    },
    {
     "data": {
      "application/vnd.jupyter.widget-view+json": {
       "model_id": "95c70f2930c04d9d9623c61fd99187ce",
       "version_major": 2,
       "version_minor": 0
      },
      "text/plain": [
       "  0%|          | 0/319 [00:00<?, ?it/s]"
      ]
     },
     "metadata": {},
     "output_type": "display_data"
    },
    {
     "name": "stdout",
     "output_type": "stream",
     "text": [
      "train loss: 0.2917, acc: 0.8761, f1: 0.8761\n",
      "validation :\n"
     ]
    },
    {
     "data": {
      "application/vnd.jupyter.widget-view+json": {
       "model_id": "25d20949b86d41b6a9177eea4292de17",
       "version_major": 2,
       "version_minor": 0
      },
      "text/plain": [
       "  0%|          | 0/107 [00:00<?, ?it/s]"
      ]
     },
     "metadata": {},
     "output_type": "display_data"
    },
    {
     "name": "stdout",
     "output_type": "stream",
     "text": [
      "[[1580  117]\n",
      " [ 400 1297]]\n",
      "validation loss: 0.3631, acc: 0.8477, f1: 0.8477\n",
      "Epoch 157/300\n",
      "----------\n",
      "train :\n"
     ]
    },
    {
     "data": {
      "application/vnd.jupyter.widget-view+json": {
       "model_id": "5877c48a53f5464c8f96d0e453056c06",
       "version_major": 2,
       "version_minor": 0
      },
      "text/plain": [
       "  0%|          | 0/319 [00:00<?, ?it/s]"
      ]
     },
     "metadata": {},
     "output_type": "display_data"
    },
    {
     "name": "stdout",
     "output_type": "stream",
     "text": [
      "train loss: 0.2945, acc: 0.8744, f1: 0.8744\n",
      "validation :\n"
     ]
    },
    {
     "data": {
      "application/vnd.jupyter.widget-view+json": {
       "model_id": "cda761df4aa7456ab47ee5978c0f0a0b",
       "version_major": 2,
       "version_minor": 0
      },
      "text/plain": [
       "  0%|          | 0/107 [00:00<?, ?it/s]"
      ]
     },
     "metadata": {},
     "output_type": "display_data"
    },
    {
     "name": "stdout",
     "output_type": "stream",
     "text": [
      "[[1584  113]\n",
      " [ 414 1283]]\n",
      "validation loss: 0.3583, acc: 0.8447, f1: 0.8447\n",
      "Epoch 158/300\n",
      "----------\n",
      "train :\n"
     ]
    },
    {
     "data": {
      "application/vnd.jupyter.widget-view+json": {
       "model_id": "3da6d7a5838d4e3b908492cffbe70ab7",
       "version_major": 2,
       "version_minor": 0
      },
      "text/plain": [
       "  0%|          | 0/319 [00:00<?, ?it/s]"
      ]
     },
     "metadata": {},
     "output_type": "display_data"
    },
    {
     "name": "stdout",
     "output_type": "stream",
     "text": [
      "train loss: 0.2851, acc: 0.8777, f1: 0.8777\n",
      "validation :\n"
     ]
    },
    {
     "data": {
      "application/vnd.jupyter.widget-view+json": {
       "model_id": "708833206a91492681047a54769c4a44",
       "version_major": 2,
       "version_minor": 0
      },
      "text/plain": [
       "  0%|          | 0/107 [00:00<?, ?it/s]"
      ]
     },
     "metadata": {},
     "output_type": "display_data"
    },
    {
     "name": "stdout",
     "output_type": "stream",
     "text": [
      "[[1532  165]\n",
      " [ 346 1351]]\n",
      "validation loss: 0.3526, acc: 0.8494, f1: 0.8494\n",
      "Epoch 159/300\n",
      "----------\n",
      "train :\n"
     ]
    },
    {
     "data": {
      "application/vnd.jupyter.widget-view+json": {
       "model_id": "c300f5d0e29c429ebe62673c3998e5bd",
       "version_major": 2,
       "version_minor": 0
      },
      "text/plain": [
       "  0%|          | 0/319 [00:00<?, ?it/s]"
      ]
     },
     "metadata": {},
     "output_type": "display_data"
    },
    {
     "name": "stdout",
     "output_type": "stream",
     "text": [
      "train loss: 0.2949, acc: 0.8734, f1: 0.8734\n",
      "validation :\n"
     ]
    },
    {
     "data": {
      "application/vnd.jupyter.widget-view+json": {
       "model_id": "359f1a68a9e94f098be7bca6ff6d76cc",
       "version_major": 2,
       "version_minor": 0
      },
      "text/plain": [
       "  0%|          | 0/107 [00:00<?, ?it/s]"
      ]
     },
     "metadata": {},
     "output_type": "display_data"
    },
    {
     "name": "stdout",
     "output_type": "stream",
     "text": [
      "[[1469  228]\n",
      " [ 289 1408]]\n",
      "validation loss: 0.3536, acc: 0.8477, f1: 0.8477\n",
      "Epoch 160/300\n",
      "----------\n",
      "train :\n"
     ]
    },
    {
     "data": {
      "application/vnd.jupyter.widget-view+json": {
       "model_id": "c07a5ee2edb045ed8c8097276ec28dde",
       "version_major": 2,
       "version_minor": 0
      },
      "text/plain": [
       "  0%|          | 0/319 [00:00<?, ?it/s]"
      ]
     },
     "metadata": {},
     "output_type": "display_data"
    },
    {
     "name": "stdout",
     "output_type": "stream",
     "text": [
      "train loss: 0.2867, acc: 0.8795, f1: 0.8795\n",
      "validation :\n"
     ]
    },
    {
     "data": {
      "application/vnd.jupyter.widget-view+json": {
       "model_id": "76ddc4074224410e8fb2b577ca259ca3",
       "version_major": 2,
       "version_minor": 0
      },
      "text/plain": [
       "  0%|          | 0/107 [00:00<?, ?it/s]"
      ]
     },
     "metadata": {},
     "output_type": "display_data"
    },
    {
     "name": "stdout",
     "output_type": "stream",
     "text": [
      "[[1483  214]\n",
      " [ 291 1406]]\n",
      "validation loss: 0.3453, acc: 0.8512, f1: 0.8512\n",
      "Epoch 161/300\n",
      "----------\n",
      "train :\n"
     ]
    },
    {
     "data": {
      "application/vnd.jupyter.widget-view+json": {
       "model_id": "e756a4987fe94ab092f55838d9708271",
       "version_major": 2,
       "version_minor": 0
      },
      "text/plain": [
       "  0%|          | 0/319 [00:00<?, ?it/s]"
      ]
     },
     "metadata": {},
     "output_type": "display_data"
    },
    {
     "name": "stdout",
     "output_type": "stream",
     "text": [
      "train loss: 0.2864, acc: 0.8802, f1: 0.8802\n",
      "validation :\n"
     ]
    },
    {
     "data": {
      "application/vnd.jupyter.widget-view+json": {
       "model_id": "5b6191448d7d46a995ecc1272b33c3d4",
       "version_major": 2,
       "version_minor": 0
      },
      "text/plain": [
       "  0%|          | 0/107 [00:00<?, ?it/s]"
      ]
     },
     "metadata": {},
     "output_type": "display_data"
    },
    {
     "name": "stdout",
     "output_type": "stream",
     "text": [
      "[[1571  126]\n",
      " [ 383 1314]]\n",
      "validation loss: 0.3775, acc: 0.8500, f1: 0.8500\n",
      "Epoch 162/300\n",
      "----------\n",
      "train :\n"
     ]
    },
    {
     "data": {
      "application/vnd.jupyter.widget-view+json": {
       "model_id": "385ea77c4cdb45eca1a96edbb67e9bed",
       "version_major": 2,
       "version_minor": 0
      },
      "text/plain": [
       "  0%|          | 0/319 [00:00<?, ?it/s]"
      ]
     },
     "metadata": {},
     "output_type": "display_data"
    },
    {
     "name": "stdout",
     "output_type": "stream",
     "text": [
      "train loss: 0.2859, acc: 0.8775, f1: 0.8775\n",
      "validation :\n"
     ]
    },
    {
     "data": {
      "application/vnd.jupyter.widget-view+json": {
       "model_id": "5121be19a3934daca952423710b84e81",
       "version_major": 2,
       "version_minor": 0
      },
      "text/plain": [
       "  0%|          | 0/107 [00:00<?, ?it/s]"
      ]
     },
     "metadata": {},
     "output_type": "display_data"
    },
    {
     "name": "stdout",
     "output_type": "stream",
     "text": [
      "[[1596  101]\n",
      " [ 416 1281]]\n",
      "validation loss: 0.3588, acc: 0.8477, f1: 0.8477\n",
      "Epoch 163/300\n",
      "----------\n",
      "train :\n"
     ]
    },
    {
     "data": {
      "application/vnd.jupyter.widget-view+json": {
       "model_id": "2863b783d54d4879a1b9e1e5fceddbe9",
       "version_major": 2,
       "version_minor": 0
      },
      "text/plain": [
       "  0%|          | 0/319 [00:00<?, ?it/s]"
      ]
     },
     "metadata": {},
     "output_type": "display_data"
    },
    {
     "name": "stdout",
     "output_type": "stream",
     "text": [
      "train loss: 0.2859, acc: 0.8828, f1: 0.8828\n",
      "validation :\n"
     ]
    },
    {
     "data": {
      "application/vnd.jupyter.widget-view+json": {
       "model_id": "e72277e8222d49588b9d3f484a8a7249",
       "version_major": 2,
       "version_minor": 0
      },
      "text/plain": [
       "  0%|          | 0/107 [00:00<?, ?it/s]"
      ]
     },
     "metadata": {},
     "output_type": "display_data"
    },
    {
     "name": "stdout",
     "output_type": "stream",
     "text": [
      "[[1298  399]\n",
      " [ 182 1515]]\n",
      "validation loss: 0.3834, acc: 0.8288, f1: 0.8288\n",
      "Epoch 164/300\n",
      "----------\n",
      "train :\n"
     ]
    },
    {
     "data": {
      "application/vnd.jupyter.widget-view+json": {
       "model_id": "e9dfcd5537134dee9ce6850c70846d7f",
       "version_major": 2,
       "version_minor": 0
      },
      "text/plain": [
       "  0%|          | 0/319 [00:00<?, ?it/s]"
      ]
     },
     "metadata": {},
     "output_type": "display_data"
    },
    {
     "name": "stdout",
     "output_type": "stream",
     "text": [
      "train loss: 0.2892, acc: 0.8775, f1: 0.8775\n",
      "validation :\n"
     ]
    },
    {
     "data": {
      "application/vnd.jupyter.widget-view+json": {
       "model_id": "c7606acb3e444a2780ab71c7c20d4804",
       "version_major": 2,
       "version_minor": 0
      },
      "text/plain": [
       "  0%|          | 0/107 [00:00<?, ?it/s]"
      ]
     },
     "metadata": {},
     "output_type": "display_data"
    },
    {
     "name": "stdout",
     "output_type": "stream",
     "text": [
      "[[1533  164]\n",
      " [ 336 1361]]\n",
      "validation loss: 0.3542, acc: 0.8527, f1: 0.8527\n",
      "Epoch 165/300\n",
      "----------\n",
      "train :\n"
     ]
    },
    {
     "data": {
      "application/vnd.jupyter.widget-view+json": {
       "model_id": "00d394c7afea481198aa496ad8769f1f",
       "version_major": 2,
       "version_minor": 0
      },
      "text/plain": [
       "  0%|          | 0/319 [00:00<?, ?it/s]"
      ]
     },
     "metadata": {},
     "output_type": "display_data"
    },
    {
     "name": "stdout",
     "output_type": "stream",
     "text": [
      "train loss: 0.2865, acc: 0.8778, f1: 0.8778\n",
      "validation :\n"
     ]
    },
    {
     "data": {
      "application/vnd.jupyter.widget-view+json": {
       "model_id": "f97c98947b7c4babbb3badfbc602b586",
       "version_major": 2,
       "version_minor": 0
      },
      "text/plain": [
       "  0%|          | 0/107 [00:00<?, ?it/s]"
      ]
     },
     "metadata": {},
     "output_type": "display_data"
    },
    {
     "name": "stdout",
     "output_type": "stream",
     "text": [
      "[[1506  191]\n",
      " [ 304 1393]]\n",
      "validation loss: 0.3408, acc: 0.8542, f1: 0.8542\n",
      "Epoch 166/300\n",
      "----------\n",
      "train :\n"
     ]
    },
    {
     "data": {
      "application/vnd.jupyter.widget-view+json": {
       "model_id": "a7a361b5a5d946ee98d9872caf841f24",
       "version_major": 2,
       "version_minor": 0
      },
      "text/plain": [
       "  0%|          | 0/319 [00:00<?, ?it/s]"
      ]
     },
     "metadata": {},
     "output_type": "display_data"
    },
    {
     "name": "stdout",
     "output_type": "stream",
     "text": [
      "train loss: 0.2826, acc: 0.8797, f1: 0.8797\n",
      "validation :\n"
     ]
    },
    {
     "data": {
      "application/vnd.jupyter.widget-view+json": {
       "model_id": "70cff882087d40e5a3fc460ee8891698",
       "version_major": 2,
       "version_minor": 0
      },
      "text/plain": [
       "  0%|          | 0/107 [00:00<?, ?it/s]"
      ]
     },
     "metadata": {},
     "output_type": "display_data"
    },
    {
     "name": "stdout",
     "output_type": "stream",
     "text": [
      "[[1429  268]\n",
      " [ 253 1444]]\n",
      "validation loss: 0.3620, acc: 0.8465, f1: 0.8465\n",
      "Epoch 167/300\n",
      "----------\n",
      "train :\n"
     ]
    },
    {
     "data": {
      "application/vnd.jupyter.widget-view+json": {
       "model_id": "5d32d5f762af4589a48f0652d63aeb09",
       "version_major": 2,
       "version_minor": 0
      },
      "text/plain": [
       "  0%|          | 0/319 [00:00<?, ?it/s]"
      ]
     },
     "metadata": {},
     "output_type": "display_data"
    },
    {
     "name": "stdout",
     "output_type": "stream",
     "text": [
      "train loss: 0.2873, acc: 0.8789, f1: 0.8789\n",
      "validation :\n"
     ]
    },
    {
     "data": {
      "application/vnd.jupyter.widget-view+json": {
       "model_id": "bf4ea12bb9064786b472975f98f95a14",
       "version_major": 2,
       "version_minor": 0
      },
      "text/plain": [
       "  0%|          | 0/107 [00:00<?, ?it/s]"
      ]
     },
     "metadata": {},
     "output_type": "display_data"
    },
    {
     "name": "stdout",
     "output_type": "stream",
     "text": [
      "[[1447  250]\n",
      " [ 261 1436]]\n",
      "validation loss: 0.3642, acc: 0.8494, f1: 0.8494\n",
      "Epoch 168/300\n",
      "----------\n",
      "train :\n"
     ]
    },
    {
     "data": {
      "application/vnd.jupyter.widget-view+json": {
       "model_id": "fdefa2ed32f84592a4bf0769bba76e51",
       "version_major": 2,
       "version_minor": 0
      },
      "text/plain": [
       "  0%|          | 0/319 [00:00<?, ?it/s]"
      ]
     },
     "metadata": {},
     "output_type": "display_data"
    },
    {
     "name": "stdout",
     "output_type": "stream",
     "text": [
      "train loss: 0.2854, acc: 0.8801, f1: 0.8801\n",
      "validation :\n"
     ]
    },
    {
     "data": {
      "application/vnd.jupyter.widget-view+json": {
       "model_id": "d08747f51b184327a9a09f6730bca07c",
       "version_major": 2,
       "version_minor": 0
      },
      "text/plain": [
       "  0%|          | 0/107 [00:00<?, ?it/s]"
      ]
     },
     "metadata": {},
     "output_type": "display_data"
    },
    {
     "name": "stdout",
     "output_type": "stream",
     "text": [
      "[[1542  155]\n",
      " [ 329 1368]]\n",
      "validation loss: 0.3533, acc: 0.8574, f1: 0.8574\n",
      "Epoch 169/300\n",
      "----------\n",
      "train :\n"
     ]
    },
    {
     "data": {
      "application/vnd.jupyter.widget-view+json": {
       "model_id": "fd94f5716bd948188796aab7fe31c5f1",
       "version_major": 2,
       "version_minor": 0
      },
      "text/plain": [
       "  0%|          | 0/319 [00:00<?, ?it/s]"
      ]
     },
     "metadata": {},
     "output_type": "display_data"
    },
    {
     "name": "stdout",
     "output_type": "stream",
     "text": [
      "train loss: 0.2800, acc: 0.8817, f1: 0.8817\n",
      "validation :\n"
     ]
    },
    {
     "data": {
      "application/vnd.jupyter.widget-view+json": {
       "model_id": "5855434570b747d1a776beb57b4205e9",
       "version_major": 2,
       "version_minor": 0
      },
      "text/plain": [
       "  0%|          | 0/107 [00:00<?, ?it/s]"
      ]
     },
     "metadata": {},
     "output_type": "display_data"
    },
    {
     "name": "stdout",
     "output_type": "stream",
     "text": [
      "[[1557  140]\n",
      " [ 376 1321]]\n",
      "validation loss: 0.3651, acc: 0.8480, f1: 0.8480\n",
      "Epoch 170/300\n",
      "----------\n",
      "train :\n"
     ]
    },
    {
     "data": {
      "application/vnd.jupyter.widget-view+json": {
       "model_id": "b78c489c38794a4db90b2a962e58a184",
       "version_major": 2,
       "version_minor": 0
      },
      "text/plain": [
       "  0%|          | 0/319 [00:00<?, ?it/s]"
      ]
     },
     "metadata": {},
     "output_type": "display_data"
    },
    {
     "name": "stdout",
     "output_type": "stream",
     "text": [
      "train loss: 0.2875, acc: 0.8778, f1: 0.8778\n",
      "validation :\n"
     ]
    },
    {
     "data": {
      "application/vnd.jupyter.widget-view+json": {
       "model_id": "4b90119314604a5fa473941616f5ebbf",
       "version_major": 2,
       "version_minor": 0
      },
      "text/plain": [
       "  0%|          | 0/107 [00:00<?, ?it/s]"
      ]
     },
     "metadata": {},
     "output_type": "display_data"
    },
    {
     "name": "stdout",
     "output_type": "stream",
     "text": [
      "[[1486  211]\n",
      " [ 313 1384]]\n",
      "validation loss: 0.3861, acc: 0.8456, f1: 0.8456\n",
      "Epoch 171/300\n",
      "----------\n",
      "train :\n"
     ]
    },
    {
     "data": {
      "application/vnd.jupyter.widget-view+json": {
       "model_id": "9ab7f305b3ec481c88729197445a2c08",
       "version_major": 2,
       "version_minor": 0
      },
      "text/plain": [
       "  0%|          | 0/319 [00:00<?, ?it/s]"
      ]
     },
     "metadata": {},
     "output_type": "display_data"
    },
    {
     "name": "stdout",
     "output_type": "stream",
     "text": [
      "train loss: 0.2806, acc: 0.8809, f1: 0.8809\n",
      "validation :\n"
     ]
    },
    {
     "data": {
      "application/vnd.jupyter.widget-view+json": {
       "model_id": "45b53b4ac74341c5be943e6ebb5fa40d",
       "version_major": 2,
       "version_minor": 0
      },
      "text/plain": [
       "  0%|          | 0/107 [00:00<?, ?it/s]"
      ]
     },
     "metadata": {},
     "output_type": "display_data"
    },
    {
     "name": "stdout",
     "output_type": "stream",
     "text": [
      "[[1551  146]\n",
      " [ 379 1318]]\n",
      "validation loss: 0.3706, acc: 0.8453, f1: 0.8453\n",
      "Epoch 172/300\n",
      "----------\n",
      "train :\n"
     ]
    },
    {
     "data": {
      "application/vnd.jupyter.widget-view+json": {
       "model_id": "3822150eb9914c7382b90c0100c42741",
       "version_major": 2,
       "version_minor": 0
      },
      "text/plain": [
       "  0%|          | 0/319 [00:00<?, ?it/s]"
      ]
     },
     "metadata": {},
     "output_type": "display_data"
    },
    {
     "name": "stdout",
     "output_type": "stream",
     "text": [
      "train loss: 0.2819, acc: 0.8791, f1: 0.8791\n",
      "validation :\n"
     ]
    },
    {
     "data": {
      "application/vnd.jupyter.widget-view+json": {
       "model_id": "696138fac0854c2d9501da7df0f0a6b2",
       "version_major": 2,
       "version_minor": 0
      },
      "text/plain": [
       "  0%|          | 0/107 [00:00<?, ?it/s]"
      ]
     },
     "metadata": {},
     "output_type": "display_data"
    },
    {
     "name": "stdout",
     "output_type": "stream",
     "text": [
      "[[1502  195]\n",
      " [ 321 1376]]\n",
      "validation loss: 0.3623, acc: 0.8480, f1: 0.8480\n",
      "Epoch 173/300\n",
      "----------\n",
      "train :\n"
     ]
    },
    {
     "data": {
      "application/vnd.jupyter.widget-view+json": {
       "model_id": "deee276d499e46468203c055d125e210",
       "version_major": 2,
       "version_minor": 0
      },
      "text/plain": [
       "  0%|          | 0/319 [00:00<?, ?it/s]"
      ]
     },
     "metadata": {},
     "output_type": "display_data"
    },
    {
     "name": "stdout",
     "output_type": "stream",
     "text": [
      "train loss: 0.2822, acc: 0.8800, f1: 0.8800\n",
      "validation :\n"
     ]
    },
    {
     "data": {
      "application/vnd.jupyter.widget-view+json": {
       "model_id": "acb4cfc8674b438fa442deee724cb54d",
       "version_major": 2,
       "version_minor": 0
      },
      "text/plain": [
       "  0%|          | 0/107 [00:00<?, ?it/s]"
      ]
     },
     "metadata": {},
     "output_type": "display_data"
    },
    {
     "name": "stdout",
     "output_type": "stream",
     "text": [
      "[[1524  173]\n",
      " [ 344 1353]]\n",
      "validation loss: 0.3563, acc: 0.8477, f1: 0.8477\n",
      "Epoch 174/300\n",
      "----------\n",
      "train :\n"
     ]
    },
    {
     "data": {
      "application/vnd.jupyter.widget-view+json": {
       "model_id": "881903085d1849499467cca391d195ff",
       "version_major": 2,
       "version_minor": 0
      },
      "text/plain": [
       "  0%|          | 0/319 [00:00<?, ?it/s]"
      ]
     },
     "metadata": {},
     "output_type": "display_data"
    },
    {
     "name": "stdout",
     "output_type": "stream",
     "text": [
      "train loss: 0.2839, acc: 0.8775, f1: 0.8775\n",
      "validation :\n"
     ]
    },
    {
     "data": {
      "application/vnd.jupyter.widget-view+json": {
       "model_id": "40288e6df8414f93918a21852ca5a9dc",
       "version_major": 2,
       "version_minor": 0
      },
      "text/plain": [
       "  0%|          | 0/107 [00:00<?, ?it/s]"
      ]
     },
     "metadata": {},
     "output_type": "display_data"
    },
    {
     "name": "stdout",
     "output_type": "stream",
     "text": [
      "[[1509  188]\n",
      " [ 333 1364]]\n",
      "validation loss: 0.3557, acc: 0.8465, f1: 0.8465\n",
      "Epoch 175/300\n",
      "----------\n",
      "train :\n"
     ]
    },
    {
     "data": {
      "application/vnd.jupyter.widget-view+json": {
       "model_id": "79122d0017ec47a7ab0e77ec947a4695",
       "version_major": 2,
       "version_minor": 0
      },
      "text/plain": [
       "  0%|          | 0/319 [00:00<?, ?it/s]"
      ]
     },
     "metadata": {},
     "output_type": "display_data"
    },
    {
     "name": "stdout",
     "output_type": "stream",
     "text": [
      "train loss: 0.2807, acc: 0.8848, f1: 0.8848\n",
      "validation :\n"
     ]
    },
    {
     "data": {
      "application/vnd.jupyter.widget-view+json": {
       "model_id": "c0944dc52f394e418556490162edb840",
       "version_major": 2,
       "version_minor": 0
      },
      "text/plain": [
       "  0%|          | 0/107 [00:00<?, ?it/s]"
      ]
     },
     "metadata": {},
     "output_type": "display_data"
    },
    {
     "name": "stdout",
     "output_type": "stream",
     "text": [
      "[[1561  136]\n",
      " [ 394 1303]]\n",
      "validation loss: 0.3533, acc: 0.8438, f1: 0.8438\n",
      "Epoch 176/300\n",
      "----------\n",
      "train :\n"
     ]
    },
    {
     "data": {
      "application/vnd.jupyter.widget-view+json": {
       "model_id": "8a1ae2a079fd47d9947a854fc3ca2193",
       "version_major": 2,
       "version_minor": 0
      },
      "text/plain": [
       "  0%|          | 0/319 [00:00<?, ?it/s]"
      ]
     },
     "metadata": {},
     "output_type": "display_data"
    },
    {
     "name": "stdout",
     "output_type": "stream",
     "text": [
      "train loss: 0.2815, acc: 0.8798, f1: 0.8798\n",
      "validation :\n"
     ]
    },
    {
     "data": {
      "application/vnd.jupyter.widget-view+json": {
       "model_id": "c8ba5c222ad947e98418588568866249",
       "version_major": 2,
       "version_minor": 0
      },
      "text/plain": [
       "  0%|          | 0/107 [00:00<?, ?it/s]"
      ]
     },
     "metadata": {},
     "output_type": "display_data"
    },
    {
     "name": "stdout",
     "output_type": "stream",
     "text": [
      "[[1521  176]\n",
      " [ 301 1396]]\n",
      "validation loss: 0.3418, acc: 0.8595, f1: 0.8595\n",
      "Epoch 177/300\n",
      "----------\n",
      "train :\n"
     ]
    },
    {
     "data": {
      "application/vnd.jupyter.widget-view+json": {
       "model_id": "c2b50e24a92d4bb385298b338f8e39f3",
       "version_major": 2,
       "version_minor": 0
      },
      "text/plain": [
       "  0%|          | 0/319 [00:00<?, ?it/s]"
      ]
     },
     "metadata": {},
     "output_type": "display_data"
    },
    {
     "name": "stdout",
     "output_type": "stream",
     "text": [
      "train loss: 0.2853, acc: 0.8791, f1: 0.8791\n",
      "validation :\n"
     ]
    },
    {
     "data": {
      "application/vnd.jupyter.widget-view+json": {
       "model_id": "4e4648fe382c4dfc8527d4bfc7f4a82b",
       "version_major": 2,
       "version_minor": 0
      },
      "text/plain": [
       "  0%|          | 0/107 [00:00<?, ?it/s]"
      ]
     },
     "metadata": {},
     "output_type": "display_data"
    },
    {
     "name": "stdout",
     "output_type": "stream",
     "text": [
      "[[1600   97]\n",
      " [ 444 1253]]\n",
      "validation loss: 0.3860, acc: 0.8406, f1: 0.8406\n",
      "Epoch 178/300\n",
      "----------\n",
      "train :\n"
     ]
    },
    {
     "data": {
      "application/vnd.jupyter.widget-view+json": {
       "model_id": "0241edfc47344d168e62ab72f2564ba6",
       "version_major": 2,
       "version_minor": 0
      },
      "text/plain": [
       "  0%|          | 0/319 [00:00<?, ?it/s]"
      ]
     },
     "metadata": {},
     "output_type": "display_data"
    },
    {
     "name": "stdout",
     "output_type": "stream",
     "text": [
      "train loss: 0.2792, acc: 0.8822, f1: 0.8822\n",
      "validation :\n"
     ]
    },
    {
     "data": {
      "application/vnd.jupyter.widget-view+json": {
       "model_id": "72bac7ede41e47f6b45d31b66ca2d4e2",
       "version_major": 2,
       "version_minor": 0
      },
      "text/plain": [
       "  0%|          | 0/107 [00:00<?, ?it/s]"
      ]
     },
     "metadata": {},
     "output_type": "display_data"
    },
    {
     "name": "stdout",
     "output_type": "stream",
     "text": [
      "[[1609   88]\n",
      " [ 428 1269]]\n",
      "validation loss: 0.3581, acc: 0.8480, f1: 0.8480\n",
      "Epoch 179/300\n",
      "----------\n",
      "train :\n"
     ]
    },
    {
     "data": {
      "application/vnd.jupyter.widget-view+json": {
       "model_id": "af7a188a0ca840a1a8ff13881c1a9ae5",
       "version_major": 2,
       "version_minor": 0
      },
      "text/plain": [
       "  0%|          | 0/319 [00:00<?, ?it/s]"
      ]
     },
     "metadata": {},
     "output_type": "display_data"
    },
    {
     "name": "stdout",
     "output_type": "stream",
     "text": [
      "train loss: 0.2821, acc: 0.8829, f1: 0.8829\n",
      "validation :\n"
     ]
    },
    {
     "data": {
      "application/vnd.jupyter.widget-view+json": {
       "model_id": "d80e9b1b65054bbbb7ae614c9e5c499e",
       "version_major": 2,
       "version_minor": 0
      },
      "text/plain": [
       "  0%|          | 0/107 [00:00<?, ?it/s]"
      ]
     },
     "metadata": {},
     "output_type": "display_data"
    },
    {
     "name": "stdout",
     "output_type": "stream",
     "text": [
      "[[1570  127]\n",
      " [ 378 1319]]\n",
      "validation loss: 0.3452, acc: 0.8512, f1: 0.8512\n",
      "Epoch 180/300\n",
      "----------\n",
      "train :\n"
     ]
    },
    {
     "data": {
      "application/vnd.jupyter.widget-view+json": {
       "model_id": "2ebe7856de0c44a1bf36ce78e4919075",
       "version_major": 2,
       "version_minor": 0
      },
      "text/plain": [
       "  0%|          | 0/319 [00:00<?, ?it/s]"
      ]
     },
     "metadata": {},
     "output_type": "display_data"
    },
    {
     "name": "stdout",
     "output_type": "stream",
     "text": [
      "train loss: 0.2832, acc: 0.8817, f1: 0.8817\n",
      "validation :\n"
     ]
    },
    {
     "data": {
      "application/vnd.jupyter.widget-view+json": {
       "model_id": "b8cf5da1fe1948a6bac9985867722dc3",
       "version_major": 2,
       "version_minor": 0
      },
      "text/plain": [
       "  0%|          | 0/107 [00:00<?, ?it/s]"
      ]
     },
     "metadata": {},
     "output_type": "display_data"
    },
    {
     "name": "stdout",
     "output_type": "stream",
     "text": [
      "[[1588  109]\n",
      " [ 419 1278]]\n",
      "validation loss: 0.3616, acc: 0.8444, f1: 0.8444\n",
      "Epoch 181/300\n",
      "----------\n",
      "train :\n"
     ]
    },
    {
     "data": {
      "application/vnd.jupyter.widget-view+json": {
       "model_id": "d79717f143714793b632b41f9c386bb3",
       "version_major": 2,
       "version_minor": 0
      },
      "text/plain": [
       "  0%|          | 0/319 [00:00<?, ?it/s]"
      ]
     },
     "metadata": {},
     "output_type": "display_data"
    },
    {
     "name": "stdout",
     "output_type": "stream",
     "text": [
      "train loss: 0.2802, acc: 0.8788, f1: 0.8788\n",
      "validation :\n"
     ]
    },
    {
     "data": {
      "application/vnd.jupyter.widget-view+json": {
       "model_id": "745f85f77dfb458cace477b5bf55aa19",
       "version_major": 2,
       "version_minor": 0
      },
      "text/plain": [
       "  0%|          | 0/107 [00:00<?, ?it/s]"
      ]
     },
     "metadata": {},
     "output_type": "display_data"
    },
    {
     "name": "stdout",
     "output_type": "stream",
     "text": [
      "[[1558  139]\n",
      " [ 354 1343]]\n",
      "validation loss: 0.3484, acc: 0.8547, f1: 0.8547\n",
      "Epoch 182/300\n",
      "----------\n",
      "train :\n"
     ]
    },
    {
     "data": {
      "application/vnd.jupyter.widget-view+json": {
       "model_id": "46f87b6531884aeab2a162334c38b6bf",
       "version_major": 2,
       "version_minor": 0
      },
      "text/plain": [
       "  0%|          | 0/319 [00:00<?, ?it/s]"
      ]
     },
     "metadata": {},
     "output_type": "display_data"
    },
    {
     "name": "stdout",
     "output_type": "stream",
     "text": [
      "train loss: 0.2776, acc: 0.8842, f1: 0.8842\n",
      "validation :\n"
     ]
    },
    {
     "data": {
      "application/vnd.jupyter.widget-view+json": {
       "model_id": "0cbd127dbd914a0db0fd925ca5ba7d84",
       "version_major": 2,
       "version_minor": 0
      },
      "text/plain": [
       "  0%|          | 0/107 [00:00<?, ?it/s]"
      ]
     },
     "metadata": {},
     "output_type": "display_data"
    },
    {
     "name": "stdout",
     "output_type": "stream",
     "text": [
      "[[1559  138]\n",
      " [ 367 1330]]\n",
      "validation loss: 0.3583, acc: 0.8512, f1: 0.8512\n",
      "Epoch 183/300\n",
      "----------\n",
      "train :\n"
     ]
    },
    {
     "data": {
      "application/vnd.jupyter.widget-view+json": {
       "model_id": "5dd8db101f0e4c0cb049ad9925e4baea",
       "version_major": 2,
       "version_minor": 0
      },
      "text/plain": [
       "  0%|          | 0/319 [00:00<?, ?it/s]"
      ]
     },
     "metadata": {},
     "output_type": "display_data"
    },
    {
     "name": "stdout",
     "output_type": "stream",
     "text": [
      "train loss: 0.2752, acc: 0.8845, f1: 0.8845\n",
      "validation :\n"
     ]
    },
    {
     "data": {
      "application/vnd.jupyter.widget-view+json": {
       "model_id": "143b5748d1924902b0ce15e3c0f85c55",
       "version_major": 2,
       "version_minor": 0
      },
      "text/plain": [
       "  0%|          | 0/107 [00:00<?, ?it/s]"
      ]
     },
     "metadata": {},
     "output_type": "display_data"
    },
    {
     "name": "stdout",
     "output_type": "stream",
     "text": [
      "[[1491  206]\n",
      " [ 293 1404]]\n",
      "validation loss: 0.3487, acc: 0.8530, f1: 0.8530\n",
      "Epoch 184/300\n",
      "----------\n",
      "train :\n"
     ]
    },
    {
     "data": {
      "application/vnd.jupyter.widget-view+json": {
       "model_id": "73b7a8dfa59049fb80155d4e630909e2",
       "version_major": 2,
       "version_minor": 0
      },
      "text/plain": [
       "  0%|          | 0/319 [00:00<?, ?it/s]"
      ]
     },
     "metadata": {},
     "output_type": "display_data"
    },
    {
     "name": "stdout",
     "output_type": "stream",
     "text": [
      "train loss: 0.2806, acc: 0.8821, f1: 0.8821\n",
      "validation :\n"
     ]
    },
    {
     "data": {
      "application/vnd.jupyter.widget-view+json": {
       "model_id": "3b848681ba584a3c9dd8d6ff1a1a1ed2",
       "version_major": 2,
       "version_minor": 0
      },
      "text/plain": [
       "  0%|          | 0/107 [00:00<?, ?it/s]"
      ]
     },
     "metadata": {},
     "output_type": "display_data"
    },
    {
     "name": "stdout",
     "output_type": "stream",
     "text": [
      "[[1590  107]\n",
      " [ 395 1302]]\n",
      "validation loss: 0.3687, acc: 0.8521, f1: 0.8521\n",
      "Epoch 185/300\n",
      "----------\n",
      "train :\n"
     ]
    },
    {
     "data": {
      "application/vnd.jupyter.widget-view+json": {
       "model_id": "093d8df47c5b4a7692f88fa5bb2af8ea",
       "version_major": 2,
       "version_minor": 0
      },
      "text/plain": [
       "  0%|          | 0/319 [00:00<?, ?it/s]"
      ]
     },
     "metadata": {},
     "output_type": "display_data"
    },
    {
     "name": "stdout",
     "output_type": "stream",
     "text": [
      "train loss: 0.2715, acc: 0.8855, f1: 0.8855\n",
      "validation :\n"
     ]
    },
    {
     "data": {
      "application/vnd.jupyter.widget-view+json": {
       "model_id": "f991e3d370bf43a79d4b5572cde16797",
       "version_major": 2,
       "version_minor": 0
      },
      "text/plain": [
       "  0%|          | 0/107 [00:00<?, ?it/s]"
      ]
     },
     "metadata": {},
     "output_type": "display_data"
    },
    {
     "name": "stdout",
     "output_type": "stream",
     "text": [
      "[[1544  153]\n",
      " [ 330 1367]]\n",
      "validation loss: 0.3554, acc: 0.8577, f1: 0.8577\n",
      "Epoch 186/300\n",
      "----------\n",
      "train :\n"
     ]
    },
    {
     "data": {
      "application/vnd.jupyter.widget-view+json": {
       "model_id": "24b0b5fa59554741abc751bd551c655c",
       "version_major": 2,
       "version_minor": 0
      },
      "text/plain": [
       "  0%|          | 0/319 [00:00<?, ?it/s]"
      ]
     },
     "metadata": {},
     "output_type": "display_data"
    },
    {
     "name": "stdout",
     "output_type": "stream",
     "text": [
      "train loss: 0.2755, acc: 0.8845, f1: 0.8845\n",
      "validation :\n"
     ]
    },
    {
     "data": {
      "application/vnd.jupyter.widget-view+json": {
       "model_id": "ccbe809d1a4f4f05aeb56088fed7bdba",
       "version_major": 2,
       "version_minor": 0
      },
      "text/plain": [
       "  0%|          | 0/107 [00:00<?, ?it/s]"
      ]
     },
     "metadata": {},
     "output_type": "display_data"
    },
    {
     "name": "stdout",
     "output_type": "stream",
     "text": [
      "[[1533  164]\n",
      " [ 320 1377]]\n",
      "validation loss: 0.3502, acc: 0.8574, f1: 0.8574\n",
      "Epoch 187/300\n",
      "----------\n",
      "train :\n"
     ]
    },
    {
     "data": {
      "application/vnd.jupyter.widget-view+json": {
       "model_id": "4621eba846694299b349011aea259650",
       "version_major": 2,
       "version_minor": 0
      },
      "text/plain": [
       "  0%|          | 0/319 [00:00<?, ?it/s]"
      ]
     },
     "metadata": {},
     "output_type": "display_data"
    },
    {
     "name": "stdout",
     "output_type": "stream",
     "text": [
      "train loss: 0.2677, acc: 0.8850, f1: 0.8850\n",
      "validation :\n"
     ]
    },
    {
     "data": {
      "application/vnd.jupyter.widget-view+json": {
       "model_id": "a9710bcd39274c79858429248d5094a3",
       "version_major": 2,
       "version_minor": 0
      },
      "text/plain": [
       "  0%|          | 0/107 [00:00<?, ?it/s]"
      ]
     },
     "metadata": {},
     "output_type": "display_data"
    },
    {
     "name": "stdout",
     "output_type": "stream",
     "text": [
      "[[1538  159]\n",
      " [ 328 1369]]\n",
      "validation loss: 0.3346, acc: 0.8565, f1: 0.8565\n",
      "Epoch 188/300\n",
      "----------\n",
      "train :\n"
     ]
    },
    {
     "data": {
      "application/vnd.jupyter.widget-view+json": {
       "model_id": "22a422451c394bbbb48663c71ecf624d",
       "version_major": 2,
       "version_minor": 0
      },
      "text/plain": [
       "  0%|          | 0/319 [00:00<?, ?it/s]"
      ]
     },
     "metadata": {},
     "output_type": "display_data"
    },
    {
     "name": "stdout",
     "output_type": "stream",
     "text": [
      "train loss: 0.2700, acc: 0.8857, f1: 0.8857\n",
      "validation :\n"
     ]
    },
    {
     "data": {
      "application/vnd.jupyter.widget-view+json": {
       "model_id": "ff0bb939ea124432b9288620d05609e7",
       "version_major": 2,
       "version_minor": 0
      },
      "text/plain": [
       "  0%|          | 0/107 [00:00<?, ?it/s]"
      ]
     },
     "metadata": {},
     "output_type": "display_data"
    },
    {
     "name": "stdout",
     "output_type": "stream",
     "text": [
      "[[1548  149]\n",
      " [ 351 1346]]\n",
      "validation loss: 0.3688, acc: 0.8527, f1: 0.8527\n",
      "Epoch 189/300\n",
      "----------\n",
      "train :\n"
     ]
    },
    {
     "data": {
      "application/vnd.jupyter.widget-view+json": {
       "model_id": "c976431c0117493cbf5f935d102fed49",
       "version_major": 2,
       "version_minor": 0
      },
      "text/plain": [
       "  0%|          | 0/319 [00:00<?, ?it/s]"
      ]
     },
     "metadata": {},
     "output_type": "display_data"
    },
    {
     "name": "stdout",
     "output_type": "stream",
     "text": [
      "train loss: 0.2741, acc: 0.8852, f1: 0.8852\n",
      "validation :\n"
     ]
    },
    {
     "data": {
      "application/vnd.jupyter.widget-view+json": {
       "model_id": "78707c9a922d4e519e0ed7e9597c9dc0",
       "version_major": 2,
       "version_minor": 0
      },
      "text/plain": [
       "  0%|          | 0/107 [00:00<?, ?it/s]"
      ]
     },
     "metadata": {},
     "output_type": "display_data"
    },
    {
     "name": "stdout",
     "output_type": "stream",
     "text": [
      "[[1549  148]\n",
      " [ 393 1304]]\n",
      "validation loss: 0.3608, acc: 0.8406, f1: 0.8406\n",
      "Epoch 190/300\n",
      "----------\n",
      "train :\n"
     ]
    },
    {
     "data": {
      "application/vnd.jupyter.widget-view+json": {
       "model_id": "d21594b033f640bda9661b19dc13116d",
       "version_major": 2,
       "version_minor": 0
      },
      "text/plain": [
       "  0%|          | 0/319 [00:00<?, ?it/s]"
      ]
     },
     "metadata": {},
     "output_type": "display_data"
    },
    {
     "name": "stdout",
     "output_type": "stream",
     "text": [
      "train loss: 0.2754, acc: 0.8842, f1: 0.8842\n",
      "validation :\n"
     ]
    },
    {
     "data": {
      "application/vnd.jupyter.widget-view+json": {
       "model_id": "de78042af05b4d68837d5ea6de999068",
       "version_major": 2,
       "version_minor": 0
      },
      "text/plain": [
       "  0%|          | 0/107 [00:00<?, ?it/s]"
      ]
     },
     "metadata": {},
     "output_type": "display_data"
    },
    {
     "name": "stdout",
     "output_type": "stream",
     "text": [
      "[[1597  100]\n",
      " [ 468 1229]]\n",
      "validation loss: 0.3885, acc: 0.8326, f1: 0.8326\n",
      "Epoch 191/300\n",
      "----------\n",
      "train :\n"
     ]
    },
    {
     "data": {
      "application/vnd.jupyter.widget-view+json": {
       "model_id": "cdbd5a3b9bdc45c28e349b584492fdcb",
       "version_major": 2,
       "version_minor": 0
      },
      "text/plain": [
       "  0%|          | 0/319 [00:00<?, ?it/s]"
      ]
     },
     "metadata": {},
     "output_type": "display_data"
    },
    {
     "name": "stdout",
     "output_type": "stream",
     "text": [
      "train loss: 0.2815, acc: 0.8839, f1: 0.8839\n",
      "validation :\n"
     ]
    },
    {
     "data": {
      "application/vnd.jupyter.widget-view+json": {
       "model_id": "c402c2644fe2449f98074733daf1a3dd",
       "version_major": 2,
       "version_minor": 0
      },
      "text/plain": [
       "  0%|          | 0/107 [00:00<?, ?it/s]"
      ]
     },
     "metadata": {},
     "output_type": "display_data"
    },
    {
     "name": "stdout",
     "output_type": "stream",
     "text": [
      "[[1422  275]\n",
      " [ 284 1413]]\n",
      "validation loss: 0.3678, acc: 0.8353, f1: 0.8353\n",
      "Epoch 192/300\n",
      "----------\n",
      "train :\n"
     ]
    },
    {
     "data": {
      "application/vnd.jupyter.widget-view+json": {
       "model_id": "3cf696081f2b4db2b19e18e4c850c61a",
       "version_major": 2,
       "version_minor": 0
      },
      "text/plain": [
       "  0%|          | 0/319 [00:00<?, ?it/s]"
      ]
     },
     "metadata": {},
     "output_type": "display_data"
    },
    {
     "name": "stdout",
     "output_type": "stream",
     "text": [
      "train loss: 0.2788, acc: 0.8828, f1: 0.8828\n",
      "validation :\n"
     ]
    },
    {
     "data": {
      "application/vnd.jupyter.widget-view+json": {
       "model_id": "94768df882d94c68bc4ebafd2f7058f0",
       "version_major": 2,
       "version_minor": 0
      },
      "text/plain": [
       "  0%|          | 0/107 [00:00<?, ?it/s]"
      ]
     },
     "metadata": {},
     "output_type": "display_data"
    },
    {
     "name": "stdout",
     "output_type": "stream",
     "text": [
      "[[1541  156]\n",
      " [ 354 1343]]\n",
      "validation loss: 0.3509, acc: 0.8497, f1: 0.8497\n",
      "Epoch 193/300\n",
      "----------\n",
      "train :\n"
     ]
    },
    {
     "data": {
      "application/vnd.jupyter.widget-view+json": {
       "model_id": "16117f2a6a0a45f0975931f5c322b08c",
       "version_major": 2,
       "version_minor": 0
      },
      "text/plain": [
       "  0%|          | 0/319 [00:00<?, ?it/s]"
      ]
     },
     "metadata": {},
     "output_type": "display_data"
    },
    {
     "name": "stdout",
     "output_type": "stream",
     "text": [
      "train loss: 0.2698, acc: 0.8873, f1: 0.8873\n",
      "validation :\n"
     ]
    },
    {
     "data": {
      "application/vnd.jupyter.widget-view+json": {
       "model_id": "d1f7d1239fce4fe794d8fe3665c3259e",
       "version_major": 2,
       "version_minor": 0
      },
      "text/plain": [
       "  0%|          | 0/107 [00:00<?, ?it/s]"
      ]
     },
     "metadata": {},
     "output_type": "display_data"
    },
    {
     "name": "stdout",
     "output_type": "stream",
     "text": [
      "[[1607   90]\n",
      " [ 444 1253]]\n",
      "validation loss: 0.4224, acc: 0.8427, f1: 0.8427\n",
      "Epoch 194/300\n",
      "----------\n",
      "train :\n"
     ]
    },
    {
     "data": {
      "application/vnd.jupyter.widget-view+json": {
       "model_id": "4380189415bd44408ba54ca175c3e1d2",
       "version_major": 2,
       "version_minor": 0
      },
      "text/plain": [
       "  0%|          | 0/319 [00:00<?, ?it/s]"
      ]
     },
     "metadata": {},
     "output_type": "display_data"
    },
    {
     "name": "stdout",
     "output_type": "stream",
     "text": [
      "train loss: 0.2729, acc: 0.8898, f1: 0.8898\n",
      "validation :\n"
     ]
    },
    {
     "data": {
      "application/vnd.jupyter.widget-view+json": {
       "model_id": "dea5c2f1e9bc4b91ac98bb94c94f4517",
       "version_major": 2,
       "version_minor": 0
      },
      "text/plain": [
       "  0%|          | 0/107 [00:00<?, ?it/s]"
      ]
     },
     "metadata": {},
     "output_type": "display_data"
    },
    {
     "name": "stdout",
     "output_type": "stream",
     "text": [
      "[[1572  125]\n",
      " [ 396 1301]]\n",
      "validation loss: 0.3803, acc: 0.8465, f1: 0.8465\n",
      "Epoch 195/300\n",
      "----------\n",
      "train :\n"
     ]
    },
    {
     "data": {
      "application/vnd.jupyter.widget-view+json": {
       "model_id": "a484a2a5d2124e3c97b80f7b479d9542",
       "version_major": 2,
       "version_minor": 0
      },
      "text/plain": [
       "  0%|          | 0/319 [00:00<?, ?it/s]"
      ]
     },
     "metadata": {},
     "output_type": "display_data"
    },
    {
     "name": "stdout",
     "output_type": "stream",
     "text": [
      "train loss: 0.2720, acc: 0.8837, f1: 0.8837\n",
      "validation :\n"
     ]
    },
    {
     "data": {
      "application/vnd.jupyter.widget-view+json": {
       "model_id": "7469a94fab6644b18ea464cf7a2edb00",
       "version_major": 2,
       "version_minor": 0
      },
      "text/plain": [
       "  0%|          | 0/107 [00:00<?, ?it/s]"
      ]
     },
     "metadata": {},
     "output_type": "display_data"
    },
    {
     "name": "stdout",
     "output_type": "stream",
     "text": [
      "[[1599   98]\n",
      " [ 460 1237]]\n",
      "validation loss: 0.3877, acc: 0.8356, f1: 0.8356\n",
      "Epoch 196/300\n",
      "----------\n",
      "train :\n"
     ]
    },
    {
     "data": {
      "application/vnd.jupyter.widget-view+json": {
       "model_id": "4f2d056d7e22419bb36b9eb858a20f88",
       "version_major": 2,
       "version_minor": 0
      },
      "text/plain": [
       "  0%|          | 0/319 [00:00<?, ?it/s]"
      ]
     },
     "metadata": {},
     "output_type": "display_data"
    },
    {
     "name": "stdout",
     "output_type": "stream",
     "text": [
      "train loss: 0.2719, acc: 0.8876, f1: 0.8876\n",
      "validation :\n"
     ]
    },
    {
     "data": {
      "application/vnd.jupyter.widget-view+json": {
       "model_id": "d22f1162426a45e4865f646f9b6bfc89",
       "version_major": 2,
       "version_minor": 0
      },
      "text/plain": [
       "  0%|          | 0/107 [00:00<?, ?it/s]"
      ]
     },
     "metadata": {},
     "output_type": "display_data"
    },
    {
     "name": "stdout",
     "output_type": "stream",
     "text": [
      "[[1577  120]\n",
      " [ 387 1310]]\n",
      "validation loss: 0.3635, acc: 0.8506, f1: 0.8506\n",
      "Epoch 197/300\n",
      "----------\n",
      "train :\n"
     ]
    },
    {
     "data": {
      "application/vnd.jupyter.widget-view+json": {
       "model_id": "5dca6edcc76747238ee3ad40d7ac457c",
       "version_major": 2,
       "version_minor": 0
      },
      "text/plain": [
       "  0%|          | 0/319 [00:00<?, ?it/s]"
      ]
     },
     "metadata": {},
     "output_type": "display_data"
    },
    {
     "name": "stdout",
     "output_type": "stream",
     "text": [
      "train loss: 0.2733, acc: 0.8846, f1: 0.8846\n",
      "validation :\n"
     ]
    },
    {
     "data": {
      "application/vnd.jupyter.widget-view+json": {
       "model_id": "a505d86f352046a49fc81aec00c88706",
       "version_major": 2,
       "version_minor": 0
      },
      "text/plain": [
       "  0%|          | 0/107 [00:00<?, ?it/s]"
      ]
     },
     "metadata": {},
     "output_type": "display_data"
    },
    {
     "name": "stdout",
     "output_type": "stream",
     "text": [
      "[[1530  167]\n",
      " [ 316 1381]]\n",
      "validation loss: 0.3456, acc: 0.8577, f1: 0.8577\n",
      "Epoch 198/300\n",
      "----------\n",
      "train :\n"
     ]
    },
    {
     "data": {
      "application/vnd.jupyter.widget-view+json": {
       "model_id": "47156ee780d74e258f069ec8aa13b5c7",
       "version_major": 2,
       "version_minor": 0
      },
      "text/plain": [
       "  0%|          | 0/319 [00:00<?, ?it/s]"
      ]
     },
     "metadata": {},
     "output_type": "display_data"
    },
    {
     "name": "stdout",
     "output_type": "stream",
     "text": [
      "train loss: 0.2737, acc: 0.8863, f1: 0.8863\n",
      "validation :\n"
     ]
    },
    {
     "data": {
      "application/vnd.jupyter.widget-view+json": {
       "model_id": "7f916e78601e4578ba41a0a0f080e537",
       "version_major": 2,
       "version_minor": 0
      },
      "text/plain": [
       "  0%|          | 0/107 [00:00<?, ?it/s]"
      ]
     },
     "metadata": {},
     "output_type": "display_data"
    },
    {
     "name": "stdout",
     "output_type": "stream",
     "text": [
      "[[1563  134]\n",
      " [ 381 1316]]\n",
      "validation loss: 0.3524, acc: 0.8483, f1: 0.8483\n",
      "Epoch 199/300\n",
      "----------\n",
      "train :\n"
     ]
    },
    {
     "data": {
      "application/vnd.jupyter.widget-view+json": {
       "model_id": "15b2518cd9574039a1e5cda61edf36ba",
       "version_major": 2,
       "version_minor": 0
      },
      "text/plain": [
       "  0%|          | 0/319 [00:00<?, ?it/s]"
      ]
     },
     "metadata": {},
     "output_type": "display_data"
    },
    {
     "name": "stdout",
     "output_type": "stream",
     "text": [
      "train loss: 0.2659, acc: 0.8866, f1: 0.8866\n",
      "validation :\n"
     ]
    },
    {
     "data": {
      "application/vnd.jupyter.widget-view+json": {
       "model_id": "9f1d4748997143679690572f1070a504",
       "version_major": 2,
       "version_minor": 0
      },
      "text/plain": [
       "  0%|          | 0/107 [00:00<?, ?it/s]"
      ]
     },
     "metadata": {},
     "output_type": "display_data"
    },
    {
     "name": "stdout",
     "output_type": "stream",
     "text": [
      "[[1549  148]\n",
      " [ 351 1346]]\n",
      "validation loss: 0.3660, acc: 0.8530, f1: 0.8530\n",
      "Epoch 200/300\n",
      "----------\n",
      "train :\n"
     ]
    },
    {
     "data": {
      "application/vnd.jupyter.widget-view+json": {
       "model_id": "a4412dbf12d44929a7c36eac1d8eefa0",
       "version_major": 2,
       "version_minor": 0
      },
      "text/plain": [
       "  0%|          | 0/319 [00:00<?, ?it/s]"
      ]
     },
     "metadata": {},
     "output_type": "display_data"
    },
    {
     "name": "stdout",
     "output_type": "stream",
     "text": [
      "train loss: 0.2668, acc: 0.8876, f1: 0.8876\n",
      "validation :\n"
     ]
    },
    {
     "data": {
      "application/vnd.jupyter.widget-view+json": {
       "model_id": "f98cf3465919471cbb947e875ebaea0c",
       "version_major": 2,
       "version_minor": 0
      },
      "text/plain": [
       "  0%|          | 0/107 [00:00<?, ?it/s]"
      ]
     },
     "metadata": {},
     "output_type": "display_data"
    },
    {
     "name": "stdout",
     "output_type": "stream",
     "text": [
      "[[1545  152]\n",
      " [ 383 1314]]\n",
      "validation loss: 0.3603, acc: 0.8424, f1: 0.8424\n",
      "Epoch 201/300\n",
      "----------\n",
      "train :\n"
     ]
    },
    {
     "data": {
      "application/vnd.jupyter.widget-view+json": {
       "model_id": "f1709b5ee3e54d55a55cde599be3855f",
       "version_major": 2,
       "version_minor": 0
      },
      "text/plain": [
       "  0%|          | 0/319 [00:00<?, ?it/s]"
      ]
     },
     "metadata": {},
     "output_type": "display_data"
    },
    {
     "name": "stdout",
     "output_type": "stream",
     "text": [
      "train loss: 0.2675, acc: 0.8903, f1: 0.8903\n",
      "validation :\n"
     ]
    },
    {
     "data": {
      "application/vnd.jupyter.widget-view+json": {
       "model_id": "8cc38854073c454da28123835d7611fe",
       "version_major": 2,
       "version_minor": 0
      },
      "text/plain": [
       "  0%|          | 0/107 [00:00<?, ?it/s]"
      ]
     },
     "metadata": {},
     "output_type": "display_data"
    },
    {
     "name": "stdout",
     "output_type": "stream",
     "text": [
      "[[1553  144]\n",
      " [ 367 1330]]\n",
      "validation loss: 0.3603, acc: 0.8494, f1: 0.8494\n",
      "Epoch 202/300\n",
      "----------\n",
      "train :\n"
     ]
    },
    {
     "data": {
      "application/vnd.jupyter.widget-view+json": {
       "model_id": "3f249527e42d4c88b6fda92df74f5b86",
       "version_major": 2,
       "version_minor": 0
      },
      "text/plain": [
       "  0%|          | 0/319 [00:00<?, ?it/s]"
      ]
     },
     "metadata": {},
     "output_type": "display_data"
    },
    {
     "name": "stdout",
     "output_type": "stream",
     "text": [
      "train loss: 0.2779, acc: 0.8800, f1: 0.8800\n",
      "validation :\n"
     ]
    },
    {
     "data": {
      "application/vnd.jupyter.widget-view+json": {
       "model_id": "6420ad8286b34288b3fe1407a73aabf4",
       "version_major": 2,
       "version_minor": 0
      },
      "text/plain": [
       "  0%|          | 0/107 [00:00<?, ?it/s]"
      ]
     },
     "metadata": {},
     "output_type": "display_data"
    },
    {
     "name": "stdout",
     "output_type": "stream",
     "text": [
      "[[1570  127]\n",
      " [ 417 1280]]\n",
      "validation loss: 0.3748, acc: 0.8397, f1: 0.8397\n",
      "Epoch 203/300\n",
      "----------\n",
      "train :\n"
     ]
    },
    {
     "data": {
      "application/vnd.jupyter.widget-view+json": {
       "model_id": "afb3fb3b48e449ac8f78e0e3d4a3612c",
       "version_major": 2,
       "version_minor": 0
      },
      "text/plain": [
       "  0%|          | 0/319 [00:00<?, ?it/s]"
      ]
     },
     "metadata": {},
     "output_type": "display_data"
    },
    {
     "name": "stdout",
     "output_type": "stream",
     "text": [
      "train loss: 0.2748, acc: 0.8878, f1: 0.8878\n",
      "validation :\n"
     ]
    },
    {
     "data": {
      "application/vnd.jupyter.widget-view+json": {
       "model_id": "929d15d583cc478e904d01cefe28d23b",
       "version_major": 2,
       "version_minor": 0
      },
      "text/plain": [
       "  0%|          | 0/107 [00:00<?, ?it/s]"
      ]
     },
     "metadata": {},
     "output_type": "display_data"
    },
    {
     "name": "stdout",
     "output_type": "stream",
     "text": [
      "[[1547  150]\n",
      " [ 344 1353]]\n",
      "validation loss: 0.3442, acc: 0.8544, f1: 0.8544\n",
      "Epoch 204/300\n",
      "----------\n",
      "train :\n"
     ]
    },
    {
     "data": {
      "application/vnd.jupyter.widget-view+json": {
       "model_id": "e14704dc8db84d2d86360304b21098bc",
       "version_major": 2,
       "version_minor": 0
      },
      "text/plain": [
       "  0%|          | 0/319 [00:00<?, ?it/s]"
      ]
     },
     "metadata": {},
     "output_type": "display_data"
    },
    {
     "name": "stdout",
     "output_type": "stream",
     "text": [
      "train loss: 0.2715, acc: 0.8858, f1: 0.8858\n",
      "validation :\n"
     ]
    },
    {
     "data": {
      "application/vnd.jupyter.widget-view+json": {
       "model_id": "0032de87802445fb8c2c2c859022b3e2",
       "version_major": 2,
       "version_minor": 0
      },
      "text/plain": [
       "  0%|          | 0/107 [00:00<?, ?it/s]"
      ]
     },
     "metadata": {},
     "output_type": "display_data"
    },
    {
     "name": "stdout",
     "output_type": "stream",
     "text": [
      "[[1507  190]\n",
      " [ 330 1367]]\n",
      "validation loss: 0.3634, acc: 0.8468, f1: 0.8468\n",
      "Epoch 205/300\n",
      "----------\n",
      "train :\n"
     ]
    },
    {
     "data": {
      "application/vnd.jupyter.widget-view+json": {
       "model_id": "17fcb8664baf401a8578da5226b64009",
       "version_major": 2,
       "version_minor": 0
      },
      "text/plain": [
       "  0%|          | 0/319 [00:00<?, ?it/s]"
      ]
     },
     "metadata": {},
     "output_type": "display_data"
    },
    {
     "name": "stdout",
     "output_type": "stream",
     "text": [
      "train loss: 0.2706, acc: 0.8873, f1: 0.8873\n",
      "validation :\n"
     ]
    },
    {
     "data": {
      "application/vnd.jupyter.widget-view+json": {
       "model_id": "9887ec2c167a4b07a658aa4380826f6e",
       "version_major": 2,
       "version_minor": 0
      },
      "text/plain": [
       "  0%|          | 0/107 [00:00<?, ?it/s]"
      ]
     },
     "metadata": {},
     "output_type": "display_data"
    },
    {
     "name": "stdout",
     "output_type": "stream",
     "text": [
      "[[1494  203]\n",
      " [ 312 1385]]\n",
      "validation loss: 0.3684, acc: 0.8483, f1: 0.8483\n",
      "Epoch 206/300\n",
      "----------\n",
      "train :\n"
     ]
    },
    {
     "data": {
      "application/vnd.jupyter.widget-view+json": {
       "model_id": "93b456e8484744de93f5d4ad6476b4e8",
       "version_major": 2,
       "version_minor": 0
      },
      "text/plain": [
       "  0%|          | 0/319 [00:00<?, ?it/s]"
      ]
     },
     "metadata": {},
     "output_type": "display_data"
    },
    {
     "name": "stdout",
     "output_type": "stream",
     "text": [
      "train loss: 0.2692, acc: 0.8872, f1: 0.8872\n",
      "validation :\n"
     ]
    },
    {
     "data": {
      "application/vnd.jupyter.widget-view+json": {
       "model_id": "e01cb224ae4d4f74845fd5b9bec7b03c",
       "version_major": 2,
       "version_minor": 0
      },
      "text/plain": [
       "  0%|          | 0/107 [00:00<?, ?it/s]"
      ]
     },
     "metadata": {},
     "output_type": "display_data"
    },
    {
     "name": "stdout",
     "output_type": "stream",
     "text": [
      "[[1507  190]\n",
      " [ 307 1390]]\n",
      "validation loss: 0.3486, acc: 0.8536, f1: 0.8536\n",
      "Epoch 207/300\n",
      "----------\n",
      "train :\n"
     ]
    },
    {
     "data": {
      "application/vnd.jupyter.widget-view+json": {
       "model_id": "8a886926cb134a34b7be96bf9fb57e00",
       "version_major": 2,
       "version_minor": 0
      },
      "text/plain": [
       "  0%|          | 0/319 [00:00<?, ?it/s]"
      ]
     },
     "metadata": {},
     "output_type": "display_data"
    },
    {
     "name": "stdout",
     "output_type": "stream",
     "text": [
      "train loss: 0.2698, acc: 0.8872, f1: 0.8872\n",
      "validation :\n"
     ]
    },
    {
     "data": {
      "application/vnd.jupyter.widget-view+json": {
       "model_id": "ba22ef369524445fbf5bf85a28812900",
       "version_major": 2,
       "version_minor": 0
      },
      "text/plain": [
       "  0%|          | 0/107 [00:00<?, ?it/s]"
      ]
     },
     "metadata": {},
     "output_type": "display_data"
    },
    {
     "name": "stdout",
     "output_type": "stream",
     "text": [
      "[[1606   91]\n",
      " [ 474 1223]]\n",
      "validation loss: 0.3954, acc: 0.8335, f1: 0.8335\n",
      "Epoch 208/300\n",
      "----------\n",
      "train :\n"
     ]
    },
    {
     "data": {
      "application/vnd.jupyter.widget-view+json": {
       "model_id": "857ec48c1bc240a2892f18bdfb378380",
       "version_major": 2,
       "version_minor": 0
      },
      "text/plain": [
       "  0%|          | 0/319 [00:00<?, ?it/s]"
      ]
     },
     "metadata": {},
     "output_type": "display_data"
    }
   ],
   "source": [
    "model_trained, metrics = train_model(model, criterion, optimizer, num_epochs=num_epochs)"
   ]
  },
  {
   "cell_type": "code",
   "execution_count": null,
   "id": "b87d9600",
   "metadata": {},
   "outputs": [],
   "source": [
    "for value in ['loss', 'f1s', 'accs']:\n",
    "    training_value = metrics[f'training_{value}']\n",
    "    validation_value = metrics[f'validation_{value}']\n",
    "    save_path = f'evaluation/{value}_graph.png'\n",
    "    os.makedirs(os.path.dirname(save_path), exist_ok = True)\n",
    "    fig = plt.figure(figsize = (10,5))\n",
    "    plt.title(save_path)\n",
    "    plt.plot(training_value, '.')\n",
    "    plt.plot(validation_value, '.')\n",
    "    plt.show()\n",
    "    fig.savefig(save_path, facecolor = 'white')"
   ]
  },
  {
   "cell_type": "code",
   "execution_count": null,
   "id": "344ae429",
   "metadata": {},
   "outputs": [],
   "source": [
    "import pandas as pd\n",
    "import numpy as np\n",
    "import matplotlib.pyplot as plt\n",
    "from sklearn.metrics import confusion_matrix, classification_report\n",
    "\n",
    "def plot_confusion_matrix(cm, labels, title='Confusion matrix', cmap=plt.cm.Blues, save_path = None):\n",
    "    #cm output from sklearn.confusion_matrix\n",
    "    fig, ax = plt.subplots(figsize = (5,5))\n",
    "    ax.imshow(cm, interpolation='nearest', cmap=cmap)\n",
    "\n",
    "    for i in range(cm.shape[0]):\n",
    "        for j in range(cm.shape[1]):\n",
    "            text = ax.text(j, i, np.round(cm[i, j], 2),\n",
    "                          ha=\"center\", va=\"center\", color=\"k\")\n",
    "    plt.title(title)\n",
    "    tick_marks = np.arange(len(labels))\n",
    "    plt.xticks(tick_marks, labels, rotation=45)\n",
    "    plt.yticks(tick_marks, labels)\n",
    "    plt.tight_layout()\n",
    "    plt.ylabel('True label')\n",
    "    plt.xlabel('Predicted label')\n",
    "    if save_path == None:\n",
    "        plt.show()\n",
    "    else:\n",
    "        plt.savefig(save_path, facecolor = 'white')\n",
    "\n",
    "def iou(target, prediction):\n",
    "    intersection = np.logical_and(target, prediction)\n",
    "    union = np.logical_or(target, prediction)\n",
    "    iou_score = np.sum(intersection) / np.sum(union)\n",
    "    return iou_score\n",
    "    \n",
    "def evaluate(y_truth, y_pred, labels, \n",
    "        save_confusion_matrix_path = 'evaluation_results/sample.png', \n",
    "        save_classification_report_path = 'evaluation_results/sample.csv'\n",
    "        ): \n",
    "    labels = [str(x) for x in labels]\n",
    "\n",
    "    print('Classification Report')\n",
    "    cls_report = classification_report(y_truth, y_pred,labels = [x for x in range(len(labels))], target_names=labels)\n",
    "    if save_classification_report_path != None:\n",
    "        df = pd.DataFrame(cls_report).transpose()\n",
    "        df.to_csv(save_classification_report_path)\n",
    "    print(cls_report)\n",
    "\n",
    "    print('Confusion Matrix')\n",
    "    plot_confusion_matrix(confusion_matrix(y_truth, y_pred, normalize = 'true'), labels = labels, save_path = save_confusion_matrix_path)\n"
   ]
  },
  {
   "cell_type": "code",
   "execution_count": null,
   "id": "7709b1a9",
   "metadata": {},
   "outputs": [],
   "source": [
    "#Evaluation model with 200 epochs on both train and val dataset\n",
    "model_trained = torch.load(f'{model_save_path}/last_model.pth')\n",
    "model_trained.eval()"
   ]
  },
  {
   "cell_type": "code",
   "execution_count": null,
   "id": "b170d4ba",
   "metadata": {},
   "outputs": [],
   "source": [
    "device = torch.device(\"cuda:0\" if torch.cuda.is_available() else \"cpu\")\n",
    "print(device)\n",
    "\n",
    "#Inference\n",
    "model_trained.eval().to(device)\n",
    "pred_c = np.array([])\n",
    "label_c = np.array([])\n",
    "\n",
    "for inputs, labels in tqdm(dataloaders['train']):\n",
    "    inputs = inputs.to(device)\n",
    "    labels = labels.to(device)\n",
    "    outputs = model_trained(inputs)\n",
    "    _, preds = torch.max(outputs, 1)\n",
    "    \n",
    "    label_c = np.concatenate((label_c, labels.cpu().numpy()))\n",
    "    pred_c = np.concatenate((pred_c, preds.data.cpu().numpy()))\n",
    "labels = ['0', '1'] \n",
    "evaluate(label_c, pred_c, labels, \n",
    "        save_confusion_matrix_path = 'evaluation/train_last_model.png', \n",
    "        save_classification_report_path = None,\n",
    "        )"
   ]
  },
  {
   "cell_type": "code",
   "execution_count": null,
   "id": "8c5ae1e2",
   "metadata": {},
   "outputs": [],
   "source": [
    "pred_c = np.array([])\n",
    "label_c = np.array([])\n",
    "\n",
    "for inputs, labels in tqdm(dataloaders['validation']):\n",
    "    inputs = inputs.to(device)\n",
    "    labels = labels.to(device)\n",
    "    outputs = model_trained(inputs)\n",
    "    _, preds = torch.max(outputs, 1)\n",
    "    \n",
    "    label_c = np.concatenate((label_c, labels.cpu().numpy()))\n",
    "    pred_c = np.concatenate((pred_c, preds.data.cpu().numpy()))\n",
    "labels = ['0', '1'] \n",
    "evaluate(label_c, pred_c, labels, \n",
    "        save_confusion_matrix_path = 'evaluation/val_last_model.png', \n",
    "        save_classification_report_path = None,\n",
    "        )"
   ]
  },
  {
   "cell_type": "code",
   "execution_count": null,
   "id": "0b0bfa85",
   "metadata": {},
   "outputs": [],
   "source": [
    "pred_c = np.array([])\n",
    "label_c = np.array([])\n",
    "\n",
    "for inputs, labels in tqdm(dataloaders['test']):\n",
    "    inputs = inputs.to(device)\n",
    "    labels = labels.to(device)\n",
    "    outputs = model_trained(inputs)\n",
    "    _, preds = torch.max(outputs, 1)\n",
    "    \n",
    "    label_c = np.concatenate((label_c, labels.cpu().numpy()))\n",
    "    pred_c = np.concatenate((pred_c, preds.data.cpu().numpy()))\n",
    "labels = ['0', '1'] \n",
    "evaluate(label_c, pred_c, labels, \n",
    "        save_confusion_matrix_path = 'evaluation/test_last_model.png', \n",
    "        save_classification_report_path = None,\n",
    "        )"
   ]
  },
  {
   "cell_type": "code",
   "execution_count": null,
   "id": "ed0f48cb",
   "metadata": {},
   "outputs": [],
   "source": [
    "#Eval best model\n",
    "model_trained = torch.load(f'{model_save_path}/model.pth')\n",
    "model_trained.eval()\n",
    "\n",
    "device = torch.device(\"cuda:0\" if torch.cuda.is_available() else \"cpu\")\n",
    "print(device)\n",
    "\n",
    "#Inference\n",
    "model_trained.eval().to(device)\n",
    "pred_c = np.array([])\n",
    "label_c = np.array([])\n",
    "\n",
    "for inputs, labels in tqdm(dataloaders['train']):\n",
    "    inputs = inputs.to(device)\n",
    "    labels = labels.to(device)\n",
    "    outputs = model_trained(inputs)\n",
    "    _, preds = torch.max(outputs, 1)\n",
    "    \n",
    "    label_c = np.concatenate((label_c, labels.cpu().numpy()))\n",
    "    pred_c = np.concatenate((pred_c, preds.data.cpu().numpy()))\n",
    "labels = ['0', '1'] \n",
    "evaluate(label_c, pred_c, labels, \n",
    "        save_confusion_matrix_path = 'evaluation/train_best_model.png', \n",
    "        save_classification_report_path = None,\n",
    "        )"
   ]
  },
  {
   "cell_type": "code",
   "execution_count": null,
   "id": "b3c17701",
   "metadata": {},
   "outputs": [],
   "source": [
    "pred_c = np.array([])\n",
    "label_c = np.array([])\n",
    "\n",
    "for inputs, labels in tqdm(dataloaders['validation']):\n",
    "    inputs = inputs.to(device)\n",
    "    labels = labels.to(device)\n",
    "    outputs = model_trained(inputs)\n",
    "    _, preds = torch.max(outputs, 1)\n",
    "    \n",
    "    label_c = np.concatenate((label_c, labels.cpu().numpy()))\n",
    "    pred_c = np.concatenate((pred_c, preds.data.cpu().numpy()))\n",
    "labels = ['0', '1'] \n",
    "evaluate(label_c, pred_c, labels, \n",
    "        save_confusion_matrix_path = 'evaluation/val_best_model.png', \n",
    "        save_classification_report_path = None,\n",
    "        )"
   ]
  },
  {
   "cell_type": "code",
   "execution_count": null,
   "id": "bdd3a1a5",
   "metadata": {},
   "outputs": [],
   "source": [
    "pred_c = np.array([])\n",
    "label_c = np.array([])\n",
    "\n",
    "for inputs, labels in tqdm(dataloaders['test']):\n",
    "    inputs = inputs.to(device)\n",
    "    labels = labels.to(device)\n",
    "    outputs = model_trained(inputs)\n",
    "    _, preds = torch.max(outputs, 1)\n",
    "    \n",
    "    label_c = np.concatenate((label_c, labels.cpu().numpy()))\n",
    "    pred_c = np.concatenate((pred_c, preds.data.cpu().numpy()))\n",
    "labels = ['0', '1'] \n",
    "evaluate(label_c, pred_c, labels, \n",
    "        save_confusion_matrix_path = 'evaluation/test_last_model.png', \n",
    "        save_classification_report_path = None,\n",
    "        )"
   ]
  },
  {
   "cell_type": "code",
   "execution_count": null,
   "id": "140bafa7",
   "metadata": {},
   "outputs": [],
   "source": []
  },
  {
   "cell_type": "code",
   "execution_count": null,
   "id": "c5b22294",
   "metadata": {},
   "outputs": [],
   "source": []
  },
  {
   "cell_type": "code",
   "execution_count": null,
   "id": "c0dccca1",
   "metadata": {},
   "outputs": [],
   "source": []
  },
  {
   "cell_type": "code",
   "execution_count": null,
   "id": "af04f53f",
   "metadata": {},
   "outputs": [],
   "source": []
  },
  {
   "cell_type": "code",
   "execution_count": null,
   "id": "38bd5c9b",
   "metadata": {},
   "outputs": [],
   "source": []
  },
  {
   "cell_type": "code",
   "execution_count": null,
   "id": "9f88675f",
   "metadata": {},
   "outputs": [],
   "source": []
  },
  {
   "cell_type": "code",
   "execution_count": null,
   "id": "6476895c",
   "metadata": {},
   "outputs": [],
   "source": []
  }
 ],
 "metadata": {
  "kernelspec": {
   "display_name": "Python 3 (ipykernel)",
   "language": "python",
   "name": "python3"
  },
  "language_info": {
   "codemirror_mode": {
    "name": "ipython",
    "version": 3
   },
   "file_extension": ".py",
   "mimetype": "text/x-python",
   "name": "python",
   "nbconvert_exporter": "python",
   "pygments_lexer": "ipython3",
   "version": "3.8.10"
  }
 },
 "nbformat": 4,
 "nbformat_minor": 5
}
