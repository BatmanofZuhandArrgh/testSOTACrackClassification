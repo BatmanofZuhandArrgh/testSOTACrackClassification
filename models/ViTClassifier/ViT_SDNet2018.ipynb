{
 "cells": [
  {
   "cell_type": "code",
   "execution_count": 2,
   "id": "2c117a1f",
   "metadata": {
    "execution": {
     "iopub.execute_input": "2022-06-02T02:10:27.986504Z",
     "iopub.status.busy": "2022-06-02T02:10:27.986224Z",
     "iopub.status.idle": "2022-06-02T02:10:29.259252Z",
     "shell.execute_reply": "2022-06-02T02:10:29.258625Z",
     "shell.execute_reply.started": "2022-06-02T02:10:27.986478Z"
    },
    "tags": []
   },
   "outputs": [
    {
     "data": {
      "text/plain": [
       "<torch._C.Generator at 0x7f74c16a2db0>"
      ]
     },
     "execution_count": 2,
     "metadata": {},
     "output_type": "execute_result"
    }
   ],
   "source": [
    "import warnings\n",
    "warnings.filterwarnings(\"ignore\")\n",
    "\n",
    "import os\n",
    "import glob as glob\n",
    "import random\n",
    "import cv2\n",
    "import pprint\n",
    "import numpy as np\n",
    "import pandas as pd\n",
    "import matplotlib.pyplot as plt\n",
    "from sklearn.model_selection import train_test_split\n",
    "from PIL import Image\n",
    "from sklearn.metrics import confusion_matrix, classification_report, f1_score\n",
    "from tqdm import tqdm\n",
    "\n",
    "\n",
    "import torch\n",
    "import torch.nn as nn\n",
    "import torch.optim as optim\n",
    "import torchvision.transforms.functional as F\n",
    "\n",
    "from torch.utils.data import Dataset\n",
    "from torchvision import models, transforms\n",
    "\n",
    "random.seed(0)\n",
    "torch.manual_seed(0)"
   ]
  },
  {
   "cell_type": "code",
   "execution_count": 3,
   "id": "4edd908b",
   "metadata": {
    "execution": {
     "iopub.execute_input": "2022-06-02T02:10:29.261274Z",
     "iopub.status.busy": "2022-06-02T02:10:29.260706Z",
     "iopub.status.idle": "2022-06-02T02:10:29.266106Z",
     "shell.execute_reply": "2022-06-02T02:10:29.265461Z",
     "shell.execute_reply.started": "2022-06-02T02:10:29.261240Z"
    },
    "tags": []
   },
   "outputs": [
    {
     "data": {
      "text/plain": [
       "'/home/jovyan/workspace/CrackDetection/testSOTACrackClassification/models/ViTClassifier'"
      ]
     },
     "execution_count": 3,
     "metadata": {},
     "output_type": "execute_result"
    }
   ],
   "source": [
    "os.getcwd()"
   ]
  },
  {
   "cell_type": "code",
   "execution_count": 4,
   "id": "0d7dd661",
   "metadata": {
    "execution": {
     "iopub.execute_input": "2022-06-02T02:10:30.471797Z",
     "iopub.status.busy": "2022-06-02T02:10:30.471498Z",
     "iopub.status.idle": "2022-06-02T02:10:30.632996Z",
     "shell.execute_reply": "2022-06-02T02:10:30.632403Z",
     "shell.execute_reply.started": "2022-06-02T02:10:30.471772Z"
    },
    "tags": []
   },
   "outputs": [],
   "source": [
    "# data_dir = '../../datasets/DATA_Maguire_20180517_ALL'\n",
    "data_dir = '../../../SDNET2018'\n",
    "img_list = glob.glob(f'{data_dir}/**/*.jpg', recursive=True)\n",
    "all_Y = [1 if 'U' not in x else 0 for x in img_list]\n"
   ]
  },
  {
   "cell_type": "code",
   "execution_count": 5,
   "id": "13c9dd0f",
   "metadata": {
    "execution": {
     "iopub.execute_input": "2022-06-02T02:10:31.557218Z",
     "iopub.status.busy": "2022-06-02T02:10:31.556932Z",
     "iopub.status.idle": "2022-06-02T02:10:31.796270Z",
     "shell.execute_reply": "2022-06-02T02:10:31.795630Z",
     "shell.execute_reply.started": "2022-06-02T02:10:31.557192Z"
    },
    "tags": []
   },
   "outputs": [
    {
     "name": "stdout",
     "output_type": "stream",
     "text": [
      "[0 1] [47608  8484]\n"
     ]
    },
    {
     "data": {
      "image/png": "[encoded data removed]",
      "text/plain": [
       "<Figure size 720x360 with 1 Axes>"
      ]
     },
     "metadata": {
      "needs_background": "light"
     },
     "output_type": "display_data"
    }
   ],
   "source": [
    "label_values = all_Y\n",
    "values, counts = np.unique(label_values, return_counts = True)\n",
    "\n",
    "fig = plt.figure(figsize = (10, 5))\n",
    " \n",
    "# creating the bar plot\n",
    "plt.bar(values, counts, color ='maroon',\n",
    "        width = 0.4)\n",
    "print(values, counts)\n",
    " \n",
    "plt.xlabel(\"Ratings\")\n",
    "plt.ylabel(\"Number of pads\")\n",
    "plt.title(\"Pad ratings\")\n",
    "plt.show()\n",
    "num_classes = len(values)"
   ]
  },
  {
   "cell_type": "code",
   "execution_count": 6,
   "id": "1182bbd1",
   "metadata": {
    "execution": {
     "iopub.execute_input": "2022-06-02T02:10:32.559391Z",
     "iopub.status.busy": "2022-06-02T02:10:32.559004Z",
     "iopub.status.idle": "2022-06-02T02:10:41.085436Z",
     "shell.execute_reply": "2022-06-02T02:10:41.084792Z",
     "shell.execute_reply.started": "2022-06-02T02:10:32.559352Z"
    },
    "tags": []
   },
   "outputs": [
    {
     "name": "stdout",
     "output_type": "stream",
     "text": [
      "8484 39124\n"
     ]
    }
   ],
   "source": [
    "#Sample for balance dataset:\n",
    "non_crack_img_list = [path for path, element in zip(img_list, all_Y) if element == 0]\n",
    "non_crack_to_train = random.sample(non_crack_img_list, counts[1])\n",
    "non_crack_left = [x for x in non_crack_img_list if x not in non_crack_to_train]\n",
    "print(len(non_crack_to_train), len(non_crack_left))"
   ]
  },
  {
   "cell_type": "code",
   "execution_count": 7,
   "id": "86314ea5",
   "metadata": {
    "execution": {
     "iopub.execute_input": "2022-06-02T02:10:41.087726Z",
     "iopub.status.busy": "2022-06-02T02:10:41.086478Z",
     "iopub.status.idle": "2022-06-02T02:10:41.094132Z",
     "shell.execute_reply": "2022-06-02T02:10:41.093569Z",
     "shell.execute_reply.started": "2022-06-02T02:10:41.087696Z"
    },
    "tags": []
   },
   "outputs": [
    {
     "name": "stdout",
     "output_type": "stream",
     "text": [
      "8484\n"
     ]
    }
   ],
   "source": [
    "crack_img_list = [path for path, element in zip(img_list, all_Y) if element == 1]\n",
    "print(len(crack_img_list))"
   ]
  },
  {
   "cell_type": "code",
   "execution_count": 8,
   "id": "4afb5c92",
   "metadata": {
    "execution": {
     "iopub.execute_input": "2022-06-02T02:10:42.509515Z",
     "iopub.status.busy": "2022-06-02T02:10:42.509225Z",
     "iopub.status.idle": "2022-06-02T02:10:42.516548Z",
     "shell.execute_reply": "2022-06-02T02:10:42.515865Z",
     "shell.execute_reply.started": "2022-06-02T02:10:42.509491Z"
    },
    "tags": []
   },
   "outputs": [
    {
     "name": "stdout",
     "output_type": "stream",
     "text": [
      "16968\n",
      "(array([0, 1]), array([8484, 8484]))\n"
     ]
    }
   ],
   "source": [
    "X = crack_img_list+non_crack_to_train\n",
    "print(len(X))\n",
    "y = [1 for x in range(len(crack_img_list))] + [0 for x in range(len(non_crack_to_train))]\n",
    "print(np.unique(y, return_counts=True))"
   ]
  },
  {
   "cell_type": "code",
   "execution_count": 9,
   "id": "e4ea9eed",
   "metadata": {
    "execution": {
     "iopub.execute_input": "2022-06-02T02:10:43.069957Z",
     "iopub.status.busy": "2022-06-02T02:10:43.069487Z",
     "iopub.status.idle": "2022-06-02T02:10:43.094933Z",
     "shell.execute_reply": "2022-06-02T02:10:43.094380Z",
     "shell.execute_reply.started": "2022-06-02T02:10:43.069932Z"
    },
    "tags": []
   },
   "outputs": [
    {
     "name": "stdout",
     "output_type": "stream",
     "text": [
      "10180 3394 3394\n"
     ]
    }
   ],
   "source": [
    "X_train, X_test, y_train, y_test = \\\n",
    "    train_test_split(X, y, test_size=0.2, random_state=1, stratify = y)\n",
    "\n",
    "X_train, X_val, y_train, y_val = \\\n",
    "    train_test_split(X_train, y_train, test_size=0.25, random_state=1, stratify = y_train)\n",
    "print(len(X_train), len(X_val), len(X_test))"
   ]
  },
  {
   "cell_type": "code",
   "execution_count": 10,
   "id": "e9ab995a",
   "metadata": {
    "execution": {
     "iopub.execute_input": "2022-06-02T02:10:44.449721Z",
     "iopub.status.busy": "2022-06-02T02:10:44.449428Z",
     "iopub.status.idle": "2022-06-02T02:10:44.454999Z",
     "shell.execute_reply": "2022-06-02T02:10:44.454417Z",
     "shell.execute_reply.started": "2022-06-02T02:10:44.449697Z"
    },
    "tags": []
   },
   "outputs": [],
   "source": [
    "#Adding the rest of the non-crack into y_test\n",
    "X_test.extend(non_crack_left)\n",
    "y_test.extend([0 for x in non_crack_left])"
   ]
  },
  {
   "cell_type": "code",
   "execution_count": 11,
   "id": "ff2d9122",
   "metadata": {
    "execution": {
     "iopub.execute_input": "2022-06-02T02:10:45.149936Z",
     "iopub.status.busy": "2022-06-02T02:10:45.149627Z",
     "iopub.status.idle": "2022-06-02T02:10:45.158382Z",
     "shell.execute_reply": "2022-06-02T02:10:45.157675Z",
     "shell.execute_reply.started": "2022-06-02T02:10:45.149910Z"
    },
    "tags": []
   },
   "outputs": [],
   "source": [
    "#create dataset from dataframe\n",
    "class CrackDataset(Dataset):\n",
    "    def __init__(self, X, y, transforms=None):\n",
    "        self.X = X\n",
    "        self.y = y\n",
    "        self.transforms = transforms\n",
    "\n",
    "    def __len__(self):\n",
    "        return len(self.X)\n",
    "\n",
    "    def __getitem__(self, idx):\n",
    "        label = torch.tensor(self.y[idx],dtype=torch.long)\n",
    "        \n",
    "        img_path = self.X[idx]\n",
    "        \n",
    "        img = cv2.imread(img_path)\n",
    "        img = cv2.cvtColor(img, cv2.COLOR_BGR2RGB)\n",
    "        \n",
    "        if(img.shape[:2] != (224,224)):\n",
    "            img = cv2.resize(img,(224,224))\n",
    "        \n",
    "        img = Image.fromarray(np.uint8(img)).convert('RGB')\n",
    "\n",
    "        if self.transforms is not None:\n",
    "            img = self.transforms(img)\n",
    "            \n",
    "        return img, label"
   ]
  },
  {
   "cell_type": "code",
   "execution_count": 12,
   "id": "d03e559c",
   "metadata": {
    "execution": {
     "iopub.execute_input": "2022-06-02T02:10:57.014556Z",
     "iopub.status.busy": "2022-06-02T02:10:57.014244Z",
     "iopub.status.idle": "2022-06-02T02:10:57.024700Z",
     "shell.execute_reply": "2022-06-02T02:10:57.024118Z",
     "shell.execute_reply.started": "2022-06-02T02:10:57.014531Z"
    },
    "tags": []
   },
   "outputs": [
    {
     "name": "stdout",
     "output_type": "stream",
     "text": [
      "cuda:0\n"
     ]
    }
   ],
   "source": [
    "from sklearn.model_selection import train_test_split  \n",
    "\n",
    "device = torch.device(\"cuda:0\" if torch.cuda.is_available() else \"cpu\")\n",
    "print(device)\n",
    "\n",
    "normalize = transforms.Normalize(mean=[0.485, 0.456, 0.406],\n",
    "                                 std=[0.229, 0.224, 0.225])\n",
    "\n",
    "data_transforms = {\n",
    "    'train':\n",
    "    transforms.Compose([\n",
    "        transforms.Resize((224,224)),\n",
    "        transforms.RandomHorizontalFlip(),\n",
    "        transforms.RandomVerticalFlip(),\n",
    "        transforms.RandomAdjustSharpness(sharpness_factor=2),\n",
    "        transforms.RandomAutocontrast(),\n",
    "        transforms.ToTensor(),\n",
    "        normalize\n",
    "    ]),\n",
    "    'validation':\n",
    "    transforms.Compose([\n",
    "        transforms.Resize((224,224)),\n",
    "        transforms.ToTensor(),\n",
    "        normalize\n",
    "    ]),\n",
    "}\n",
    "\n",
    "#load data from a list of paths\n",
    "image_datasets = {\n",
    "'train': \n",
    "CrackDataset(X_train, y_train, transforms=data_transforms['train']),\n",
    "'validation': \n",
    "CrackDataset(X_val, y_val, transforms=data_transforms['validation']),\n",
    "'test': \n",
    "CrackDataset(X_test, y_test, transforms=data_transforms['validation']),\n",
    "'full':\n",
    "CrackDataset(X_train + X_val + X_test, y_train + y_val + y_test, transforms=data_transforms['validation']),\n",
    "}\n",
    "\n",
    "batch_size = 512\n",
    "num_workers = 4\n",
    "dataloaders = {\n",
    "    'train':\n",
    "    torch.utils.data.DataLoader(image_datasets['train'],\n",
    "                                batch_size=batch_size,\n",
    "                                shuffle=True,\n",
    "                                num_workers=num_workers),\n",
    "    'validation':\n",
    "    torch.utils.data.DataLoader(image_datasets['validation'],\n",
    "                                batch_size=batch_size,\n",
    "                                shuffle=False,\n",
    "                                num_workers=num_workers),\n",
    "    'test':\n",
    "    torch.utils.data.DataLoader(image_datasets['test'],\n",
    "                                batch_size=batch_size,\n",
    "                                shuffle=False,\n",
    "                                num_workers=num_workers),\n",
    "    'full':\n",
    "    torch.utils.data.DataLoader(image_datasets['full'],\n",
    "                                batch_size=batch_size,\n",
    "                                shuffle=False,\n",
    "                                num_workers=num_workers)\n",
    "}\n",
    "\n"
   ]
  },
  {
   "cell_type": "code",
   "execution_count": 12,
   "id": "f8e8fb87",
   "metadata": {
    "execution": {
     "iopub.execute_input": "2022-06-02T02:11:01.567040Z",
     "iopub.status.busy": "2022-06-02T02:11:01.566738Z",
     "iopub.status.idle": "2022-06-02T02:11:07.732866Z",
     "shell.execute_reply": "2022-06-02T02:11:07.732331Z",
     "shell.execute_reply.started": "2022-06-02T02:11:01.567016Z"
    },
    "tags": []
   },
   "outputs": [],
   "source": [
    "#Model define\n",
    "model = models.vit_b_16(pretrained=True, progress=False).to(device)\n"
   ]
  },
  {
   "cell_type": "code",
   "execution_count": 13,
   "id": "9cdac671",
   "metadata": {
    "execution": {
     "iopub.execute_input": "2022-06-02T02:11:09.105569Z",
     "iopub.status.busy": "2022-06-02T02:11:09.105274Z",
     "iopub.status.idle": "2022-06-02T02:11:09.114318Z",
     "shell.execute_reply": "2022-06-02T02:11:09.113606Z",
     "shell.execute_reply.started": "2022-06-02T02:11:09.105545Z"
    },
    "tags": []
   },
   "outputs": [
    {
     "data": {
      "text/plain": [
       "VisionTransformer(\n",
       "  (conv_proj): Conv2d(3, 768, kernel_size=(16, 16), stride=(16, 16))\n",
       "  (encoder): Encoder(\n",
       "    (dropout): Dropout(p=0.0, inplace=False)\n",
       "    (layers): Sequential(\n",
       "      (encoder_layer_0): EncoderBlock(\n",
       "        (ln_1): LayerNorm((768,), eps=1e-06, elementwise_affine=True)\n",
       "        (self_attention): MultiheadAttention(\n",
       "          (out_proj): NonDynamicallyQuantizableLinear(in_features=768, out_features=768, bias=True)\n",
       "        )\n",
       "        (dropout): Dropout(p=0.0, inplace=False)\n",
       "        (ln_2): LayerNorm((768,), eps=1e-06, elementwise_affine=True)\n",
       "        (mlp): MLPBlock(\n",
       "          (linear_1): Linear(in_features=768, out_features=3072, bias=True)\n",
       "          (act): GELU()\n",
       "          (dropout_1): Dropout(p=0.0, inplace=False)\n",
       "          (linear_2): Linear(in_features=3072, out_features=768, bias=True)\n",
       "          (dropout_2): Dropout(p=0.0, inplace=False)\n",
       "        )\n",
       "      )\n",
       "      (encoder_layer_1): EncoderBlock(\n",
       "        (ln_1): LayerNorm((768,), eps=1e-06, elementwise_affine=True)\n",
       "        (self_attention): MultiheadAttention(\n",
       "          (out_proj): NonDynamicallyQuantizableLinear(in_features=768, out_features=768, bias=True)\n",
       "        )\n",
       "        (dropout): Dropout(p=0.0, inplace=False)\n",
       "        (ln_2): LayerNorm((768,), eps=1e-06, elementwise_affine=True)\n",
       "        (mlp): MLPBlock(\n",
       "          (linear_1): Linear(in_features=768, out_features=3072, bias=True)\n",
       "          (act): GELU()\n",
       "          (dropout_1): Dropout(p=0.0, inplace=False)\n",
       "          (linear_2): Linear(in_features=3072, out_features=768, bias=True)\n",
       "          (dropout_2): Dropout(p=0.0, inplace=False)\n",
       "        )\n",
       "      )\n",
       "      (encoder_layer_2): EncoderBlock(\n",
       "        (ln_1): LayerNorm((768,), eps=1e-06, elementwise_affine=True)\n",
       "        (self_attention): MultiheadAttention(\n",
       "          (out_proj): NonDynamicallyQuantizableLinear(in_features=768, out_features=768, bias=True)\n",
       "        )\n",
       "        (dropout): Dropout(p=0.0, inplace=False)\n",
       "        (ln_2): LayerNorm((768,), eps=1e-06, elementwise_affine=True)\n",
       "        (mlp): MLPBlock(\n",
       "          (linear_1): Linear(in_features=768, out_features=3072, bias=True)\n",
       "          (act): GELU()\n",
       "          (dropout_1): Dropout(p=0.0, inplace=False)\n",
       "          (linear_2): Linear(in_features=3072, out_features=768, bias=True)\n",
       "          (dropout_2): Dropout(p=0.0, inplace=False)\n",
       "        )\n",
       "      )\n",
       "      (encoder_layer_3): EncoderBlock(\n",
       "        (ln_1): LayerNorm((768,), eps=1e-06, elementwise_affine=True)\n",
       "        (self_attention): MultiheadAttention(\n",
       "          (out_proj): NonDynamicallyQuantizableLinear(in_features=768, out_features=768, bias=True)\n",
       "        )\n",
       "        (dropout): Dropout(p=0.0, inplace=False)\n",
       "        (ln_2): LayerNorm((768,), eps=1e-06, elementwise_affine=True)\n",
       "        (mlp): MLPBlock(\n",
       "          (linear_1): Linear(in_features=768, out_features=3072, bias=True)\n",
       "          (act): GELU()\n",
       "          (dropout_1): Dropout(p=0.0, inplace=False)\n",
       "          (linear_2): Linear(in_features=3072, out_features=768, bias=True)\n",
       "          (dropout_2): Dropout(p=0.0, inplace=False)\n",
       "        )\n",
       "      )\n",
       "      (encoder_layer_4): EncoderBlock(\n",
       "        (ln_1): LayerNorm((768,), eps=1e-06, elementwise_affine=True)\n",
       "        (self_attention): MultiheadAttention(\n",
       "          (out_proj): NonDynamicallyQuantizableLinear(in_features=768, out_features=768, bias=True)\n",
       "        )\n",
       "        (dropout): Dropout(p=0.0, inplace=False)\n",
       "        (ln_2): LayerNorm((768,), eps=1e-06, elementwise_affine=True)\n",
       "        (mlp): MLPBlock(\n",
       "          (linear_1): Linear(in_features=768, out_features=3072, bias=True)\n",
       "          (act): GELU()\n",
       "          (dropout_1): Dropout(p=0.0, inplace=False)\n",
       "          (linear_2): Linear(in_features=3072, out_features=768, bias=True)\n",
       "          (dropout_2): Dropout(p=0.0, inplace=False)\n",
       "        )\n",
       "      )\n",
       "      (encoder_layer_5): EncoderBlock(\n",
       "        (ln_1): LayerNorm((768,), eps=1e-06, elementwise_affine=True)\n",
       "        (self_attention): MultiheadAttention(\n",
       "          (out_proj): NonDynamicallyQuantizableLinear(in_features=768, out_features=768, bias=True)\n",
       "        )\n",
       "        (dropout): Dropout(p=0.0, inplace=False)\n",
       "        (ln_2): LayerNorm((768,), eps=1e-06, elementwise_affine=True)\n",
       "        (mlp): MLPBlock(\n",
       "          (linear_1): Linear(in_features=768, out_features=3072, bias=True)\n",
       "          (act): GELU()\n",
       "          (dropout_1): Dropout(p=0.0, inplace=False)\n",
       "          (linear_2): Linear(in_features=3072, out_features=768, bias=True)\n",
       "          (dropout_2): Dropout(p=0.0, inplace=False)\n",
       "        )\n",
       "      )\n",
       "      (encoder_layer_6): EncoderBlock(\n",
       "        (ln_1): LayerNorm((768,), eps=1e-06, elementwise_affine=True)\n",
       "        (self_attention): MultiheadAttention(\n",
       "          (out_proj): NonDynamicallyQuantizableLinear(in_features=768, out_features=768, bias=True)\n",
       "        )\n",
       "        (dropout): Dropout(p=0.0, inplace=False)\n",
       "        (ln_2): LayerNorm((768,), eps=1e-06, elementwise_affine=True)\n",
       "        (mlp): MLPBlock(\n",
       "          (linear_1): Linear(in_features=768, out_features=3072, bias=True)\n",
       "          (act): GELU()\n",
       "          (dropout_1): Dropout(p=0.0, inplace=False)\n",
       "          (linear_2): Linear(in_features=3072, out_features=768, bias=True)\n",
       "          (dropout_2): Dropout(p=0.0, inplace=False)\n",
       "        )\n",
       "      )\n",
       "      (encoder_layer_7): EncoderBlock(\n",
       "        (ln_1): LayerNorm((768,), eps=1e-06, elementwise_affine=True)\n",
       "        (self_attention): MultiheadAttention(\n",
       "          (out_proj): NonDynamicallyQuantizableLinear(in_features=768, out_features=768, bias=True)\n",
       "        )\n",
       "        (dropout): Dropout(p=0.0, inplace=False)\n",
       "        (ln_2): LayerNorm((768,), eps=1e-06, elementwise_affine=True)\n",
       "        (mlp): MLPBlock(\n",
       "          (linear_1): Linear(in_features=768, out_features=3072, bias=True)\n",
       "          (act): GELU()\n",
       "          (dropout_1): Dropout(p=0.0, inplace=False)\n",
       "          (linear_2): Linear(in_features=3072, out_features=768, bias=True)\n",
       "          (dropout_2): Dropout(p=0.0, inplace=False)\n",
       "        )\n",
       "      )\n",
       "      (encoder_layer_8): EncoderBlock(\n",
       "        (ln_1): LayerNorm((768,), eps=1e-06, elementwise_affine=True)\n",
       "        (self_attention): MultiheadAttention(\n",
       "          (out_proj): NonDynamicallyQuantizableLinear(in_features=768, out_features=768, bias=True)\n",
       "        )\n",
       "        (dropout): Dropout(p=0.0, inplace=False)\n",
       "        (ln_2): LayerNorm((768,), eps=1e-06, elementwise_affine=True)\n",
       "        (mlp): MLPBlock(\n",
       "          (linear_1): Linear(in_features=768, out_features=3072, bias=True)\n",
       "          (act): GELU()\n",
       "          (dropout_1): Dropout(p=0.0, inplace=False)\n",
       "          (linear_2): Linear(in_features=3072, out_features=768, bias=True)\n",
       "          (dropout_2): Dropout(p=0.0, inplace=False)\n",
       "        )\n",
       "      )\n",
       "      (encoder_layer_9): EncoderBlock(\n",
       "        (ln_1): LayerNorm((768,), eps=1e-06, elementwise_affine=True)\n",
       "        (self_attention): MultiheadAttention(\n",
       "          (out_proj): NonDynamicallyQuantizableLinear(in_features=768, out_features=768, bias=True)\n",
       "        )\n",
       "        (dropout): Dropout(p=0.0, inplace=False)\n",
       "        (ln_2): LayerNorm((768,), eps=1e-06, elementwise_affine=True)\n",
       "        (mlp): MLPBlock(\n",
       "          (linear_1): Linear(in_features=768, out_features=3072, bias=True)\n",
       "          (act): GELU()\n",
       "          (dropout_1): Dropout(p=0.0, inplace=False)\n",
       "          (linear_2): Linear(in_features=3072, out_features=768, bias=True)\n",
       "          (dropout_2): Dropout(p=0.0, inplace=False)\n",
       "        )\n",
       "      )\n",
       "      (encoder_layer_10): EncoderBlock(\n",
       "        (ln_1): LayerNorm((768,), eps=1e-06, elementwise_affine=True)\n",
       "        (self_attention): MultiheadAttention(\n",
       "          (out_proj): NonDynamicallyQuantizableLinear(in_features=768, out_features=768, bias=True)\n",
       "        )\n",
       "        (dropout): Dropout(p=0.0, inplace=False)\n",
       "        (ln_2): LayerNorm((768,), eps=1e-06, elementwise_affine=True)\n",
       "        (mlp): MLPBlock(\n",
       "          (linear_1): Linear(in_features=768, out_features=3072, bias=True)\n",
       "          (act): GELU()\n",
       "          (dropout_1): Dropout(p=0.0, inplace=False)\n",
       "          (linear_2): Linear(in_features=3072, out_features=768, bias=True)\n",
       "          (dropout_2): Dropout(p=0.0, inplace=False)\n",
       "        )\n",
       "      )\n",
       "      (encoder_layer_11): EncoderBlock(\n",
       "        (ln_1): LayerNorm((768,), eps=1e-06, elementwise_affine=True)\n",
       "        (self_attention): MultiheadAttention(\n",
       "          (out_proj): NonDynamicallyQuantizableLinear(in_features=768, out_features=768, bias=True)\n",
       "        )\n",
       "        (dropout): Dropout(p=0.0, inplace=False)\n",
       "        (ln_2): LayerNorm((768,), eps=1e-06, elementwise_affine=True)\n",
       "        (mlp): MLPBlock(\n",
       "          (linear_1): Linear(in_features=768, out_features=3072, bias=True)\n",
       "          (act): GELU()\n",
       "          (dropout_1): Dropout(p=0.0, inplace=False)\n",
       "          (linear_2): Linear(in_features=3072, out_features=768, bias=True)\n",
       "          (dropout_2): Dropout(p=0.0, inplace=False)\n",
       "        )\n",
       "      )\n",
       "    )\n",
       "    (ln): LayerNorm((768,), eps=1e-06, elementwise_affine=True)\n",
       "  )\n",
       "  (heads): Sequential(\n",
       "    (0): Linear(in_features=768, out_features=2, bias=True)\n",
       "  )\n",
       ")"
      ]
     },
     "execution_count": 13,
     "metadata": {},
     "output_type": "execute_result"
    }
   ],
   "source": [
    "for param in model.parameters():\n",
    "    param.requires_grad = False   \n",
    "\n",
    "num_classes = 2\n",
    "model.heads = nn.Sequential(\n",
    "\n",
    "               nn.Linear(model.heads.head.in_features, num_classes),\n",
    "\n",
    "               ).to(device)\n",
    "\n",
    "model"
   ]
  },
  {
   "cell_type": "code",
   "execution_count": 14,
   "id": "83321330",
   "metadata": {
    "execution": {
     "iopub.execute_input": "2022-06-02T02:11:14.896168Z",
     "iopub.status.busy": "2022-06-02T02:11:14.895864Z",
     "iopub.status.idle": "2022-06-02T02:11:14.899211Z",
     "shell.execute_reply": "2022-06-02T02:11:14.898476Z",
     "shell.execute_reply.started": "2022-06-02T02:11:14.896142Z"
    },
    "tags": []
   },
   "outputs": [],
   "source": [
    "# #Naive class weights\n",
    "# from sklearn.utils import class_weight\n",
    "# class_weights_array = class_weight.compute_class_weight('balanced', classes = np.unique(np.asarray(labels)), y = np.asarray(labels))\n",
    "# class_weights = torch.from_numpy(class_weights_array)\n",
    "# class_weights = torch.tensor(class_weights, dtype = torch.float32).to(device)\n",
    "# print('class_weight_array',class_weights)"
   ]
  },
  {
   "cell_type": "code",
   "execution_count": 15,
   "id": "99925f3c",
   "metadata": {
    "execution": {
     "iopub.execute_input": "2022-06-02T02:11:15.428316Z",
     "iopub.status.busy": "2022-06-02T02:11:15.428028Z",
     "iopub.status.idle": "2022-06-02T02:11:15.432628Z",
     "shell.execute_reply": "2022-06-02T02:11:15.431994Z",
     "shell.execute_reply.started": "2022-06-02T02:11:15.428288Z"
    },
    "tags": []
   },
   "outputs": [
    {
     "data": {
      "text/plain": [
       "'/home/jovyan/workspace/CrackDetection/testSOTACrackClassification/models/ViTClassifier'"
      ]
     },
     "execution_count": 15,
     "metadata": {},
     "output_type": "execute_result"
    }
   ],
   "source": [
    "os.getcwd()"
   ]
  },
  {
   "cell_type": "code",
   "execution_count": 13,
   "id": "32c1a3f6",
   "metadata": {
    "execution": {
     "iopub.execute_input": "2022-06-02T02:11:16.510443Z",
     "iopub.status.busy": "2022-06-02T02:11:16.510152Z",
     "iopub.status.idle": "2022-06-02T02:11:16.513728Z",
     "shell.execute_reply": "2022-06-02T02:11:16.513060Z",
     "shell.execute_reply.started": "2022-06-02T02:11:16.510419Z"
    },
    "tags": []
   },
   "outputs": [],
   "source": [
    "model_save_path = \"weights\"\n",
    "os.makedirs(model_save_path, exist_ok = True)"
   ]
  },
  {
   "cell_type": "code",
   "execution_count": 17,
   "id": "2236c446",
   "metadata": {
    "execution": {
     "iopub.execute_input": "2022-06-02T02:11:17.236890Z",
     "iopub.status.busy": "2022-06-02T02:11:17.236609Z",
     "iopub.status.idle": "2022-06-02T02:11:17.250538Z",
     "shell.execute_reply": "2022-06-02T02:11:17.249941Z",
     "shell.execute_reply.started": "2022-06-02T02:11:17.236866Z"
    },
    "tags": []
   },
   "outputs": [],
   "source": [
    "criterion = nn.CrossEntropyLoss()#weight = class_weights)\n",
    "lr=0.01\n",
    "optimizer = optim.Adam(model.heads.parameters(), lr = lr)\n",
    "f1_diff_threshold = 0.0005\n",
    "patience = 15\n",
    "num_epochs = 300\n",
    "run_name = model_save_path.split('/')[-1]\n",
    "scheduler = optim.lr_scheduler.ReduceLROnPlateau(optimizer, 'min', patience = 8, verbose = True)\n",
    "\n",
    "def train_model(model, \n",
    "                criterion, \n",
    "                optimizer, \n",
    "                num_epochs=3, \n",
    "                f1_diff_threshold = f1_diff_threshold, \n",
    "                patience = patience, \n",
    "                model_save_path = model_save_path,\n",
    "                run_name = run_name,\n",
    "               ):\n",
    "    validation_f1s = []\n",
    "    max_f1_index = 0\n",
    "    num_epochs_not_improving = 0\n",
    "    metrics = {\n",
    "        'validation_f1s': [], \n",
    "        'validation_accs': [],\n",
    "        'validation_loss': [],\n",
    "        'training_f1s': [], \n",
    "        'training_accs': [], \n",
    "        'training_loss': [],\n",
    "    }\n",
    "\n",
    "    for epoch in range(num_epochs):\n",
    "        print('Epoch {}/{}'.format(epoch, num_epochs))\n",
    "        print('-' * 10)\n",
    "\n",
    "        for phase in ['train', 'validation']:\n",
    "            if phase == 'train':\n",
    "                model.train()\n",
    "            else:\n",
    "                model.eval()\n",
    "\n",
    "            running_loss = 0.0\n",
    "            running_corrects = 0\n",
    "\n",
    "            pred_c = np.array([])\n",
    "            label_c = np.array([])\n",
    "\n",
    "            print(phase, ':')\n",
    "\n",
    "            for inputs, labels in tqdm(dataloaders[phase]):                \n",
    "                inputs = inputs.to(device)\n",
    "                labels = labels.to(device)\n",
    "                optimizer.zero_grad()\n",
    "\n",
    "                outputs = model(inputs)\n",
    "                loss = criterion(outputs, labels)\n",
    "#                     loss = CB_loss(labels, logits, samples_per_cls, no_of_classes,loss_type, beta, gamma)\n",
    "\n",
    "                if phase == 'train':\n",
    "                    loss.backward()\n",
    "                    optimizer.step()\n",
    "\n",
    "                _, preds = torch.max(outputs, 1)\n",
    "                running_loss += loss.item() * inputs.size(0)\n",
    "                running_corrects += torch.sum(preds == labels.data)\n",
    "\n",
    "                label_c = np.concatenate((label_c, labels.data.cpu().numpy()))\n",
    "                pred_c = np.concatenate((pred_c, preds.cpu().numpy()))\n",
    "            f1 = f1_score(y_true = label_c, y_pred = pred_c, average = 'micro')\n",
    "            epoch_loss = running_loss / len(image_datasets[phase])\n",
    "            epoch_acc = (running_corrects*1.0) / len(image_datasets[phase])\n",
    "\n",
    "\n",
    "            if phase == 'validation':\n",
    "                cf = confusion_matrix(label_c, pred_c)\n",
    "                print(cf)\n",
    "\n",
    "                validation_f1s.append(f1)\n",
    "                metrics['validation_f1s'].append(f1)\n",
    "                metrics['validation_accs'].append(float(epoch_acc))\n",
    "                metrics['validation_loss'].append(epoch_loss)\n",
    "\n",
    "                if f1 - validation_f1s[max_f1_index] > f1_diff_threshold:\n",
    "                    max_f1_index = len(validation_f1s) - 1\n",
    "                    num_epochs_not_improving = 0\n",
    "\n",
    "                    # Save model\n",
    "                    print(f\"Saving model at epoch {epoch}\")\n",
    "                    torch.save(model, f'{model_save_path}/best_model_epoch{epoch}.pth')\n",
    "\n",
    "                elif f1 - validation_f1s[max_f1_index] <= f1_diff_threshold:\n",
    "                    num_epochs_not_improving += 1\n",
    "                    if(num_epochs_not_improving > patience):\n",
    "                        torch.save(model, f'{model_save_path}/last_model.pth')\n",
    "                        print(f'Early Stopping at epoch {epoch} ')\n",
    "                        return model\n",
    "                \n",
    "                if epoch == 0:\n",
    "                    print(f\"Saving model at epoch {epoch}\")\n",
    "                    torch.save(model, f'{model_save_path}/best_model_epoch{epoch}.pth')\n",
    "\n",
    "            elif phase == 'train':\n",
    "                metrics['training_f1s'].append(f1)\n",
    "                metrics['training_accs'].append(float(epoch_acc))\n",
    "                metrics['training_loss'].append(epoch_loss)\n",
    "                scheduler.step(epoch_loss)\n",
    "\n",
    "            print('{} loss: {:.4f}, acc: {:.4f}, f1: {:.4f}'.format(phase,\n",
    "                                                                    epoch_loss,\n",
    "                                                                    epoch_acc, \n",
    "                                                                    f1))\n",
    "\n",
    "    torch.save(model, f'{model_save_path}/last_model.pth')\n",
    "    print(f'Ran all {num_epochs} epochs')\n",
    "    return model, metrics\n",
    "\n"
   ]
  },
  {
   "cell_type": "code",
   "execution_count": 18,
   "id": "1de48d5d",
   "metadata": {
    "execution": {
     "iopub.execute_input": "2022-06-02T02:11:19.592961Z",
     "iopub.status.busy": "2022-06-02T02:11:19.592666Z"
    },
    "scrolled": true,
    "tags": []
   },
   "outputs": [
    {
     "name": "stdout",
     "output_type": "stream",
     "text": [
      "Epoch 1/300\n",
      "----------\n",
      "train :\n"
     ]
    },
    {
     "name": "stderr",
     "output_type": "stream",
     "text": [
      "100%|██████████| 20/20 [02:22<00:00,  7.11s/it]\n"
     ]
    },
    {
     "name": "stdout",
     "output_type": "stream",
     "text": [
      "train loss: 0.5135, acc: 0.7512, f1: 0.7512\n",
      "validation :\n"
     ]
    },
    {
     "name": "stderr",
     "output_type": "stream",
     "text": [
      "100%|██████████| 7/7 [00:50<00:00,  7.20s/it]\n"
     ]
    },
    {
     "name": "stdout",
     "output_type": "stream",
     "text": [
      "[[1591  106]\n",
      " [ 483 1214]]\n",
      "Saving model at epoch 0\n",
      "validation loss: 0.4070, acc: 0.8265, f1: 0.8265\n",
      "Epoch 2/300\n",
      "----------\n",
      "train :\n"
     ]
    },
    {
     "name": "stderr",
     "output_type": "stream",
     "text": [
      "100%|██████████| 20/20 [02:30<00:00,  7.52s/it]\n"
     ]
    },
    {
     "name": "stdout",
     "output_type": "stream",
     "text": [
      "train loss: 0.3945, acc: 0.8253, f1: 0.8253\n",
      "validation :\n"
     ]
    },
    {
     "name": "stderr",
     "output_type": "stream",
     "text": [
      "100%|██████████| 7/7 [00:50<00:00,  7.18s/it]\n"
     ]
    },
    {
     "name": "stdout",
     "output_type": "stream",
     "text": [
      "[[1442  255]\n",
      " [ 295 1402]]\n",
      "Saving model at epoch 1\n",
      "validation loss: 0.3559, acc: 0.8379, f1: 0.8379\n",
      "Epoch 3/300\n",
      "----------\n",
      "train :\n"
     ]
    },
    {
     "name": "stderr",
     "output_type": "stream",
     "text": [
      "100%|██████████| 20/20 [02:29<00:00,  7.48s/it]\n"
     ]
    },
    {
     "name": "stdout",
     "output_type": "stream",
     "text": [
      "train loss: 0.3752, acc: 0.8307, f1: 0.8307\n",
      "validation :\n"
     ]
    },
    {
     "name": "stderr",
     "output_type": "stream",
     "text": [
      "100%|██████████| 7/7 [00:51<00:00,  7.38s/it]\n"
     ]
    },
    {
     "name": "stdout",
     "output_type": "stream",
     "text": [
      "[[1456  241]\n",
      " [ 313 1384]]\n",
      "validation loss: 0.3532, acc: 0.8368, f1: 0.8368\n",
      "Epoch 4/300\n",
      "----------\n",
      "train :\n"
     ]
    },
    {
     "name": "stderr",
     "output_type": "stream",
     "text": [
      "100%|██████████| 20/20 [02:28<00:00,  7.43s/it]\n"
     ]
    },
    {
     "name": "stdout",
     "output_type": "stream",
     "text": [
      "train loss: 0.3610, acc: 0.8404, f1: 0.8404\n",
      "validation :\n"
     ]
    },
    {
     "name": "stderr",
     "output_type": "stream",
     "text": [
      "100%|██████████| 7/7 [00:50<00:00,  7.23s/it]\n"
     ]
    },
    {
     "name": "stdout",
     "output_type": "stream",
     "text": [
      "[[1551  146]\n",
      " [ 363 1334]]\n",
      "Saving model at epoch 3\n",
      "validation loss: 0.3484, acc: 0.8500, f1: 0.8500\n",
      "Epoch 5/300\n",
      "----------\n",
      "train :\n"
     ]
    },
    {
     "name": "stderr",
     "output_type": "stream",
     "text": [
      "100%|██████████| 20/20 [02:28<00:00,  7.41s/it]\n"
     ]
    },
    {
     "name": "stdout",
     "output_type": "stream",
     "text": [
      "train loss: 0.3542, acc: 0.8427, f1: 0.8427\n",
      "validation :\n"
     ]
    },
    {
     "name": "stderr",
     "output_type": "stream",
     "text": [
      "100%|██████████| 7/7 [00:50<00:00,  7.27s/it]\n"
     ]
    },
    {
     "name": "stdout",
     "output_type": "stream",
     "text": [
      "[[1535  162]\n",
      " [ 340 1357]]\n",
      "Saving model at epoch 4\n",
      "validation loss: 0.3363, acc: 0.8521, f1: 0.8521\n",
      "Epoch 6/300\n",
      "----------\n",
      "train :\n"
     ]
    },
    {
     "name": "stderr",
     "output_type": "stream",
     "text": [
      "100%|██████████| 20/20 [02:26<00:00,  7.34s/it]\n"
     ]
    },
    {
     "name": "stdout",
     "output_type": "stream",
     "text": [
      "train loss: 0.3495, acc: 0.8445, f1: 0.8445\n",
      "validation :\n"
     ]
    },
    {
     "name": "stderr",
     "output_type": "stream",
     "text": [
      "100%|██████████| 7/7 [00:51<00:00,  7.34s/it]\n"
     ]
    },
    {
     "name": "stdout",
     "output_type": "stream",
     "text": [
      "[[1481  216]\n",
      " [ 293 1404]]\n",
      "validation loss: 0.3369, acc: 0.8500, f1: 0.8500\n",
      "Epoch 7/300\n",
      "----------\n",
      "train :\n"
     ]
    },
    {
     "name": "stderr",
     "output_type": "stream",
     "text": [
      "100%|██████████| 20/20 [02:29<00:00,  7.46s/it]\n"
     ]
    },
    {
     "name": "stdout",
     "output_type": "stream",
     "text": [
      "train loss: 0.3466, acc: 0.8472, f1: 0.8472\n",
      "validation :\n"
     ]
    },
    {
     "name": "stderr",
     "output_type": "stream",
     "text": [
      "100%|██████████| 7/7 [00:51<00:00,  7.35s/it]\n"
     ]
    },
    {
     "name": "stdout",
     "output_type": "stream",
     "text": [
      "[[1581  116]\n",
      " [ 395 1302]]\n",
      "validation loss: 0.3395, acc: 0.8494, f1: 0.8494\n",
      "Epoch 8/300\n",
      "----------\n",
      "train :\n"
     ]
    },
    {
     "name": "stderr",
     "output_type": "stream",
     "text": [
      "100%|██████████| 20/20 [02:28<00:00,  7.44s/it]\n"
     ]
    },
    {
     "name": "stdout",
     "output_type": "stream",
     "text": [
      "train loss: 0.3450, acc: 0.8494, f1: 0.8494\n",
      "validation :\n"
     ]
    },
    {
     "name": "stderr",
     "output_type": "stream",
     "text": [
      "100%|██████████| 7/7 [00:52<00:00,  7.43s/it]\n"
     ]
    },
    {
     "name": "stdout",
     "output_type": "stream",
     "text": [
      "[[1594  103]\n",
      " [ 412 1285]]\n",
      "validation loss: 0.3398, acc: 0.8483, f1: 0.8483\n",
      "Epoch 9/300\n",
      "----------\n",
      "train :\n"
     ]
    },
    {
     "name": "stderr",
     "output_type": "stream",
     "text": [
      "100%|██████████| 20/20 [02:28<00:00,  7.41s/it]\n"
     ]
    },
    {
     "name": "stdout",
     "output_type": "stream",
     "text": [
      "train loss: 0.3412, acc: 0.8490, f1: 0.8490\n",
      "validation :\n"
     ]
    },
    {
     "name": "stderr",
     "output_type": "stream",
     "text": [
      "100%|██████████| 7/7 [00:50<00:00,  7.17s/it]\n"
     ]
    },
    {
     "name": "stdout",
     "output_type": "stream",
     "text": [
      "[[1591  106]\n",
      " [ 405 1292]]\n",
      "validation loss: 0.3369, acc: 0.8494, f1: 0.8494\n",
      "Epoch 10/300\n",
      "----------\n",
      "train :\n"
     ]
    },
    {
     "name": "stderr",
     "output_type": "stream",
     "text": [
      "100%|██████████| 20/20 [02:29<00:00,  7.47s/it]\n"
     ]
    },
    {
     "name": "stdout",
     "output_type": "stream",
     "text": [
      "train loss: 0.3394, acc: 0.8488, f1: 0.8488\n",
      "validation :\n"
     ]
    },
    {
     "name": "stderr",
     "output_type": "stream",
     "text": [
      "100%|██████████| 7/7 [00:51<00:00,  7.39s/it]\n"
     ]
    },
    {
     "name": "stdout",
     "output_type": "stream",
     "text": [
      "[[1599   98]\n",
      " [ 419 1278]]\n",
      "validation loss: 0.3438, acc: 0.8477, f1: 0.8477\n",
      "Epoch 11/300\n",
      "----------\n",
      "train :\n"
     ]
    },
    {
     "name": "stderr",
     "output_type": "stream",
     "text": [
      "100%|██████████| 20/20 [02:29<00:00,  7.48s/it]\n"
     ]
    },
    {
     "name": "stdout",
     "output_type": "stream",
     "text": [
      "train loss: 0.3403, acc: 0.8493, f1: 0.8493\n",
      "validation :\n"
     ]
    },
    {
     "name": "stderr",
     "output_type": "stream",
     "text": [
      "100%|██████████| 7/7 [00:51<00:00,  7.33s/it]\n"
     ]
    },
    {
     "name": "stdout",
     "output_type": "stream",
     "text": [
      "[[1544  153]\n",
      " [ 337 1360]]\n",
      "Saving model at epoch 10\n",
      "validation loss: 0.3296, acc: 0.8556, f1: 0.8556\n",
      "Epoch 12/300\n",
      "----------\n",
      "train :\n"
     ]
    },
    {
     "name": "stderr",
     "output_type": "stream",
     "text": [
      "100%|██████████| 20/20 [02:29<00:00,  7.46s/it]\n"
     ]
    },
    {
     "name": "stdout",
     "output_type": "stream",
     "text": [
      "train loss: 0.3443, acc: 0.8466, f1: 0.8466\n",
      "validation :\n"
     ]
    },
    {
     "name": "stderr",
     "output_type": "stream",
     "text": [
      "100%|██████████| 7/7 [00:51<00:00,  7.30s/it]\n"
     ]
    },
    {
     "name": "stdout",
     "output_type": "stream",
     "text": [
      "[[1515  182]\n",
      " [ 313 1384]]\n",
      "validation loss: 0.3312, acc: 0.8542, f1: 0.8542\n",
      "Epoch 13/300\n",
      "----------\n",
      "train :\n"
     ]
    },
    {
     "name": "stderr",
     "output_type": "stream",
     "text": [
      "100%|██████████| 20/20 [02:27<00:00,  7.38s/it]\n"
     ]
    },
    {
     "name": "stdout",
     "output_type": "stream",
     "text": [
      "train loss: 0.3441, acc: 0.8502, f1: 0.8502\n",
      "validation :\n"
     ]
    },
    {
     "name": "stderr",
     "output_type": "stream",
     "text": [
      "100%|██████████| 7/7 [00:51<00:00,  7.36s/it]\n"
     ]
    },
    {
     "name": "stdout",
     "output_type": "stream",
     "text": [
      "[[1451  246]\n",
      " [ 273 1424]]\n",
      "validation loss: 0.3341, acc: 0.8471, f1: 0.8471\n",
      "Epoch 14/300\n",
      "----------\n",
      "train :\n"
     ]
    },
    {
     "name": "stderr",
     "output_type": "stream",
     "text": [
      "100%|██████████| 20/20 [02:26<00:00,  7.35s/it]\n"
     ]
    },
    {
     "name": "stdout",
     "output_type": "stream",
     "text": [
      "train loss: 0.3381, acc: 0.8497, f1: 0.8497\n",
      "validation :\n"
     ]
    },
    {
     "name": "stderr",
     "output_type": "stream",
     "text": [
      "100%|██████████| 7/7 [00:50<00:00,  7.17s/it]\n"
     ]
    },
    {
     "name": "stdout",
     "output_type": "stream",
     "text": [
      "[[1597  100]\n",
      " [ 382 1315]]\n",
      "Saving model at epoch 13\n",
      "validation loss: 0.3323, acc: 0.8580, f1: 0.8580\n",
      "Epoch 15/300\n",
      "----------\n",
      "train :\n"
     ]
    },
    {
     "name": "stderr",
     "output_type": "stream",
     "text": [
      "100%|██████████| 20/20 [02:29<00:00,  7.48s/it]\n"
     ]
    },
    {
     "name": "stdout",
     "output_type": "stream",
     "text": [
      "train loss: 0.3383, acc: 0.8514, f1: 0.8514\n",
      "validation :\n"
     ]
    },
    {
     "name": "stderr",
     "output_type": "stream",
     "text": [
      "100%|██████████| 7/7 [00:51<00:00,  7.37s/it]\n"
     ]
    },
    {
     "name": "stdout",
     "output_type": "stream",
     "text": [
      "[[1577  120]\n",
      " [ 369 1328]]\n",
      "validation loss: 0.3341, acc: 0.8559, f1: 0.8559\n",
      "Epoch 16/300\n",
      "----------\n",
      "train :\n"
     ]
    },
    {
     "name": "stderr",
     "output_type": "stream",
     "text": [
      "100%|██████████| 20/20 [02:31<00:00,  7.56s/it]\n"
     ]
    },
    {
     "name": "stdout",
     "output_type": "stream",
     "text": [
      "train loss: 0.3399, acc: 0.8503, f1: 0.8503\n",
      "validation :\n"
     ]
    },
    {
     "name": "stderr",
     "output_type": "stream",
     "text": [
      "100%|██████████| 7/7 [00:51<00:00,  7.37s/it]\n"
     ]
    },
    {
     "name": "stdout",
     "output_type": "stream",
     "text": [
      "[[1555  142]\n",
      " [ 353 1344]]\n",
      "validation loss: 0.3327, acc: 0.8542, f1: 0.8542\n",
      "Epoch 17/300\n",
      "----------\n",
      "train :\n"
     ]
    },
    {
     "name": "stderr",
     "output_type": "stream",
     "text": [
      "100%|██████████| 20/20 [02:28<00:00,  7.40s/it]\n"
     ]
    },
    {
     "name": "stdout",
     "output_type": "stream",
     "text": [
      "train loss: 0.3373, acc: 0.8528, f1: 0.8528\n",
      "validation :\n"
     ]
    },
    {
     "name": "stderr",
     "output_type": "stream",
     "text": [
      "100%|██████████| 7/7 [00:51<00:00,  7.37s/it]\n"
     ]
    },
    {
     "name": "stdout",
     "output_type": "stream",
     "text": [
      "[[1391  306]\n",
      " [ 227 1470]]\n",
      "validation loss: 0.3429, acc: 0.8430, f1: 0.8430\n",
      "Epoch 18/300\n",
      "----------\n",
      "train :\n"
     ]
    },
    {
     "name": "stderr",
     "output_type": "stream",
     "text": [
      "100%|██████████| 20/20 [02:32<00:00,  7.62s/it]\n"
     ]
    },
    {
     "name": "stdout",
     "output_type": "stream",
     "text": [
      "train loss: 0.3407, acc: 0.8458, f1: 0.8458\n",
      "validation :\n"
     ]
    },
    {
     "name": "stderr",
     "output_type": "stream",
     "text": [
      "100%|██████████| 7/7 [00:51<00:00,  7.42s/it]\n"
     ]
    },
    {
     "name": "stdout",
     "output_type": "stream",
     "text": [
      "[[1521  176]\n",
      " [ 315 1382]]\n",
      "validation loss: 0.3262, acc: 0.8553, f1: 0.8553\n",
      "Epoch 19/300\n",
      "----------\n",
      "train :\n"
     ]
    },
    {
     "name": "stderr",
     "output_type": "stream",
     "text": [
      "100%|██████████| 20/20 [02:34<00:00,  7.72s/it]\n"
     ]
    },
    {
     "name": "stdout",
     "output_type": "stream",
     "text": [
      "train loss: 0.3400, acc: 0.8513, f1: 0.8513\n",
      "validation :\n"
     ]
    },
    {
     "name": "stderr",
     "output_type": "stream",
     "text": [
      "100%|██████████| 7/7 [00:52<00:00,  7.56s/it]\n"
     ]
    },
    {
     "name": "stdout",
     "output_type": "stream",
     "text": [
      "[[1523  174]\n",
      " [ 315 1382]]\n",
      "validation loss: 0.3273, acc: 0.8559, f1: 0.8559\n",
      "Epoch 20/300\n",
      "----------\n",
      "train :\n"
     ]
    },
    {
     "name": "stderr",
     "output_type": "stream",
     "text": [
      "100%|██████████| 20/20 [02:35<00:00,  7.76s/it]\n"
     ]
    },
    {
     "name": "stdout",
     "output_type": "stream",
     "text": [
      "train loss: 0.3292, acc: 0.8557, f1: 0.8557\n",
      "validation :\n"
     ]
    },
    {
     "name": "stderr",
     "output_type": "stream",
     "text": [
      "100%|██████████| 7/7 [00:52<00:00,  7.57s/it]\n"
     ]
    },
    {
     "name": "stdout",
     "output_type": "stream",
     "text": [
      "[[1489  208]\n",
      " [ 291 1406]]\n",
      "validation loss: 0.3307, acc: 0.8530, f1: 0.8530\n",
      "Epoch 21/300\n",
      "----------\n",
      "train :\n"
     ]
    },
    {
     "name": "stderr",
     "output_type": "stream",
     "text": [
      "100%|██████████| 20/20 [02:34<00:00,  7.74s/it]\n"
     ]
    },
    {
     "name": "stdout",
     "output_type": "stream",
     "text": [
      "train loss: 0.3312, acc: 0.8540, f1: 0.8540\n",
      "validation :\n"
     ]
    },
    {
     "name": "stderr",
     "output_type": "stream",
     "text": [
      "100%|██████████| 7/7 [00:52<00:00,  7.57s/it]\n"
     ]
    },
    {
     "name": "stdout",
     "output_type": "stream",
     "text": [
      "[[1592  105]\n",
      " [ 396 1301]]\n",
      "validation loss: 0.3364, acc: 0.8524, f1: 0.8524\n",
      "Epoch 22/300\n",
      "----------\n",
      "train :\n"
     ]
    },
    {
     "name": "stderr",
     "output_type": "stream",
     "text": [
      "100%|██████████| 20/20 [02:31<00:00,  7.56s/it]\n"
     ]
    },
    {
     "name": "stdout",
     "output_type": "stream",
     "text": [
      "train loss: 0.3325, acc: 0.8531, f1: 0.8531\n",
      "validation :\n"
     ]
    },
    {
     "name": "stderr",
     "output_type": "stream",
     "text": [
      "100%|██████████| 7/7 [00:51<00:00,  7.38s/it]\n"
     ]
    },
    {
     "name": "stdout",
     "output_type": "stream",
     "text": [
      "[[1454  243]\n",
      " [ 275 1422]]\n",
      "validation loss: 0.3331, acc: 0.8474, f1: 0.8474\n",
      "Epoch 23/300\n",
      "----------\n",
      "train :\n"
     ]
    },
    {
     "name": "stderr",
     "output_type": "stream",
     "text": [
      "100%|██████████| 20/20 [02:29<00:00,  7.45s/it]\n"
     ]
    },
    {
     "name": "stdout",
     "output_type": "stream",
     "text": [
      "train loss: 0.3390, acc: 0.8497, f1: 0.8497\n",
      "validation :\n"
     ]
    },
    {
     "name": "stderr",
     "output_type": "stream",
     "text": [
      "100%|██████████| 7/7 [00:51<00:00,  7.39s/it]\n"
     ]
    },
    {
     "name": "stdout",
     "output_type": "stream",
     "text": [
      "[[1576  121]\n",
      " [ 369 1328]]\n",
      "validation loss: 0.3313, acc: 0.8556, f1: 0.8556\n",
      "Epoch 24/300\n",
      "----------\n",
      "train :\n"
     ]
    },
    {
     "name": "stderr",
     "output_type": "stream",
     "text": [
      "100%|██████████| 20/20 [02:28<00:00,  7.41s/it]\n"
     ]
    },
    {
     "name": "stdout",
     "output_type": "stream",
     "text": [
      "train loss: 0.3307, acc: 0.8537, f1: 0.8537\n",
      "validation :\n"
     ]
    },
    {
     "name": "stderr",
     "output_type": "stream",
     "text": [
      "100%|██████████| 7/7 [00:50<00:00,  7.15s/it]\n"
     ]
    },
    {
     "name": "stdout",
     "output_type": "stream",
     "text": [
      "[[1567  130]\n",
      " [ 359 1338]]\n",
      "validation loss: 0.3273, acc: 0.8559, f1: 0.8559\n",
      "Epoch 25/300\n",
      "----------\n",
      "train :\n"
     ]
    },
    {
     "name": "stderr",
     "output_type": "stream",
     "text": [
      "100%|██████████| 20/20 [02:27<00:00,  7.38s/it]\n"
     ]
    },
    {
     "name": "stdout",
     "output_type": "stream",
     "text": [
      "train loss: 0.3274, acc: 0.8577, f1: 0.8577\n",
      "validation :\n"
     ]
    },
    {
     "name": "stderr",
     "output_type": "stream",
     "text": [
      "100%|██████████| 7/7 [00:50<00:00,  7.15s/it]\n"
     ]
    },
    {
     "name": "stdout",
     "output_type": "stream",
     "text": [
      "[[1517  180]\n",
      " [ 312 1385]]\n",
      "validation loss: 0.3264, acc: 0.8550, f1: 0.8550\n",
      "Epoch 26/300\n",
      "----------\n",
      "train :\n"
     ]
    },
    {
     "name": "stderr",
     "output_type": "stream",
     "text": [
      "100%|██████████| 20/20 [02:27<00:00,  7.40s/it]\n"
     ]
    },
    {
     "name": "stdout",
     "output_type": "stream",
     "text": [
      "train loss: 0.3362, acc: 0.8512, f1: 0.8512\n",
      "validation :\n"
     ]
    },
    {
     "name": "stderr",
     "output_type": "stream",
     "text": [
      "100%|██████████| 7/7 [00:51<00:00,  7.33s/it]\n"
     ]
    },
    {
     "name": "stdout",
     "output_type": "stream",
     "text": [
      "[[1544  153]\n",
      " [ 332 1365]]\n",
      "validation loss: 0.3269, acc: 0.8571, f1: 0.8571\n",
      "Epoch 27/300\n",
      "----------\n",
      "train :\n"
     ]
    },
    {
     "name": "stderr",
     "output_type": "stream",
     "text": [
      "100%|██████████| 20/20 [02:27<00:00,  7.39s/it]\n"
     ]
    },
    {
     "name": "stdout",
     "output_type": "stream",
     "text": [
      "train loss: 0.3437, acc: 0.8458, f1: 0.8458\n",
      "validation :\n"
     ]
    },
    {
     "name": "stderr",
     "output_type": "stream",
     "text": [
      "100%|██████████| 7/7 [00:50<00:00,  7.24s/it]\n"
     ]
    },
    {
     "name": "stdout",
     "output_type": "stream",
     "text": [
      "[[1543  154]\n",
      " [ 334 1363]]\n",
      "validation loss: 0.3260, acc: 0.8562, f1: 0.8562\n",
      "Epoch 28/300\n",
      "----------\n",
      "train :\n"
     ]
    },
    {
     "name": "stderr",
     "output_type": "stream",
     "text": [
      "100%|██████████| 20/20 [02:27<00:00,  7.40s/it]\n"
     ]
    },
    {
     "name": "stdout",
     "output_type": "stream",
     "text": [
      "train loss: 0.3347, acc: 0.8538, f1: 0.8538\n",
      "validation :\n"
     ]
    },
    {
     "name": "stderr",
     "output_type": "stream",
     "text": [
      "100%|██████████| 7/7 [00:50<00:00,  7.27s/it]\n"
     ]
    },
    {
     "name": "stdout",
     "output_type": "stream",
     "text": [
      "[[1472  225]\n",
      " [ 282 1415]]\n",
      "validation loss: 0.3315, acc: 0.8506, f1: 0.8506\n",
      "Epoch 29/300\n",
      "----------\n",
      "train :\n"
     ]
    },
    {
     "name": "stderr",
     "output_type": "stream",
     "text": [
      "100%|██████████| 20/20 [02:28<00:00,  7.41s/it]\n"
     ]
    },
    {
     "name": "stdout",
     "output_type": "stream",
     "text": [
      "train loss: 0.3317, acc: 0.8536, f1: 0.8536\n",
      "validation :\n"
     ]
    },
    {
     "name": "stderr",
     "output_type": "stream",
     "text": [
      "100%|██████████| 7/7 [00:50<00:00,  7.28s/it]\n"
     ]
    },
    {
     "name": "stdout",
     "output_type": "stream",
     "text": [
      "[[1452  245]\n",
      " [ 252 1445]]\n",
      "validation loss: 0.3307, acc: 0.8536, f1: 0.8536\n",
      "Epoch 30/300\n",
      "----------\n",
      "train :\n"
     ]
    },
    {
     "name": "stderr",
     "output_type": "stream",
     "text": [
      "100%|██████████| 20/20 [02:29<00:00,  7.47s/it]\n"
     ]
    },
    {
     "name": "stdout",
     "output_type": "stream",
     "text": [
      "train loss: 0.3290, acc: 0.8525, f1: 0.8525\n",
      "validation :\n"
     ]
    },
    {
     "name": "stderr",
     "output_type": "stream",
     "text": [
      "100%|██████████| 7/7 [00:51<00:00,  7.36s/it]\n"
     ]
    },
    {
     "name": "stdout",
     "output_type": "stream",
     "text": [
      "[[1593  104]\n",
      " [ 404 1293]]\n",
      "Early Stopping at epoch 29 \n"
     ]
    },
    {
     "ename": "TypeError",
     "evalue": "cannot unpack non-iterable VisionTransformer object",
     "output_type": "error",
     "traceback": [
      "\u001b[0;31m---------------------------------------------------------------------------\u001b[0m",
      "\u001b[0;31mTypeError\u001b[0m                                 Traceback (most recent call last)",
      "\u001b[0;32m/tmp/ipykernel_27200/2352796622.py\u001b[0m in \u001b[0;36m<module>\u001b[0;34m\u001b[0m\n\u001b[0;32m----> 1\u001b[0;31m \u001b[0mmodel_trained\u001b[0m\u001b[0;34m,\u001b[0m \u001b[0mmetrics\u001b[0m \u001b[0;34m=\u001b[0m \u001b[0mtrain_model\u001b[0m\u001b[0;34m(\u001b[0m\u001b[0mmodel\u001b[0m\u001b[0;34m,\u001b[0m \u001b[0mcriterion\u001b[0m\u001b[0;34m,\u001b[0m \u001b[0moptimizer\u001b[0m\u001b[0;34m,\u001b[0m \u001b[0mnum_epochs\u001b[0m\u001b[0;34m=\u001b[0m\u001b[0mnum_epochs\u001b[0m\u001b[0;34m)\u001b[0m\u001b[0;34m\u001b[0m\u001b[0;34m\u001b[0m\u001b[0m\n\u001b[0m",
      "\u001b[0;31mTypeError\u001b[0m: cannot unpack non-iterable VisionTransformer object"
     ]
    }
   ],
   "source": [
    "model_trained, metrics = train_model(model, criterion, optimizer, num_epochs=num_epochs)"
   ]
  },
  {
   "cell_type": "code",
   "execution_count": 19,
   "id": "0e0f4d4d",
   "metadata": {
    "tags": []
   },
   "outputs": [
    {
     "ename": "NameError",
     "evalue": "name 'metrics' is not defined",
     "output_type": "error",
     "traceback": [
      "\u001b[0;31m---------------------------------------------------------------------------\u001b[0m",
      "\u001b[0;31mNameError\u001b[0m                                 Traceback (most recent call last)",
      "\u001b[0;32m/tmp/ipykernel_27200/411651561.py\u001b[0m in \u001b[0;36m<module>\u001b[0;34m\u001b[0m\n\u001b[1;32m      1\u001b[0m \u001b[0;32mfor\u001b[0m \u001b[0mvalue\u001b[0m \u001b[0;32min\u001b[0m \u001b[0;34m[\u001b[0m\u001b[0;34m'loss'\u001b[0m\u001b[0;34m,\u001b[0m \u001b[0;34m'f1s'\u001b[0m\u001b[0;34m,\u001b[0m \u001b[0;34m'accs'\u001b[0m\u001b[0;34m]\u001b[0m\u001b[0;34m:\u001b[0m\u001b[0;34m\u001b[0m\u001b[0;34m\u001b[0m\u001b[0m\n\u001b[0;32m----> 2\u001b[0;31m     \u001b[0mtraining_value\u001b[0m \u001b[0;34m=\u001b[0m \u001b[0mmetrics\u001b[0m\u001b[0;34m[\u001b[0m\u001b[0;34mf'training_{value}'\u001b[0m\u001b[0;34m]\u001b[0m\u001b[0;34m\u001b[0m\u001b[0;34m\u001b[0m\u001b[0m\n\u001b[0m\u001b[1;32m      3\u001b[0m     \u001b[0mvalidation_value\u001b[0m \u001b[0;34m=\u001b[0m \u001b[0mmetrics\u001b[0m\u001b[0;34m[\u001b[0m\u001b[0;34mf'validation_{value}'\u001b[0m\u001b[0;34m]\u001b[0m\u001b[0;34m\u001b[0m\u001b[0;34m\u001b[0m\u001b[0m\n\u001b[1;32m      4\u001b[0m     \u001b[0msave_path\u001b[0m \u001b[0;34m=\u001b[0m \u001b[0;34mf'evaluation/{value}_graph.png'\u001b[0m\u001b[0;34m\u001b[0m\u001b[0;34m\u001b[0m\u001b[0m\n\u001b[1;32m      5\u001b[0m     \u001b[0mos\u001b[0m\u001b[0;34m.\u001b[0m\u001b[0mmakedirs\u001b[0m\u001b[0;34m(\u001b[0m\u001b[0mos\u001b[0m\u001b[0;34m.\u001b[0m\u001b[0mpath\u001b[0m\u001b[0;34m.\u001b[0m\u001b[0mdirname\u001b[0m\u001b[0;34m(\u001b[0m\u001b[0msave_path\u001b[0m\u001b[0;34m)\u001b[0m\u001b[0;34m,\u001b[0m \u001b[0mexist_ok\u001b[0m \u001b[0;34m=\u001b[0m \u001b[0;32mTrue\u001b[0m\u001b[0;34m)\u001b[0m\u001b[0;34m\u001b[0m\u001b[0;34m\u001b[0m\u001b[0m\n",
      "\u001b[0;31mNameError\u001b[0m: name 'metrics' is not defined"
     ]
    }
   ],
   "source": [
    "for value in ['loss', 'f1s', 'accs']:\n",
    "    training_value = metrics[f'training_{value}']\n",
    "    validation_value = metrics[f'validation_{value}']\n",
    "    save_path = f'evaluation/{value}_graph.png'\n",
    "    os.makedirs(os.path.dirname(save_path), exist_ok = True)\n",
    "    fig = plt.figure(figsize = (10,5))\n",
    "    plt.title(save_path)\n",
    "    plt.plot(training_value, '.')\n",
    "    plt.plot(validation_value, '.')\n",
    "    plt.show()\n",
    "    fig.savefig(save_path, facecolor = 'white')"
   ]
  },
  {
   "cell_type": "code",
   "execution_count": 14,
   "id": "ff66a754",
   "metadata": {
    "tags": []
   },
   "outputs": [],
   "source": [
    "import pandas as pd\n",
    "import numpy as np\n",
    "import matplotlib.pyplot as plt\n",
    "from sklearn.metrics import confusion_matrix, classification_report\n",
    "\n",
    "def plot_confusion_matrix(cm, labels, title='Confusion matrix', cmap=plt.cm.Blues, save_path = None):\n",
    "    #cm output from sklearn.confusion_matrix\n",
    "    fig, ax = plt.subplots(figsize = (5,5))\n",
    "    ax.imshow(cm, interpolation='nearest', cmap=cmap)\n",
    "\n",
    "    for i in range(cm.shape[0]):\n",
    "        for j in range(cm.shape[1]):\n",
    "            text = ax.text(j, i, np.round(cm[i, j], 2),\n",
    "                          ha=\"center\", va=\"center\", color=\"k\")\n",
    "    plt.title(title)\n",
    "    tick_marks = np.arange(len(labels))\n",
    "    plt.xticks(tick_marks, labels, rotation=45)\n",
    "    plt.yticks(tick_marks, labels)\n",
    "    plt.tight_layout()\n",
    "    plt.ylabel('True label')\n",
    "    plt.xlabel('Predicted label')\n",
    "    if save_path == None:\n",
    "        plt.show()\n",
    "    else:\n",
    "        plt.savefig(save_path, facecolor = 'white')\n",
    "\n",
    "def iou(target, prediction):\n",
    "    intersection = np.logical_and(target, prediction)\n",
    "    union = np.logical_or(target, prediction)\n",
    "    iou_score = np.sum(intersection) / np.sum(union)\n",
    "    return iou_score\n",
    "    \n",
    "def evaluate(y_truth, y_pred, labels, \n",
    "        save_confusion_matrix_path = 'evaluation_results/sample.png', \n",
    "        save_classification_report_path = 'evaluation_results/sample.csv'\n",
    "        ): \n",
    "    labels = [str(x) for x in labels]\n",
    "\n",
    "    print('Classification Report')\n",
    "    cls_report = classification_report(y_truth, y_pred,labels = [x for x in range(len(labels))], target_names=labels)\n",
    "    if save_classification_report_path != None:\n",
    "        df = pd.DataFrame(cls_report).transpose()\n",
    "        df.to_csv(save_classification_report_path)\n",
    "    print(cls_report)\n",
    "\n",
    "    print('Confusion Matrix')\n",
    "    plot_confusion_matrix(confusion_matrix(y_truth, y_pred, normalize = 'true'), labels = labels, save_path = save_confusion_matrix_path)\n"
   ]
  },
  {
   "cell_type": "markdown",
   "id": "62b8f78b",
   "metadata": {},
   "source": [
    "EVALUATE The last model (epoch 300)"
   ]
  },
  {
   "cell_type": "code",
   "execution_count": 15,
   "id": "0f407dc8",
   "metadata": {
    "tags": []
   },
   "outputs": [
    {
     "data": {
      "text/plain": [
       "VisionTransformer(\n",
       "  (conv_proj): Conv2d(3, 768, kernel_size=(16, 16), stride=(16, 16))\n",
       "  (encoder): Encoder(\n",
       "    (dropout): Dropout(p=0.0, inplace=False)\n",
       "    (layers): Sequential(\n",
       "      (encoder_layer_0): EncoderBlock(\n",
       "        (ln_1): LayerNorm((768,), eps=1e-06, elementwise_affine=True)\n",
       "        (self_attention): MultiheadAttention(\n",
       "          (out_proj): NonDynamicallyQuantizableLinear(in_features=768, out_features=768, bias=True)\n",
       "        )\n",
       "        (dropout): Dropout(p=0.0, inplace=False)\n",
       "        (ln_2): LayerNorm((768,), eps=1e-06, elementwise_affine=True)\n",
       "        (mlp): MLPBlock(\n",
       "          (linear_1): Linear(in_features=768, out_features=3072, bias=True)\n",
       "          (act): GELU()\n",
       "          (dropout_1): Dropout(p=0.0, inplace=False)\n",
       "          (linear_2): Linear(in_features=3072, out_features=768, bias=True)\n",
       "          (dropout_2): Dropout(p=0.0, inplace=False)\n",
       "        )\n",
       "      )\n",
       "      (encoder_layer_1): EncoderBlock(\n",
       "        (ln_1): LayerNorm((768,), eps=1e-06, elementwise_affine=True)\n",
       "        (self_attention): MultiheadAttention(\n",
       "          (out_proj): NonDynamicallyQuantizableLinear(in_features=768, out_features=768, bias=True)\n",
       "        )\n",
       "        (dropout): Dropout(p=0.0, inplace=False)\n",
       "        (ln_2): LayerNorm((768,), eps=1e-06, elementwise_affine=True)\n",
       "        (mlp): MLPBlock(\n",
       "          (linear_1): Linear(in_features=768, out_features=3072, bias=True)\n",
       "          (act): GELU()\n",
       "          (dropout_1): Dropout(p=0.0, inplace=False)\n",
       "          (linear_2): Linear(in_features=3072, out_features=768, bias=True)\n",
       "          (dropout_2): Dropout(p=0.0, inplace=False)\n",
       "        )\n",
       "      )\n",
       "      (encoder_layer_2): EncoderBlock(\n",
       "        (ln_1): LayerNorm((768,), eps=1e-06, elementwise_affine=True)\n",
       "        (self_attention): MultiheadAttention(\n",
       "          (out_proj): NonDynamicallyQuantizableLinear(in_features=768, out_features=768, bias=True)\n",
       "        )\n",
       "        (dropout): Dropout(p=0.0, inplace=False)\n",
       "        (ln_2): LayerNorm((768,), eps=1e-06, elementwise_affine=True)\n",
       "        (mlp): MLPBlock(\n",
       "          (linear_1): Linear(in_features=768, out_features=3072, bias=True)\n",
       "          (act): GELU()\n",
       "          (dropout_1): Dropout(p=0.0, inplace=False)\n",
       "          (linear_2): Linear(in_features=3072, out_features=768, bias=True)\n",
       "          (dropout_2): Dropout(p=0.0, inplace=False)\n",
       "        )\n",
       "      )\n",
       "      (encoder_layer_3): EncoderBlock(\n",
       "        (ln_1): LayerNorm((768,), eps=1e-06, elementwise_affine=True)\n",
       "        (self_attention): MultiheadAttention(\n",
       "          (out_proj): NonDynamicallyQuantizableLinear(in_features=768, out_features=768, bias=True)\n",
       "        )\n",
       "        (dropout): Dropout(p=0.0, inplace=False)\n",
       "        (ln_2): LayerNorm((768,), eps=1e-06, elementwise_affine=True)\n",
       "        (mlp): MLPBlock(\n",
       "          (linear_1): Linear(in_features=768, out_features=3072, bias=True)\n",
       "          (act): GELU()\n",
       "          (dropout_1): Dropout(p=0.0, inplace=False)\n",
       "          (linear_2): Linear(in_features=3072, out_features=768, bias=True)\n",
       "          (dropout_2): Dropout(p=0.0, inplace=False)\n",
       "        )\n",
       "      )\n",
       "      (encoder_layer_4): EncoderBlock(\n",
       "        (ln_1): LayerNorm((768,), eps=1e-06, elementwise_affine=True)\n",
       "        (self_attention): MultiheadAttention(\n",
       "          (out_proj): NonDynamicallyQuantizableLinear(in_features=768, out_features=768, bias=True)\n",
       "        )\n",
       "        (dropout): Dropout(p=0.0, inplace=False)\n",
       "        (ln_2): LayerNorm((768,), eps=1e-06, elementwise_affine=True)\n",
       "        (mlp): MLPBlock(\n",
       "          (linear_1): Linear(in_features=768, out_features=3072, bias=True)\n",
       "          (act): GELU()\n",
       "          (dropout_1): Dropout(p=0.0, inplace=False)\n",
       "          (linear_2): Linear(in_features=3072, out_features=768, bias=True)\n",
       "          (dropout_2): Dropout(p=0.0, inplace=False)\n",
       "        )\n",
       "      )\n",
       "      (encoder_layer_5): EncoderBlock(\n",
       "        (ln_1): LayerNorm((768,), eps=1e-06, elementwise_affine=True)\n",
       "        (self_attention): MultiheadAttention(\n",
       "          (out_proj): NonDynamicallyQuantizableLinear(in_features=768, out_features=768, bias=True)\n",
       "        )\n",
       "        (dropout): Dropout(p=0.0, inplace=False)\n",
       "        (ln_2): LayerNorm((768,), eps=1e-06, elementwise_affine=True)\n",
       "        (mlp): MLPBlock(\n",
       "          (linear_1): Linear(in_features=768, out_features=3072, bias=True)\n",
       "          (act): GELU()\n",
       "          (dropout_1): Dropout(p=0.0, inplace=False)\n",
       "          (linear_2): Linear(in_features=3072, out_features=768, bias=True)\n",
       "          (dropout_2): Dropout(p=0.0, inplace=False)\n",
       "        )\n",
       "      )\n",
       "      (encoder_layer_6): EncoderBlock(\n",
       "        (ln_1): LayerNorm((768,), eps=1e-06, elementwise_affine=True)\n",
       "        (self_attention): MultiheadAttention(\n",
       "          (out_proj): NonDynamicallyQuantizableLinear(in_features=768, out_features=768, bias=True)\n",
       "        )\n",
       "        (dropout): Dropout(p=0.0, inplace=False)\n",
       "        (ln_2): LayerNorm((768,), eps=1e-06, elementwise_affine=True)\n",
       "        (mlp): MLPBlock(\n",
       "          (linear_1): Linear(in_features=768, out_features=3072, bias=True)\n",
       "          (act): GELU()\n",
       "          (dropout_1): Dropout(p=0.0, inplace=False)\n",
       "          (linear_2): Linear(in_features=3072, out_features=768, bias=True)\n",
       "          (dropout_2): Dropout(p=0.0, inplace=False)\n",
       "        )\n",
       "      )\n",
       "      (encoder_layer_7): EncoderBlock(\n",
       "        (ln_1): LayerNorm((768,), eps=1e-06, elementwise_affine=True)\n",
       "        (self_attention): MultiheadAttention(\n",
       "          (out_proj): NonDynamicallyQuantizableLinear(in_features=768, out_features=768, bias=True)\n",
       "        )\n",
       "        (dropout): Dropout(p=0.0, inplace=False)\n",
       "        (ln_2): LayerNorm((768,), eps=1e-06, elementwise_affine=True)\n",
       "        (mlp): MLPBlock(\n",
       "          (linear_1): Linear(in_features=768, out_features=3072, bias=True)\n",
       "          (act): GELU()\n",
       "          (dropout_1): Dropout(p=0.0, inplace=False)\n",
       "          (linear_2): Linear(in_features=3072, out_features=768, bias=True)\n",
       "          (dropout_2): Dropout(p=0.0, inplace=False)\n",
       "        )\n",
       "      )\n",
       "      (encoder_layer_8): EncoderBlock(\n",
       "        (ln_1): LayerNorm((768,), eps=1e-06, elementwise_affine=True)\n",
       "        (self_attention): MultiheadAttention(\n",
       "          (out_proj): NonDynamicallyQuantizableLinear(in_features=768, out_features=768, bias=True)\n",
       "        )\n",
       "        (dropout): Dropout(p=0.0, inplace=False)\n",
       "        (ln_2): LayerNorm((768,), eps=1e-06, elementwise_affine=True)\n",
       "        (mlp): MLPBlock(\n",
       "          (linear_1): Linear(in_features=768, out_features=3072, bias=True)\n",
       "          (act): GELU()\n",
       "          (dropout_1): Dropout(p=0.0, inplace=False)\n",
       "          (linear_2): Linear(in_features=3072, out_features=768, bias=True)\n",
       "          (dropout_2): Dropout(p=0.0, inplace=False)\n",
       "        )\n",
       "      )\n",
       "      (encoder_layer_9): EncoderBlock(\n",
       "        (ln_1): LayerNorm((768,), eps=1e-06, elementwise_affine=True)\n",
       "        (self_attention): MultiheadAttention(\n",
       "          (out_proj): NonDynamicallyQuantizableLinear(in_features=768, out_features=768, bias=True)\n",
       "        )\n",
       "        (dropout): Dropout(p=0.0, inplace=False)\n",
       "        (ln_2): LayerNorm((768,), eps=1e-06, elementwise_affine=True)\n",
       "        (mlp): MLPBlock(\n",
       "          (linear_1): Linear(in_features=768, out_features=3072, bias=True)\n",
       "          (act): GELU()\n",
       "          (dropout_1): Dropout(p=0.0, inplace=False)\n",
       "          (linear_2): Linear(in_features=3072, out_features=768, bias=True)\n",
       "          (dropout_2): Dropout(p=0.0, inplace=False)\n",
       "        )\n",
       "      )\n",
       "      (encoder_layer_10): EncoderBlock(\n",
       "        (ln_1): LayerNorm((768,), eps=1e-06, elementwise_affine=True)\n",
       "        (self_attention): MultiheadAttention(\n",
       "          (out_proj): NonDynamicallyQuantizableLinear(in_features=768, out_features=768, bias=True)\n",
       "        )\n",
       "        (dropout): Dropout(p=0.0, inplace=False)\n",
       "        (ln_2): LayerNorm((768,), eps=1e-06, elementwise_affine=True)\n",
       "        (mlp): MLPBlock(\n",
       "          (linear_1): Linear(in_features=768, out_features=3072, bias=True)\n",
       "          (act): GELU()\n",
       "          (dropout_1): Dropout(p=0.0, inplace=False)\n",
       "          (linear_2): Linear(in_features=3072, out_features=768, bias=True)\n",
       "          (dropout_2): Dropout(p=0.0, inplace=False)\n",
       "        )\n",
       "      )\n",
       "      (encoder_layer_11): EncoderBlock(\n",
       "        (ln_1): LayerNorm((768,), eps=1e-06, elementwise_affine=True)\n",
       "        (self_attention): MultiheadAttention(\n",
       "          (out_proj): NonDynamicallyQuantizableLinear(in_features=768, out_features=768, bias=True)\n",
       "        )\n",
       "        (dropout): Dropout(p=0.0, inplace=False)\n",
       "        (ln_2): LayerNorm((768,), eps=1e-06, elementwise_affine=True)\n",
       "        (mlp): MLPBlock(\n",
       "          (linear_1): Linear(in_features=768, out_features=3072, bias=True)\n",
       "          (act): GELU()\n",
       "          (dropout_1): Dropout(p=0.0, inplace=False)\n",
       "          (linear_2): Linear(in_features=3072, out_features=768, bias=True)\n",
       "          (dropout_2): Dropout(p=0.0, inplace=False)\n",
       "        )\n",
       "      )\n",
       "    )\n",
       "    (ln): LayerNorm((768,), eps=1e-06, elementwise_affine=True)\n",
       "  )\n",
       "  (heads): Sequential(\n",
       "    (0): Linear(in_features=768, out_features=2, bias=True)\n",
       "  )\n",
       ")"
      ]
     },
     "execution_count": 15,
     "metadata": {},
     "output_type": "execute_result"
    }
   ],
   "source": [
    "#Evaluation model with 200 epochs on both train and val dataset\n",
    "model_trained = torch.load(f'{model_save_path}/last_model.pth')\n",
    "model_trained.eval()"
   ]
  },
  {
   "cell_type": "code",
   "execution_count": 16,
   "id": "0dc50d4f",
   "metadata": {},
   "outputs": [
    {
     "name": "stdout",
     "output_type": "stream",
     "text": [
      "cuda:0\n"
     ]
    }
   ],
   "source": [
    "device = torch.device(\"cuda:0\" if torch.cuda.is_available() else \"cpu\")\n",
    "print(device)\n"
   ]
  },
  {
   "cell_type": "code",
   "execution_count": 23,
   "id": "0837d6bf",
   "metadata": {
    "tags": []
   },
   "outputs": [
    {
     "name": "stdout",
     "output_type": "stream",
     "text": [
      "cuda:0\n"
     ]
    },
    {
     "name": "stderr",
     "output_type": "stream",
     "text": [
      "100%|██████████| 20/20 [02:27<00:00,  7.39s/it]\n"
     ]
    },
    {
     "name": "stdout",
     "output_type": "stream",
     "text": [
      "Classification Report\n",
      "              precision    recall  f1-score   support\n",
      "\n",
      "           0       0.80      0.94      0.87      5090\n",
      "           1       0.93      0.77      0.84      5090\n",
      "\n",
      "    accuracy                           0.85     10180\n",
      "   macro avg       0.86      0.85      0.85     10180\n",
      "weighted avg       0.86      0.85      0.85     10180\n",
      "\n",
      "Confusion Matrix\n"
     ]
    },
    {
     "data": {
      "image/png": "[encoded data removed]",
      "text/plain": [
       "<Figure size 360x360 with 1 Axes>"
      ]
     },
     "metadata": {
      "needs_background": "light"
     },
     "output_type": "display_data"
    }
   ],
   "source": [
    "device = torch.device(\"cuda:0\" if torch.cuda.is_available() else \"cpu\")\n",
    "print(device)\n",
    "\n",
    "#Inference\n",
    "model_trained.eval().to(device)\n",
    "pred_c = np.array([])\n",
    "label_c = np.array([])\n",
    "\n",
    "for inputs, labels in tqdm(dataloaders['train']):\n",
    "    inputs = inputs.to(device)\n",
    "    labels = labels.to(device)\n",
    "    outputs = model_trained(inputs)\n",
    "    _, preds = torch.max(outputs, 1)\n",
    "    \n",
    "    label_c = np.concatenate((label_c, labels.cpu().numpy()))\n",
    "    pred_c = np.concatenate((pred_c, preds.data.cpu().numpy()))\n",
    "labels = ['0', '1'] \n",
    "evaluate(label_c, pred_c, labels, \n",
    "        save_confusion_matrix_path = 'evaluation/train_last_model.png', \n",
    "        save_classification_report_path = None,\n",
    "        )"
   ]
  },
  {
   "cell_type": "code",
   "execution_count": 24,
   "id": "9deb043b",
   "metadata": {
    "tags": []
   },
   "outputs": [
    {
     "name": "stderr",
     "output_type": "stream",
     "text": [
      "100%|██████████| 7/7 [00:52<00:00,  7.45s/it]\n"
     ]
    },
    {
     "name": "stdout",
     "output_type": "stream",
     "text": [
      "Classification Report\n",
      "              precision    recall  f1-score   support\n",
      "\n",
      "           0       0.80      0.94      0.86      1697\n",
      "           1       0.93      0.76      0.84      1697\n",
      "\n",
      "    accuracy                           0.85      3394\n",
      "   macro avg       0.86      0.85      0.85      3394\n",
      "weighted avg       0.86      0.85      0.85      3394\n",
      "\n",
      "Confusion Matrix\n"
     ]
    },
    {
     "data": {
      "image/png": "[encoded data removed]",
      "text/plain": [
       "<Figure size 360x360 with 1 Axes>"
      ]
     },
     "metadata": {
      "needs_background": "light"
     },
     "output_type": "display_data"
    }
   ],
   "source": [
    "pred_c = np.array([])\n",
    "label_c = np.array([])\n",
    "\n",
    "for inputs, labels in tqdm(dataloaders['validation']):\n",
    "    inputs = inputs.to(device)\n",
    "    labels = labels.to(device)\n",
    "    outputs = model_trained(inputs)\n",
    "    _, preds = torch.max(outputs, 1)\n",
    "    \n",
    "    label_c = np.concatenate((label_c, labels.cpu().numpy()))\n",
    "    pred_c = np.concatenate((pred_c, preds.data.cpu().numpy()))\n",
    "labels = ['0', '1'] \n",
    "evaluate(label_c, pred_c, labels, \n",
    "        save_confusion_matrix_path = 'evaluation/val_last_model.png', \n",
    "        save_classification_report_path = None,\n",
    "        )"
   ]
  },
  {
   "cell_type": "code",
   "execution_count": 17,
   "id": "6a2f5fc4",
   "metadata": {
    "tags": []
   },
   "outputs": [
    {
     "name": "stderr",
     "output_type": "stream",
     "text": [
      "100%|██████████| 84/84 [08:49<00:00,  6.30s/it]\n"
     ]
    },
    {
     "name": "stdout",
     "output_type": "stream",
     "text": [
      "Classification Report\n",
      "              precision    recall  f1-score   support\n",
      "\n",
      "           0       0.99      0.93      0.96     40821\n",
      "           1       0.31      0.76      0.44      1697\n",
      "\n",
      "    accuracy                           0.92     42518\n",
      "   macro avg       0.65      0.84      0.70     42518\n",
      "weighted avg       0.96      0.92      0.94     42518\n",
      "\n",
      "Confusion Matrix\n"
     ]
    },
    {
     "data": {
      "image/png": "[encoded data removed]",
      "text/plain": [
       "<Figure size 360x360 with 1 Axes>"
      ]
     },
     "metadata": {
      "needs_background": "light"
     },
     "output_type": "display_data"
    }
   ],
   "source": [
    "pred_c = np.array([])\n",
    "label_c = np.array([])\n",
    "\n",
    "for inputs, labels in tqdm(dataloaders['test']):\n",
    "    inputs = inputs.to(device)\n",
    "    labels = labels.to(device)\n",
    "    outputs = model_trained(inputs)\n",
    "    _, preds = torch.max(outputs, 1)\n",
    "    \n",
    "    label_c = np.concatenate((label_c, labels.cpu().numpy()))\n",
    "    pred_c = np.concatenate((pred_c, preds.data.cpu().numpy()))\n",
    "labels = ['0', '1'] \n",
    "evaluate(label_c, pred_c, labels, \n",
    "        save_confusion_matrix_path = 'evaluation/test_last_model.png', \n",
    "        save_classification_report_path = None,\n",
    "        )"
   ]
  },
  {
   "cell_type": "markdown",
   "id": "7b5bd95d",
   "metadata": {},
   "source": [
    "EVALUATE The Best F1 model"
   ]
  },
  {
   "cell_type": "code",
   "execution_count": 18,
   "id": "c3583017",
   "metadata": {
    "tags": []
   },
   "outputs": [
    {
     "name": "stdout",
     "output_type": "stream",
     "text": [
      "cuda:0\n"
     ]
    },
    {
     "name": "stderr",
     "output_type": "stream",
     "text": [
      "100%|██████████| 20/20 [02:01<00:00,  6.10s/it]\n"
     ]
    },
    {
     "name": "stdout",
     "output_type": "stream",
     "text": [
      "Classification Report\n",
      "              precision    recall  f1-score   support\n",
      "\n",
      "           0       0.81      0.93      0.86      5090\n",
      "           1       0.91      0.78      0.84      5090\n",
      "\n",
      "    accuracy                           0.85     10180\n",
      "   macro avg       0.86      0.85      0.85     10180\n",
      "weighted avg       0.86      0.85      0.85     10180\n",
      "\n",
      "Confusion Matrix\n"
     ]
    },
    {
     "data": {
      "image/png": "[encoded data removed]",
      "text/plain": [
       "<Figure size 360x360 with 1 Axes>"
      ]
     },
     "metadata": {
      "needs_background": "light"
     },
     "output_type": "display_data"
    }
   ],
   "source": [
    "#Eval best model\n",
    "model_trained = torch.load(f'{model_save_path}/best_model_epoch13.pth')\n",
    "model_trained.eval()\n",
    "\n",
    "device = torch.device(\"cuda:0\" if torch.cuda.is_available() else \"cpu\")\n",
    "print(device)\n",
    "\n",
    "#Inference\n",
    "model_trained.eval().to(device)\n",
    "pred_c = np.array([])\n",
    "label_c = np.array([])\n",
    "\n",
    "for inputs, labels in tqdm(dataloaders['train']):\n",
    "    inputs = inputs.to(device)\n",
    "    labels = labels.to(device)\n",
    "    outputs = model_trained(inputs)\n",
    "    _, preds = torch.max(outputs, 1)\n",
    "    \n",
    "    label_c = np.concatenate((label_c, labels.cpu().numpy()))\n",
    "    pred_c = np.concatenate((pred_c, preds.data.cpu().numpy()))\n",
    "labels = ['0', '1'] \n",
    "evaluate(label_c, pred_c, labels, \n",
    "        save_confusion_matrix_path = 'evaluation/train_best_model.png', \n",
    "        save_classification_report_path = None,\n",
    "        )"
   ]
  },
  {
   "cell_type": "code",
   "execution_count": 19,
   "id": "aede0011",
   "metadata": {
    "tags": []
   },
   "outputs": [
    {
     "name": "stderr",
     "output_type": "stream",
     "text": [
      "100%|██████████| 7/7 [00:42<00:00,  6.06s/it]\n"
     ]
    },
    {
     "name": "stdout",
     "output_type": "stream",
     "text": [
      "Classification Report\n",
      "              precision    recall  f1-score   support\n",
      "\n",
      "           0       0.81      0.94      0.87      1697\n",
      "           1       0.93      0.77      0.85      1697\n",
      "\n",
      "    accuracy                           0.86      3394\n",
      "   macro avg       0.87      0.86      0.86      3394\n",
      "weighted avg       0.87      0.86      0.86      3394\n",
      "\n",
      "Confusion Matrix\n"
     ]
    },
    {
     "data": {
      "image/png": "[encoded data removed]",
      "text/plain": [
       "<Figure size 360x360 with 1 Axes>"
      ]
     },
     "metadata": {
      "needs_background": "light"
     },
     "output_type": "display_data"
    }
   ],
   "source": [
    "pred_c = np.array([])\n",
    "label_c = np.array([])\n",
    "\n",
    "for inputs, labels in tqdm(dataloaders['validation']):\n",
    "    inputs = inputs.to(device)\n",
    "    labels = labels.to(device)\n",
    "    outputs = model_trained(inputs)\n",
    "    _, preds = torch.max(outputs, 1)\n",
    "    \n",
    "    label_c = np.concatenate((label_c, labels.cpu().numpy()))\n",
    "    pred_c = np.concatenate((pred_c, preds.data.cpu().numpy()))\n",
    "labels = ['0', '1'] \n",
    "evaluate(label_c, pred_c, labels, \n",
    "        save_confusion_matrix_path = 'evaluation/val_best_model.png', \n",
    "        save_classification_report_path = None,\n",
    "        )"
   ]
  },
  {
   "cell_type": "code",
   "execution_count": 20,
   "id": "7338f20b",
   "metadata": {
    "tags": []
   },
   "outputs": [
    {
     "name": "stderr",
     "output_type": "stream",
     "text": [
      "100%|██████████| 84/84 [08:36<00:00,  6.14s/it]\n"
     ]
    },
    {
     "name": "stdout",
     "output_type": "stream",
     "text": [
      "Classification Report\n",
      "              precision    recall  f1-score   support\n",
      "\n",
      "           0       0.99      0.92      0.96     40821\n",
      "           1       0.30      0.76      0.43      1697\n",
      "\n",
      "    accuracy                           0.92     42518\n",
      "   macro avg       0.64      0.84      0.69     42518\n",
      "weighted avg       0.96      0.92      0.93     42518\n",
      "\n",
      "Confusion Matrix\n"
     ]
    },
    {
     "data": {
      "image/png": "[encoded data removed]",
      "text/plain": [
       "<Figure size 360x360 with 1 Axes>"
      ]
     },
     "metadata": {
      "needs_background": "light"
     },
     "output_type": "display_data"
    }
   ],
   "source": [
    "pred_c = np.array([])\n",
    "label_c = np.array([])\n",
    "\n",
    "for inputs, labels in tqdm(dataloaders['test']):\n",
    "    inputs = inputs.to(device)\n",
    "    labels = labels.to(device)\n",
    "    outputs = model_trained(inputs)\n",
    "    _, preds = torch.max(outputs, 1)\n",
    "    \n",
    "    label_c = np.concatenate((label_c, labels.cpu().numpy()))\n",
    "    pred_c = np.concatenate((pred_c, preds.data.cpu().numpy()))\n",
    "labels = ['0', '1'] \n",
    "evaluate(label_c, pred_c, labels, \n",
    "        save_confusion_matrix_path = 'evaluation/test_best_model.png', \n",
    "        save_classification_report_path = None,\n",
    "        )"
   ]
  },
  {
   "cell_type": "code",
   "execution_count": 21,
   "id": "48f58fce",
   "metadata": {
    "tags": []
   },
   "outputs": [
    {
     "name": "stderr",
     "output_type": "stream",
     "text": [
      "100%|██████████| 110/110 [11:07<00:00,  6.07s/it]\n"
     ]
    },
    {
     "name": "stdout",
     "output_type": "stream",
     "text": [
      "Classification Report\n",
      "              precision    recall  f1-score   support\n",
      "\n",
      "           0       0.96      0.93      0.94     47608\n",
      "           1       0.65      0.78      0.71      8484\n",
      "\n",
      "    accuracy                           0.90     56092\n",
      "   macro avg       0.80      0.85      0.82     56092\n",
      "weighted avg       0.91      0.90      0.91     56092\n",
      "\n",
      "Confusion Matrix\n"
     ]
    },
    {
     "data": {
      "image/png": "[encoded data removed]",
      "text/plain": [
       "<Figure size 360x360 with 1 Axes>"
      ]
     },
     "metadata": {
      "needs_background": "light"
     },
     "output_type": "display_data"
    }
   ],
   "source": [
    "#Eval best model\n",
    "# all_models = glob.glob(f'{model_save_path}/best_model_epoch*')\n",
    "\n",
    "# model_trained = torch.load(all_models[0])\n",
    "# model_trained.eval()\n",
    "\n",
    "pred_c = np.array([])\n",
    "label_c = np.array([])\n",
    "\n",
    "for inputs, labels in tqdm(dataloaders['full']):\n",
    "    inputs = inputs.to(device)\n",
    "    labels = labels.to(device)\n",
    "    outputs = model_trained(inputs)\n",
    "    _, preds = torch.max(outputs, 1)\n",
    "    \n",
    "    label_c = np.concatenate((label_c, labels.cpu().numpy()))\n",
    "    pred_c = np.concatenate((pred_c, preds.data.cpu().numpy()))\n",
    "labels = ['0', '1'] \n",
    "evaluate(label_c, pred_c, labels, \n",
    "        save_confusion_matrix_path = 'evaluation/fullSDNet_best_model.png', \n",
    "        save_classification_report_path = None,\n",
    "        )"
   ]
  },
  {
   "cell_type": "code",
   "execution_count": null,
   "id": "3d871dfe",
   "metadata": {
    "execution": {
     "iopub.status.busy": "2022-06-01T23:32:23.906136Z",
     "iopub.status.idle": "2022-06-01T23:32:23.906353Z",
     "shell.execute_reply": "2022-06-01T23:32:23.906251Z",
     "shell.execute_reply.started": "2022-06-01T23:32:23.906240Z"
    }
   },
   "outputs": [],
   "source": [
    "# del model_trained\n",
    "# torch.cuda.empty_cache()"
   ]
  },
  {
   "cell_type": "code",
   "execution_count": null,
   "id": "310ed52b",
   "metadata": {
    "execution": {
     "iopub.status.busy": "2022-06-01T23:32:23.907341Z",
     "iopub.status.idle": "2022-06-01T23:32:23.907700Z",
     "shell.execute_reply": "2022-06-01T23:32:23.907566Z",
     "shell.execute_reply.started": "2022-06-01T23:32:23.907551Z"
    }
   },
   "outputs": [],
   "source": [
    "print(1)"
   ]
  },
  {
   "cell_type": "code",
   "execution_count": null,
   "id": "c5f276f8",
   "metadata": {},
   "outputs": [],
   "source": []
  },
  {
   "cell_type": "code",
   "execution_count": null,
   "id": "e79dffe5",
   "metadata": {},
   "outputs": [],
   "source": []
  },
  {
   "cell_type": "code",
   "execution_count": null,
   "id": "1864f54d",
   "metadata": {},
   "outputs": [],
   "source": []
  },
  {
   "cell_type": "code",
   "execution_count": null,
   "id": "d459c907",
   "metadata": {},
   "outputs": [],
   "source": []
  }
 ],
 "metadata": {
  "interpreter": {
   "hash": "3c1f51487d8a055fea90b37fa3b43d5a61376641bd8f503a1f79d6e81aa7dcb1"
  },
  "kernelspec": {
   "display_name": "saturn (Python 3)",
   "language": "python",
   "name": "python3"
  },
  "language_info": {
   "codemirror_mode": {
    "name": "ipython",
    "version": 3
   },
   "file_extension": ".py",
   "mimetype": "text/x-python",
   "name": "python",
   "nbconvert_exporter": "python",
   "pygments_lexer": "ipython3",
   "version": "3.9.7"
  }
 },
 "nbformat": 4,
 "nbformat_minor": 5
}
